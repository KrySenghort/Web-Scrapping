{
 "cells": [
  {
   "attachments": {},
   "cell_type": "markdown",
   "metadata": {},
   "source": [
    "## <font color = yellow>1. Read data from file"
   ]
  },
  {
   "cell_type": "code",
   "execution_count": 155,
   "metadata": {},
   "outputs": [],
   "source": [
    "import numpy as np\n",
    "import pandas as pd\n",
    "import matplotlib.pyplot as plt\n",
    "import seaborn as sns\n",
    "import matplotlib.gridspec as gridspec\n",
    "from matplotlib import cm\n",
    "import plotly.express as px\n",
    "from sklearn.neighbors import NearestNeighbors"
   ]
  },
  {
   "cell_type": "code",
   "execution_count": 156,
   "metadata": {},
   "outputs": [
    {
     "data": {
      "text/html": [
       "<div>\n",
       "<style scoped>\n",
       "    .dataframe tbody tr th:only-of-type {\n",
       "        vertical-align: middle;\n",
       "    }\n",
       "\n",
       "    .dataframe tbody tr th {\n",
       "        vertical-align: top;\n",
       "    }\n",
       "\n",
       "    .dataframe thead th {\n",
       "        text-align: right;\n",
       "    }\n",
       "</style>\n",
       "<table border=\"1\" class=\"dataframe\">\n",
       "  <thead>\n",
       "    <tr style=\"text-align: right;\">\n",
       "      <th></th>\n",
       "      <th>Index</th>\n",
       "      <th>Tour_Name</th>\n",
       "      <th>Tour_Type</th>\n",
       "      <th>Number_of_Reviewer</th>\n",
       "      <th>Rating</th>\n",
       "      <th>Duration</th>\n",
       "      <th>Price</th>\n",
       "      <th>Highlight</th>\n",
       "      <th>Location</th>\n",
       "    </tr>\n",
       "  </thead>\n",
       "  <tbody>\n",
       "    <tr>\n",
       "      <th>0</th>\n",
       "      <td>1</td>\n",
       "      <td>Phare: The Cambodian Circus Show in Siem Reap</td>\n",
       "      <td>Comedy Shows</td>\n",
       "      <td>992.0</td>\n",
       "      <td>5.0</td>\n",
       "      <td>1</td>\n",
       "      <td>18.00</td>\n",
       "      <td>Siem Reap's most original, authentic live perf...</td>\n",
       "      <td>Asia, Cambodia, Siem Reap Province, Siem Reap,...</td>\n",
       "    </tr>\n",
       "    <tr>\n",
       "      <th>1</th>\n",
       "      <td>2</td>\n",
       "      <td>Khmer Gourmet Cooking Class</td>\n",
       "      <td>Cooking Classes</td>\n",
       "      <td>55.0</td>\n",
       "      <td>5.0</td>\n",
       "      <td>3</td>\n",
       "      <td>21.50</td>\n",
       "      <td>In-person guide</td>\n",
       "      <td>Asia, Cambodia, Siem Reap Province, Siem Reap,...</td>\n",
       "    </tr>\n",
       "    <tr>\n",
       "      <th>2</th>\n",
       "      <td>3</td>\n",
       "      <td>Koh Ker &amp; Beng Mealea Full-Day Join-in Tour</td>\n",
       "      <td>Full-day Tours</td>\n",
       "      <td>288.0</td>\n",
       "      <td>5.0</td>\n",
       "      <td>10</td>\n",
       "      <td>50.00</td>\n",
       "      <td>Cold towels &amp; Bottled water, Professional Engl...</td>\n",
       "      <td>Asia, Cambodia, Siem Reap Province, Siem Reap,...</td>\n",
       "    </tr>\n",
       "    <tr>\n",
       "      <th>3</th>\n",
       "      <td>4</td>\n",
       "      <td>Kampot Day Tour \"Bokor National Park\"</td>\n",
       "      <td>Adventure Tours</td>\n",
       "      <td>18.0</td>\n",
       "      <td>4.5</td>\n",
       "      <td>5</td>\n",
       "      <td>36.00</td>\n",
       "      <td>Transportation: Tuk Tuk, English speaking driv...</td>\n",
       "      <td>Asia, Cambodia, Kampot Province, Kampot, Thing...</td>\n",
       "    </tr>\n",
       "    <tr>\n",
       "      <th>4</th>\n",
       "      <td>5</td>\n",
       "      <td>Bike the Siem Reap Countryside with Local Expert</td>\n",
       "      <td>Adventure Tours</td>\n",
       "      <td>308.0</td>\n",
       "      <td>5.0</td>\n",
       "      <td>5</td>\n",
       "      <td>35.00</td>\n",
       "      <td>Hotel pick up &amp; Drop Off, Professional local E...</td>\n",
       "      <td>Asia, Cambodia, Siem Reap Province, Siem Reap,...</td>\n",
       "    </tr>\n",
       "    <tr>\n",
       "      <th>...</th>\n",
       "      <td>...</td>\n",
       "      <td>...</td>\n",
       "      <td>...</td>\n",
       "      <td>...</td>\n",
       "      <td>...</td>\n",
       "      <td>...</td>\n",
       "      <td>...</td>\n",
       "      <td>...</td>\n",
       "      <td>...</td>\n",
       "    </tr>\n",
       "    <tr>\n",
       "      <th>4780</th>\n",
       "      <td>4781</td>\n",
       "      <td>Koh Khe Beng Mealea less crowded Private Tour</td>\n",
       "      <td>Museum Tickets &amp; Passes</td>\n",
       "      <td>NaN</td>\n",
       "      <td>NaN</td>\n",
       "      <td>10</td>\n",
       "      <td>NaN</td>\n",
       "      <td>English Speaking Tour guide, air conditioner c...</td>\n",
       "      <td>Siem Reap, Cambodia</td>\n",
       "    </tr>\n",
       "    <tr>\n",
       "      <th>4781</th>\n",
       "      <td>4782</td>\n",
       "      <td>Special Angkor Sunrise &amp; Sunset Tour</td>\n",
       "      <td>Full-day Tours</td>\n",
       "      <td>NaN</td>\n",
       "      <td>NaN</td>\n",
       "      <td>9</td>\n",
       "      <td>61.54</td>\n",
       "      <td>English speaking tourist guide, Hotel pick up ...</td>\n",
       "      <td>Siem Reap, Cambodia</td>\n",
       "    </tr>\n",
       "    <tr>\n",
       "      <th>4782</th>\n",
       "      <td>4783</td>\n",
       "      <td>Most Amazing Angkor Tour</td>\n",
       "      <td>Adventure Tours</td>\n",
       "      <td>1.0</td>\n",
       "      <td>5.0</td>\n",
       "      <td>12</td>\n",
       "      <td>NaN</td>\n",
       "      <td>Guided Tour</td>\n",
       "      <td>Krong Siem Reap, Cambodia</td>\n",
       "    </tr>\n",
       "    <tr>\n",
       "      <th>4783</th>\n",
       "      <td>4784</td>\n",
       "      <td>Amazing Koh Ker And Beng Mealea Tour</td>\n",
       "      <td>Full-day Tours</td>\n",
       "      <td>NaN</td>\n",
       "      <td>NaN</td>\n",
       "      <td>9</td>\n",
       "      <td>90.00</td>\n",
       "      <td>English speaking tourist guide, Private transp...</td>\n",
       "      <td>Siem Reap, Cambodia</td>\n",
       "    </tr>\n",
       "    <tr>\n",
       "      <th>4784</th>\n",
       "      <td>4785</td>\n",
       "      <td>Siem Reap - Our famous French Building Provinc...</td>\n",
       "      <td>Hiking Tours</td>\n",
       "      <td>1.0</td>\n",
       "      <td>5.0</td>\n",
       "      <td>8</td>\n",
       "      <td>173.08</td>\n",
       "      <td>English Local Tour Guide (Licensed Tour Guide)...</td>\n",
       "      <td>Siem Reap, Cambodia</td>\n",
       "    </tr>\n",
       "  </tbody>\n",
       "</table>\n",
       "<p>4785 rows × 9 columns</p>\n",
       "</div>"
      ],
      "text/plain": [
       "      Index                                          Tour_Name  \\\n",
       "0         1      Phare: The Cambodian Circus Show in Siem Reap   \n",
       "1         2                        Khmer Gourmet Cooking Class   \n",
       "2         3        Koh Ker & Beng Mealea Full-Day Join-in Tour   \n",
       "3         4              Kampot Day Tour \"Bokor National Park\"   \n",
       "4         5   Bike the Siem Reap Countryside with Local Expert   \n",
       "...     ...                                                ...   \n",
       "4780   4781      Koh Khe Beng Mealea less crowded Private Tour   \n",
       "4781   4782               Special Angkor Sunrise & Sunset Tour   \n",
       "4782   4783                           Most Amazing Angkor Tour   \n",
       "4783   4784               Amazing Koh Ker And Beng Mealea Tour   \n",
       "4784   4785  Siem Reap - Our famous French Building Provinc...   \n",
       "\n",
       "                    Tour_Type  Number_of_Reviewer  Rating  Duration   Price  \\\n",
       "0                Comedy Shows               992.0     5.0         1   18.00   \n",
       "1             Cooking Classes                55.0     5.0         3   21.50   \n",
       "2              Full-day Tours               288.0     5.0        10   50.00   \n",
       "3             Adventure Tours                18.0     4.5         5   36.00   \n",
       "4             Adventure Tours               308.0     5.0         5   35.00   \n",
       "...                       ...                 ...     ...       ...     ...   \n",
       "4780  Museum Tickets & Passes                 NaN     NaN        10     NaN   \n",
       "4781           Full-day Tours                 NaN     NaN         9   61.54   \n",
       "4782          Adventure Tours                 1.0     5.0        12     NaN   \n",
       "4783           Full-day Tours                 NaN     NaN         9   90.00   \n",
       "4784             Hiking Tours                 1.0     5.0         8  173.08   \n",
       "\n",
       "                                              Highlight  \\\n",
       "0     Siem Reap's most original, authentic live perf...   \n",
       "1                                       In-person guide   \n",
       "2     Cold towels & Bottled water, Professional Engl...   \n",
       "3     Transportation: Tuk Tuk, English speaking driv...   \n",
       "4     Hotel pick up & Drop Off, Professional local E...   \n",
       "...                                                 ...   \n",
       "4780  English Speaking Tour guide, air conditioner c...   \n",
       "4781  English speaking tourist guide, Hotel pick up ...   \n",
       "4782                                        Guided Tour   \n",
       "4783  English speaking tourist guide, Private transp...   \n",
       "4784  English Local Tour Guide (Licensed Tour Guide)...   \n",
       "\n",
       "                                               Location  \n",
       "0     Asia, Cambodia, Siem Reap Province, Siem Reap,...  \n",
       "1     Asia, Cambodia, Siem Reap Province, Siem Reap,...  \n",
       "2     Asia, Cambodia, Siem Reap Province, Siem Reap,...  \n",
       "3     Asia, Cambodia, Kampot Province, Kampot, Thing...  \n",
       "4     Asia, Cambodia, Siem Reap Province, Siem Reap,...  \n",
       "...                                                 ...  \n",
       "4780                                Siem Reap, Cambodia  \n",
       "4781                                Siem Reap, Cambodia  \n",
       "4782                          Krong Siem Reap, Cambodia  \n",
       "4783                                Siem Reap, Cambodia  \n",
       "4784                                Siem Reap, Cambodia  \n",
       "\n",
       "[4785 rows x 9 columns]"
      ]
     },
     "execution_count": 156,
     "metadata": {},
     "output_type": "execute_result"
    }
   ],
   "source": [
    "df = pd.read_csv('tour_data.csv')\n",
    "df"
   ]
  },
  {
   "cell_type": "code",
   "execution_count": 157,
   "metadata": {},
   "outputs": [
    {
     "data": {
      "text/html": [
       "<div>\n",
       "<style scoped>\n",
       "    .dataframe tbody tr th:only-of-type {\n",
       "        vertical-align: middle;\n",
       "    }\n",
       "\n",
       "    .dataframe tbody tr th {\n",
       "        vertical-align: top;\n",
       "    }\n",
       "\n",
       "    .dataframe thead th {\n",
       "        text-align: right;\n",
       "    }\n",
       "</style>\n",
       "<table border=\"1\" class=\"dataframe\">\n",
       "  <thead>\n",
       "    <tr style=\"text-align: right;\">\n",
       "      <th></th>\n",
       "      <th>Index</th>\n",
       "      <th>Tour_Name</th>\n",
       "      <th>Tour_Type</th>\n",
       "      <th>Number_of_Reviewer</th>\n",
       "      <th>Rating</th>\n",
       "      <th>Duration</th>\n",
       "      <th>Price</th>\n",
       "      <th>Highlight</th>\n",
       "      <th>Location</th>\n",
       "    </tr>\n",
       "  </thead>\n",
       "  <tbody>\n",
       "    <tr>\n",
       "      <th>0</th>\n",
       "      <td>1</td>\n",
       "      <td>Phare: The Cambodian Circus Show in Siem Reap</td>\n",
       "      <td>Comedy Shows</td>\n",
       "      <td>992.0</td>\n",
       "      <td>5.0</td>\n",
       "      <td>1</td>\n",
       "      <td>18.0</td>\n",
       "      <td>Siem Reap's most original, authentic live perf...</td>\n",
       "      <td>Asia, Cambodia, Siem Reap Province, Siem Reap,...</td>\n",
       "    </tr>\n",
       "    <tr>\n",
       "      <th>1</th>\n",
       "      <td>2</td>\n",
       "      <td>Khmer Gourmet Cooking Class</td>\n",
       "      <td>Cooking Classes</td>\n",
       "      <td>55.0</td>\n",
       "      <td>5.0</td>\n",
       "      <td>3</td>\n",
       "      <td>21.5</td>\n",
       "      <td>In-person guide</td>\n",
       "      <td>Asia, Cambodia, Siem Reap Province, Siem Reap,...</td>\n",
       "    </tr>\n",
       "    <tr>\n",
       "      <th>2</th>\n",
       "      <td>3</td>\n",
       "      <td>Koh Ker &amp; Beng Mealea Full-Day Join-in Tour</td>\n",
       "      <td>Full-day Tours</td>\n",
       "      <td>288.0</td>\n",
       "      <td>5.0</td>\n",
       "      <td>10</td>\n",
       "      <td>50.0</td>\n",
       "      <td>Cold towels &amp; Bottled water, Professional Engl...</td>\n",
       "      <td>Asia, Cambodia, Siem Reap Province, Siem Reap,...</td>\n",
       "    </tr>\n",
       "    <tr>\n",
       "      <th>3</th>\n",
       "      <td>4</td>\n",
       "      <td>Kampot Day Tour \"Bokor National Park\"</td>\n",
       "      <td>Adventure Tours</td>\n",
       "      <td>18.0</td>\n",
       "      <td>4.5</td>\n",
       "      <td>5</td>\n",
       "      <td>36.0</td>\n",
       "      <td>Transportation: Tuk Tuk, English speaking driv...</td>\n",
       "      <td>Asia, Cambodia, Kampot Province, Kampot, Thing...</td>\n",
       "    </tr>\n",
       "    <tr>\n",
       "      <th>4</th>\n",
       "      <td>5</td>\n",
       "      <td>Bike the Siem Reap Countryside with Local Expert</td>\n",
       "      <td>Adventure Tours</td>\n",
       "      <td>308.0</td>\n",
       "      <td>5.0</td>\n",
       "      <td>5</td>\n",
       "      <td>35.0</td>\n",
       "      <td>Hotel pick up &amp; Drop Off, Professional local E...</td>\n",
       "      <td>Asia, Cambodia, Siem Reap Province, Siem Reap,...</td>\n",
       "    </tr>\n",
       "  </tbody>\n",
       "</table>\n",
       "</div>"
      ],
      "text/plain": [
       "   Index                                         Tour_Name        Tour_Type  \\\n",
       "0      1     Phare: The Cambodian Circus Show in Siem Reap     Comedy Shows   \n",
       "1      2                       Khmer Gourmet Cooking Class  Cooking Classes   \n",
       "2      3       Koh Ker & Beng Mealea Full-Day Join-in Tour   Full-day Tours   \n",
       "3      4             Kampot Day Tour \"Bokor National Park\"  Adventure Tours   \n",
       "4      5  Bike the Siem Reap Countryside with Local Expert  Adventure Tours   \n",
       "\n",
       "   Number_of_Reviewer  Rating  Duration  Price  \\\n",
       "0               992.0     5.0         1   18.0   \n",
       "1                55.0     5.0         3   21.5   \n",
       "2               288.0     5.0        10   50.0   \n",
       "3                18.0     4.5         5   36.0   \n",
       "4               308.0     5.0         5   35.0   \n",
       "\n",
       "                                           Highlight  \\\n",
       "0  Siem Reap's most original, authentic live perf...   \n",
       "1                                    In-person guide   \n",
       "2  Cold towels & Bottled water, Professional Engl...   \n",
       "3  Transportation: Tuk Tuk, English speaking driv...   \n",
       "4  Hotel pick up & Drop Off, Professional local E...   \n",
       "\n",
       "                                            Location  \n",
       "0  Asia, Cambodia, Siem Reap Province, Siem Reap,...  \n",
       "1  Asia, Cambodia, Siem Reap Province, Siem Reap,...  \n",
       "2  Asia, Cambodia, Siem Reap Province, Siem Reap,...  \n",
       "3  Asia, Cambodia, Kampot Province, Kampot, Thing...  \n",
       "4  Asia, Cambodia, Siem Reap Province, Siem Reap,...  "
      ]
     },
     "execution_count": 157,
     "metadata": {},
     "output_type": "execute_result"
    }
   ],
   "source": [
    "df.head()"
   ]
  },
  {
   "cell_type": "code",
   "execution_count": 158,
   "metadata": {},
   "outputs": [
    {
     "data": {
      "text/html": [
       "<div>\n",
       "<style scoped>\n",
       "    .dataframe tbody tr th:only-of-type {\n",
       "        vertical-align: middle;\n",
       "    }\n",
       "\n",
       "    .dataframe tbody tr th {\n",
       "        vertical-align: top;\n",
       "    }\n",
       "\n",
       "    .dataframe thead th {\n",
       "        text-align: right;\n",
       "    }\n",
       "</style>\n",
       "<table border=\"1\" class=\"dataframe\">\n",
       "  <thead>\n",
       "    <tr style=\"text-align: right;\">\n",
       "      <th></th>\n",
       "      <th>Index</th>\n",
       "      <th>Tour_Name</th>\n",
       "      <th>Tour_Type</th>\n",
       "      <th>Number_of_Reviewer</th>\n",
       "      <th>Rating</th>\n",
       "      <th>Duration</th>\n",
       "      <th>Price</th>\n",
       "      <th>Highlight</th>\n",
       "      <th>Location</th>\n",
       "    </tr>\n",
       "  </thead>\n",
       "  <tbody>\n",
       "    <tr>\n",
       "      <th>4780</th>\n",
       "      <td>4781</td>\n",
       "      <td>Koh Khe Beng Mealea less crowded Private Tour</td>\n",
       "      <td>Museum Tickets &amp; Passes</td>\n",
       "      <td>NaN</td>\n",
       "      <td>NaN</td>\n",
       "      <td>10</td>\n",
       "      <td>NaN</td>\n",
       "      <td>English Speaking Tour guide, air conditioner c...</td>\n",
       "      <td>Siem Reap, Cambodia</td>\n",
       "    </tr>\n",
       "    <tr>\n",
       "      <th>4781</th>\n",
       "      <td>4782</td>\n",
       "      <td>Special Angkor Sunrise &amp; Sunset Tour</td>\n",
       "      <td>Full-day Tours</td>\n",
       "      <td>NaN</td>\n",
       "      <td>NaN</td>\n",
       "      <td>9</td>\n",
       "      <td>61.54</td>\n",
       "      <td>English speaking tourist guide, Hotel pick up ...</td>\n",
       "      <td>Siem Reap, Cambodia</td>\n",
       "    </tr>\n",
       "    <tr>\n",
       "      <th>4782</th>\n",
       "      <td>4783</td>\n",
       "      <td>Most Amazing Angkor Tour</td>\n",
       "      <td>Adventure Tours</td>\n",
       "      <td>1.0</td>\n",
       "      <td>5.0</td>\n",
       "      <td>12</td>\n",
       "      <td>NaN</td>\n",
       "      <td>Guided Tour</td>\n",
       "      <td>Krong Siem Reap, Cambodia</td>\n",
       "    </tr>\n",
       "    <tr>\n",
       "      <th>4783</th>\n",
       "      <td>4784</td>\n",
       "      <td>Amazing Koh Ker And Beng Mealea Tour</td>\n",
       "      <td>Full-day Tours</td>\n",
       "      <td>NaN</td>\n",
       "      <td>NaN</td>\n",
       "      <td>9</td>\n",
       "      <td>90.00</td>\n",
       "      <td>English speaking tourist guide, Private transp...</td>\n",
       "      <td>Siem Reap, Cambodia</td>\n",
       "    </tr>\n",
       "    <tr>\n",
       "      <th>4784</th>\n",
       "      <td>4785</td>\n",
       "      <td>Siem Reap - Our famous French Building Provinc...</td>\n",
       "      <td>Hiking Tours</td>\n",
       "      <td>1.0</td>\n",
       "      <td>5.0</td>\n",
       "      <td>8</td>\n",
       "      <td>173.08</td>\n",
       "      <td>English Local Tour Guide (Licensed Tour Guide)...</td>\n",
       "      <td>Siem Reap, Cambodia</td>\n",
       "    </tr>\n",
       "  </tbody>\n",
       "</table>\n",
       "</div>"
      ],
      "text/plain": [
       "      Index                                          Tour_Name  \\\n",
       "4780   4781      Koh Khe Beng Mealea less crowded Private Tour   \n",
       "4781   4782               Special Angkor Sunrise & Sunset Tour   \n",
       "4782   4783                           Most Amazing Angkor Tour   \n",
       "4783   4784               Amazing Koh Ker And Beng Mealea Tour   \n",
       "4784   4785  Siem Reap - Our famous French Building Provinc...   \n",
       "\n",
       "                    Tour_Type  Number_of_Reviewer  Rating  Duration   Price  \\\n",
       "4780  Museum Tickets & Passes                 NaN     NaN        10     NaN   \n",
       "4781           Full-day Tours                 NaN     NaN         9   61.54   \n",
       "4782          Adventure Tours                 1.0     5.0        12     NaN   \n",
       "4783           Full-day Tours                 NaN     NaN         9   90.00   \n",
       "4784             Hiking Tours                 1.0     5.0         8  173.08   \n",
       "\n",
       "                                              Highlight  \\\n",
       "4780  English Speaking Tour guide, air conditioner c...   \n",
       "4781  English speaking tourist guide, Hotel pick up ...   \n",
       "4782                                        Guided Tour   \n",
       "4783  English speaking tourist guide, Private transp...   \n",
       "4784  English Local Tour Guide (Licensed Tour Guide)...   \n",
       "\n",
       "                       Location  \n",
       "4780        Siem Reap, Cambodia  \n",
       "4781        Siem Reap, Cambodia  \n",
       "4782  Krong Siem Reap, Cambodia  \n",
       "4783        Siem Reap, Cambodia  \n",
       "4784        Siem Reap, Cambodia  "
      ]
     },
     "execution_count": 158,
     "metadata": {},
     "output_type": "execute_result"
    }
   ],
   "source": [
    "df.tail()"
   ]
  },
  {
   "cell_type": "code",
   "execution_count": 159,
   "metadata": {},
   "outputs": [
    {
     "name": "stdout",
     "output_type": "stream",
     "text": [
      "<class 'pandas.core.frame.DataFrame'>\n",
      "RangeIndex: 4785 entries, 0 to 4784\n",
      "Data columns (total 9 columns):\n",
      " #   Column              Non-Null Count  Dtype  \n",
      "---  ------              --------------  -----  \n",
      " 0   Index               4785 non-null   int64  \n",
      " 1   Tour_Name           4785 non-null   object \n",
      " 2   Tour_Type           4783 non-null   object \n",
      " 3   Number_of_Reviewer  2095 non-null   float64\n",
      " 4   Rating              2095 non-null   float64\n",
      " 5   Duration            4785 non-null   int64  \n",
      " 6   Price               4352 non-null   float64\n",
      " 7   Highlight           4785 non-null   object \n",
      " 8   Location            4755 non-null   object \n",
      "dtypes: float64(3), int64(2), object(4)\n",
      "memory usage: 336.6+ KB\n"
     ]
    }
   ],
   "source": [
    "df.info()"
   ]
  },
  {
   "attachments": {},
   "cell_type": "markdown",
   "metadata": {},
   "source": [
    "## <font color = yellow>2. Checking missing value"
   ]
  },
  {
   "cell_type": "code",
   "execution_count": 160,
   "metadata": {},
   "outputs": [
    {
     "data": {
      "text/plain": [
       "['Tour_Type', 'Number_of_Reviewer', 'Rating', 'Price', 'Location']"
      ]
     },
     "execution_count": 160,
     "metadata": {},
     "output_type": "execute_result"
    }
   ],
   "source": [
    "# the name of feature in which exist missing values\n",
    "data_missing = [feature \n",
    "                for feature in df.columns\n",
    "                  if df[feature].isnull().sum()]\n",
    "data_missing"
   ]
  },
  {
   "cell_type": "code",
   "execution_count": 161,
   "metadata": {},
   "outputs": [
    {
     "data": {
      "text/plain": [
       "Index                    0\n",
       "Tour_Name                0\n",
       "Tour_Type                2\n",
       "Number_of_Reviewer    2690\n",
       "Rating                2690\n",
       "Duration                 0\n",
       "Price                  433\n",
       "Highlight                0\n",
       "Location                30\n",
       "dtype: int64"
      ]
     },
     "execution_count": 161,
     "metadata": {},
     "output_type": "execute_result"
    }
   ],
   "source": [
    "# number of missing value in dataset for each of features\n",
    "num_missing = df.isnull().sum()\n",
    "num_missing"
   ]
  },
  {
   "cell_type": "code",
   "execution_count": 163,
   "metadata": {},
   "outputs": [
    {
     "data": {
      "text/html": [
       "<div>\n",
       "<style scoped>\n",
       "    .dataframe tbody tr th:only-of-type {\n",
       "        vertical-align: middle;\n",
       "    }\n",
       "\n",
       "    .dataframe tbody tr th {\n",
       "        vertical-align: top;\n",
       "    }\n",
       "\n",
       "    .dataframe thead th {\n",
       "        text-align: right;\n",
       "    }\n",
       "</style>\n",
       "<table border=\"1\" class=\"dataframe\">\n",
       "  <thead>\n",
       "    <tr style=\"text-align: right;\">\n",
       "      <th></th>\n",
       "      <th>Total</th>\n",
       "      <th>Percent</th>\n",
       "    </tr>\n",
       "  </thead>\n",
       "  <tbody>\n",
       "    <tr>\n",
       "      <th>Number_of_Reviewer</th>\n",
       "      <td>2690</td>\n",
       "      <td>56.217346</td>\n",
       "    </tr>\n",
       "    <tr>\n",
       "      <th>Rating</th>\n",
       "      <td>2690</td>\n",
       "      <td>56.217346</td>\n",
       "    </tr>\n",
       "    <tr>\n",
       "      <th>Price</th>\n",
       "      <td>433</td>\n",
       "      <td>9.049112</td>\n",
       "    </tr>\n",
       "    <tr>\n",
       "      <th>Location</th>\n",
       "      <td>30</td>\n",
       "      <td>0.626959</td>\n",
       "    </tr>\n",
       "    <tr>\n",
       "      <th>Tour_Type</th>\n",
       "      <td>2</td>\n",
       "      <td>0.041797</td>\n",
       "    </tr>\n",
       "    <tr>\n",
       "      <th>Index</th>\n",
       "      <td>0</td>\n",
       "      <td>0.000000</td>\n",
       "    </tr>\n",
       "    <tr>\n",
       "      <th>Tour_Name</th>\n",
       "      <td>0</td>\n",
       "      <td>0.000000</td>\n",
       "    </tr>\n",
       "    <tr>\n",
       "      <th>Duration</th>\n",
       "      <td>0</td>\n",
       "      <td>0.000000</td>\n",
       "    </tr>\n",
       "    <tr>\n",
       "      <th>Highlight</th>\n",
       "      <td>0</td>\n",
       "      <td>0.000000</td>\n",
       "    </tr>\n",
       "  </tbody>\n",
       "</table>\n",
       "</div>"
      ],
      "text/plain": [
       "                    Total    Percent\n",
       "Number_of_Reviewer   2690  56.217346\n",
       "Rating               2690  56.217346\n",
       "Price                 433   9.049112\n",
       "Location               30   0.626959\n",
       "Tour_Type               2   0.041797\n",
       "Index                   0   0.000000\n",
       "Tour_Name               0   0.000000\n",
       "Duration                0   0.000000\n",
       "Highlight               0   0.000000"
      ]
     },
     "execution_count": 163,
     "metadata": {},
     "output_type": "execute_result"
    }
   ],
   "source": [
    "# creating a new column called total and storing the sorted list of missing values in descending order\n",
    "total = num_missing.sort_values(ascending=False)\n",
    "\n",
    "# Create a new column called total and storing the sorted list of percentage of missing values\n",
    "percent = (num_missing/df.isnull().count()).sort_values(ascending=False)*100\n",
    "\n",
    "# create a dictionary called missing which has total and percent as keys.\n",
    "missing = pd.concat([total,percent],axis=1,keys=['Total','Percent'])\n",
    "missing"
   ]
  },
  {
   "attachments": {},
   "cell_type": "markdown",
   "metadata": {},
   "source": [
    "## <font color = yellow>3. Data duplicate"
   ]
  },
  {
   "cell_type": "code",
   "execution_count": 164,
   "metadata": {},
   "outputs": [
    {
     "data": {
      "text/plain": [
       "0           Phare: The Cambodian Circus Show in Siem Reap\n",
       "1                             Khmer Gourmet Cooking Class\n",
       "2             Koh Ker & Beng Mealea Full-Day Join-in Tour\n",
       "3                   Kampot Day Tour \"Bokor National Park\"\n",
       "4        Bike the Siem Reap Countryside with Local Expert\n",
       "                              ...                        \n",
       "4780        Koh Khe Beng Mealea less crowded Private Tour\n",
       "4781                 Special Angkor Sunrise & Sunset Tour\n",
       "4782                             Most Amazing Angkor Tour\n",
       "4783                 Amazing Koh Ker And Beng Mealea Tour\n",
       "4784    Siem Reap - Our famous French Building Provinc...\n",
       "Name: Tour_Name, Length: 4785, dtype: object"
      ]
     },
     "execution_count": 164,
     "metadata": {},
     "output_type": "execute_result"
    }
   ],
   "source": [
    "Tour_Name = df['Tour_Name']\n",
    "Tour_Name"
   ]
  },
  {
   "cell_type": "code",
   "execution_count": 165,
   "metadata": {},
   "outputs": [
    {
     "data": {
      "text/plain": [
       "0       False\n",
       "1       False\n",
       "2       False\n",
       "3       False\n",
       "4       False\n",
       "        ...  \n",
       "4780    False\n",
       "4781    False\n",
       "4782    False\n",
       "4783    False\n",
       "4784    False\n",
       "Length: 4785, dtype: bool"
      ]
     },
     "execution_count": 165,
     "metadata": {},
     "output_type": "execute_result"
    }
   ],
   "source": [
    "duplicates = df.duplicated()\n",
    "duplicates"
   ]
  },
  {
   "cell_type": "code",
   "execution_count": 166,
   "metadata": {},
   "outputs": [
    {
     "data": {
      "text/html": [
       "<div>\n",
       "<style scoped>\n",
       "    .dataframe tbody tr th:only-of-type {\n",
       "        vertical-align: middle;\n",
       "    }\n",
       "\n",
       "    .dataframe tbody tr th {\n",
       "        vertical-align: top;\n",
       "    }\n",
       "\n",
       "    .dataframe thead th {\n",
       "        text-align: right;\n",
       "    }\n",
       "</style>\n",
       "<table border=\"1\" class=\"dataframe\">\n",
       "  <thead>\n",
       "    <tr style=\"text-align: right;\">\n",
       "      <th></th>\n",
       "      <th>Index</th>\n",
       "      <th>Tour_Name</th>\n",
       "      <th>Tour_Type</th>\n",
       "      <th>Number_of_Reviewer</th>\n",
       "      <th>Rating</th>\n",
       "      <th>Duration</th>\n",
       "      <th>Price</th>\n",
       "      <th>Highlight</th>\n",
       "      <th>Location</th>\n",
       "    </tr>\n",
       "  </thead>\n",
       "  <tbody>\n",
       "    <tr>\n",
       "      <th>0</th>\n",
       "      <td>1</td>\n",
       "      <td>Phare: The Cambodian Circus Show in Siem Reap</td>\n",
       "      <td>Comedy Shows</td>\n",
       "      <td>992.0</td>\n",
       "      <td>5.0</td>\n",
       "      <td>1</td>\n",
       "      <td>18.00</td>\n",
       "      <td>Siem Reap's most original, authentic live perf...</td>\n",
       "      <td>Asia, Cambodia, Siem Reap Province, Siem Reap,...</td>\n",
       "    </tr>\n",
       "    <tr>\n",
       "      <th>1</th>\n",
       "      <td>2</td>\n",
       "      <td>Khmer Gourmet Cooking Class</td>\n",
       "      <td>Cooking Classes</td>\n",
       "      <td>55.0</td>\n",
       "      <td>5.0</td>\n",
       "      <td>3</td>\n",
       "      <td>21.50</td>\n",
       "      <td>In-person guide</td>\n",
       "      <td>Asia, Cambodia, Siem Reap Province, Siem Reap,...</td>\n",
       "    </tr>\n",
       "    <tr>\n",
       "      <th>2</th>\n",
       "      <td>3</td>\n",
       "      <td>Koh Ker &amp; Beng Mealea Full-Day Join-in Tour</td>\n",
       "      <td>Full-day Tours</td>\n",
       "      <td>288.0</td>\n",
       "      <td>5.0</td>\n",
       "      <td>10</td>\n",
       "      <td>50.00</td>\n",
       "      <td>Cold towels &amp; Bottled water, Professional Engl...</td>\n",
       "      <td>Asia, Cambodia, Siem Reap Province, Siem Reap,...</td>\n",
       "    </tr>\n",
       "    <tr>\n",
       "      <th>3</th>\n",
       "      <td>4</td>\n",
       "      <td>Kampot Day Tour \"Bokor National Park\"</td>\n",
       "      <td>Adventure Tours</td>\n",
       "      <td>18.0</td>\n",
       "      <td>4.5</td>\n",
       "      <td>5</td>\n",
       "      <td>36.00</td>\n",
       "      <td>Transportation: Tuk Tuk, English speaking driv...</td>\n",
       "      <td>Asia, Cambodia, Kampot Province, Kampot, Thing...</td>\n",
       "    </tr>\n",
       "    <tr>\n",
       "      <th>4</th>\n",
       "      <td>5</td>\n",
       "      <td>Bike the Siem Reap Countryside with Local Expert</td>\n",
       "      <td>Adventure Tours</td>\n",
       "      <td>308.0</td>\n",
       "      <td>5.0</td>\n",
       "      <td>5</td>\n",
       "      <td>35.00</td>\n",
       "      <td>Hotel pick up &amp; Drop Off, Professional local E...</td>\n",
       "      <td>Asia, Cambodia, Siem Reap Province, Siem Reap,...</td>\n",
       "    </tr>\n",
       "    <tr>\n",
       "      <th>...</th>\n",
       "      <td>...</td>\n",
       "      <td>...</td>\n",
       "      <td>...</td>\n",
       "      <td>...</td>\n",
       "      <td>...</td>\n",
       "      <td>...</td>\n",
       "      <td>...</td>\n",
       "      <td>...</td>\n",
       "      <td>...</td>\n",
       "    </tr>\n",
       "    <tr>\n",
       "      <th>4780</th>\n",
       "      <td>4781</td>\n",
       "      <td>Koh Khe Beng Mealea less crowded Private Tour</td>\n",
       "      <td>Museum Tickets &amp; Passes</td>\n",
       "      <td>NaN</td>\n",
       "      <td>NaN</td>\n",
       "      <td>10</td>\n",
       "      <td>NaN</td>\n",
       "      <td>English Speaking Tour guide, air conditioner c...</td>\n",
       "      <td>Siem Reap, Cambodia</td>\n",
       "    </tr>\n",
       "    <tr>\n",
       "      <th>4781</th>\n",
       "      <td>4782</td>\n",
       "      <td>Special Angkor Sunrise &amp; Sunset Tour</td>\n",
       "      <td>Full-day Tours</td>\n",
       "      <td>NaN</td>\n",
       "      <td>NaN</td>\n",
       "      <td>9</td>\n",
       "      <td>61.54</td>\n",
       "      <td>English speaking tourist guide, Hotel pick up ...</td>\n",
       "      <td>Siem Reap, Cambodia</td>\n",
       "    </tr>\n",
       "    <tr>\n",
       "      <th>4782</th>\n",
       "      <td>4783</td>\n",
       "      <td>Most Amazing Angkor Tour</td>\n",
       "      <td>Adventure Tours</td>\n",
       "      <td>1.0</td>\n",
       "      <td>5.0</td>\n",
       "      <td>12</td>\n",
       "      <td>NaN</td>\n",
       "      <td>Guided Tour</td>\n",
       "      <td>Krong Siem Reap, Cambodia</td>\n",
       "    </tr>\n",
       "    <tr>\n",
       "      <th>4783</th>\n",
       "      <td>4784</td>\n",
       "      <td>Amazing Koh Ker And Beng Mealea Tour</td>\n",
       "      <td>Full-day Tours</td>\n",
       "      <td>NaN</td>\n",
       "      <td>NaN</td>\n",
       "      <td>9</td>\n",
       "      <td>90.00</td>\n",
       "      <td>English speaking tourist guide, Private transp...</td>\n",
       "      <td>Siem Reap, Cambodia</td>\n",
       "    </tr>\n",
       "    <tr>\n",
       "      <th>4784</th>\n",
       "      <td>4785</td>\n",
       "      <td>Siem Reap - Our famous French Building Provinc...</td>\n",
       "      <td>Hiking Tours</td>\n",
       "      <td>1.0</td>\n",
       "      <td>5.0</td>\n",
       "      <td>8</td>\n",
       "      <td>173.08</td>\n",
       "      <td>English Local Tour Guide (Licensed Tour Guide)...</td>\n",
       "      <td>Siem Reap, Cambodia</td>\n",
       "    </tr>\n",
       "  </tbody>\n",
       "</table>\n",
       "<p>4785 rows × 9 columns</p>\n",
       "</div>"
      ],
      "text/plain": [
       "      Index                                          Tour_Name  \\\n",
       "0         1      Phare: The Cambodian Circus Show in Siem Reap   \n",
       "1         2                        Khmer Gourmet Cooking Class   \n",
       "2         3        Koh Ker & Beng Mealea Full-Day Join-in Tour   \n",
       "3         4              Kampot Day Tour \"Bokor National Park\"   \n",
       "4         5   Bike the Siem Reap Countryside with Local Expert   \n",
       "...     ...                                                ...   \n",
       "4780   4781      Koh Khe Beng Mealea less crowded Private Tour   \n",
       "4781   4782               Special Angkor Sunrise & Sunset Tour   \n",
       "4782   4783                           Most Amazing Angkor Tour   \n",
       "4783   4784               Amazing Koh Ker And Beng Mealea Tour   \n",
       "4784   4785  Siem Reap - Our famous French Building Provinc...   \n",
       "\n",
       "                    Tour_Type  Number_of_Reviewer  Rating  Duration   Price  \\\n",
       "0                Comedy Shows               992.0     5.0         1   18.00   \n",
       "1             Cooking Classes                55.0     5.0         3   21.50   \n",
       "2              Full-day Tours               288.0     5.0        10   50.00   \n",
       "3             Adventure Tours                18.0     4.5         5   36.00   \n",
       "4             Adventure Tours               308.0     5.0         5   35.00   \n",
       "...                       ...                 ...     ...       ...     ...   \n",
       "4780  Museum Tickets & Passes                 NaN     NaN        10     NaN   \n",
       "4781           Full-day Tours                 NaN     NaN         9   61.54   \n",
       "4782          Adventure Tours                 1.0     5.0        12     NaN   \n",
       "4783           Full-day Tours                 NaN     NaN         9   90.00   \n",
       "4784             Hiking Tours                 1.0     5.0         8  173.08   \n",
       "\n",
       "                                              Highlight  \\\n",
       "0     Siem Reap's most original, authentic live perf...   \n",
       "1                                       In-person guide   \n",
       "2     Cold towels & Bottled water, Professional Engl...   \n",
       "3     Transportation: Tuk Tuk, English speaking driv...   \n",
       "4     Hotel pick up & Drop Off, Professional local E...   \n",
       "...                                                 ...   \n",
       "4780  English Speaking Tour guide, air conditioner c...   \n",
       "4781  English speaking tourist guide, Hotel pick up ...   \n",
       "4782                                        Guided Tour   \n",
       "4783  English speaking tourist guide, Private transp...   \n",
       "4784  English Local Tour Guide (Licensed Tour Guide)...   \n",
       "\n",
       "                                               Location  \n",
       "0     Asia, Cambodia, Siem Reap Province, Siem Reap,...  \n",
       "1     Asia, Cambodia, Siem Reap Province, Siem Reap,...  \n",
       "2     Asia, Cambodia, Siem Reap Province, Siem Reap,...  \n",
       "3     Asia, Cambodia, Kampot Province, Kampot, Thing...  \n",
       "4     Asia, Cambodia, Siem Reap Province, Siem Reap,...  \n",
       "...                                                 ...  \n",
       "4780                                Siem Reap, Cambodia  \n",
       "4781                                Siem Reap, Cambodia  \n",
       "4782                          Krong Siem Reap, Cambodia  \n",
       "4783                                Siem Reap, Cambodia  \n",
       "4784                                Siem Reap, Cambodia  \n",
       "\n",
       "[4785 rows x 9 columns]"
      ]
     },
     "execution_count": 166,
     "metadata": {},
     "output_type": "execute_result"
    }
   ],
   "source": [
    "df2 = df.drop_duplicates(subset=df.columns)\n",
    "df2"
   ]
  },
  {
   "cell_type": "code",
   "execution_count": 167,
   "metadata": {},
   "outputs": [
    {
     "data": {
      "text/plain": [
       "0       False\n",
       "1       False\n",
       "2       False\n",
       "3       False\n",
       "4       False\n",
       "        ...  \n",
       "4780    False\n",
       "4781    False\n",
       "4782    False\n",
       "4783    False\n",
       "4784    False\n",
       "Length: 4785, dtype: bool"
      ]
     },
     "execution_count": 167,
     "metadata": {},
     "output_type": "execute_result"
    }
   ],
   "source": [
    "df2.duplicated()"
   ]
  },
  {
   "cell_type": "code",
   "execution_count": 168,
   "metadata": {},
   "outputs": [],
   "source": [
    "pd.DataFrame(df2).to_csv('Dataset2.csv')"
   ]
  },
  {
   "attachments": {},
   "cell_type": "markdown",
   "metadata": {},
   "source": [
    "## <font color = yellow>4. Filling Missing Values(Using KNN or k-nearest neighbors method)"
   ]
  },
  {
   "attachments": {},
   "cell_type": "markdown",
   "metadata": {},
   "source": [
    "Filling missing values is a common challenge in data analysis. There are several approaches you can take to fill missing values, depending on the nature of your data and the reason for the missing values. Here are some common techniques:\n",
    "\n",
    "1. Mean or Median Imputation: You can replace missing values with the mean or median of the remaining values in the same column. This method is simple and quick, but may not be accurate if there are outliers in the data.\n",
    "\n",
    "2. Forward Fill/Backward Fill: For time series data, you can fill missing values using the most recent non-missing value (forward fill) or the next available value (backward fill). This method works well when the missing values are due to temporary glitches in the data collection process.\n",
    "\n",
    "3. Regression Imputation: You can use regression analysis to predict missing values based on other variables in the dataset. This method requires more computational power but can produce more accurate results.\n",
    "\n",
    "4. K-Nearest Neighbor Imputation: This approach involves finding the k-nearest neighbors of the missing value from the other data points and then filling the missing value with the average or weighted average of these neighbors. This method works well when the missing values are randomly distributed and not clustered.\n",
    "\n",
    "5. Multiple Imputation: This method involves creating several imputed datasets, each with different values for the missing data, and then combining them to create a single dataset. This approach can help to account for the uncertainty associated with missing data and provide more accurate estimates.\n",
    "\n",
    "Overall, it's important to carefully consider the reasons for missing values and choose an appropriate imputation method that best suits your data and analysis goals."
   ]
  },
  {
   "cell_type": "code",
   "execution_count": 169,
   "metadata": {},
   "outputs": [
    {
     "data": {
      "text/html": [
       "<div>\n",
       "<style scoped>\n",
       "    .dataframe tbody tr th:only-of-type {\n",
       "        vertical-align: middle;\n",
       "    }\n",
       "\n",
       "    .dataframe tbody tr th {\n",
       "        vertical-align: top;\n",
       "    }\n",
       "\n",
       "    .dataframe thead th {\n",
       "        text-align: right;\n",
       "    }\n",
       "</style>\n",
       "<table border=\"1\" class=\"dataframe\">\n",
       "  <thead>\n",
       "    <tr style=\"text-align: right;\">\n",
       "      <th></th>\n",
       "      <th>Unnamed: 0</th>\n",
       "      <th>Index</th>\n",
       "      <th>Tour_Name</th>\n",
       "      <th>Tour_Type</th>\n",
       "      <th>Number_of_Reviewer</th>\n",
       "      <th>Rating</th>\n",
       "      <th>Duration</th>\n",
       "      <th>Price</th>\n",
       "      <th>Highlight</th>\n",
       "      <th>Location</th>\n",
       "    </tr>\n",
       "  </thead>\n",
       "  <tbody>\n",
       "    <tr>\n",
       "      <th>0</th>\n",
       "      <td>0</td>\n",
       "      <td>1</td>\n",
       "      <td>Phare: The Cambodian Circus Show in Siem Reap</td>\n",
       "      <td>Comedy Shows</td>\n",
       "      <td>992.0</td>\n",
       "      <td>5.0</td>\n",
       "      <td>1</td>\n",
       "      <td>18.00</td>\n",
       "      <td>Siem Reap's most original, authentic live perf...</td>\n",
       "      <td>Asia, Cambodia, Siem Reap Province, Siem Reap,...</td>\n",
       "    </tr>\n",
       "    <tr>\n",
       "      <th>1</th>\n",
       "      <td>1</td>\n",
       "      <td>2</td>\n",
       "      <td>Khmer Gourmet Cooking Class</td>\n",
       "      <td>Cooking Classes</td>\n",
       "      <td>55.0</td>\n",
       "      <td>5.0</td>\n",
       "      <td>3</td>\n",
       "      <td>21.50</td>\n",
       "      <td>In-person guide</td>\n",
       "      <td>Asia, Cambodia, Siem Reap Province, Siem Reap,...</td>\n",
       "    </tr>\n",
       "    <tr>\n",
       "      <th>2</th>\n",
       "      <td>2</td>\n",
       "      <td>3</td>\n",
       "      <td>Koh Ker &amp; Beng Mealea Full-Day Join-in Tour</td>\n",
       "      <td>Full-day Tours</td>\n",
       "      <td>288.0</td>\n",
       "      <td>5.0</td>\n",
       "      <td>10</td>\n",
       "      <td>50.00</td>\n",
       "      <td>Cold towels &amp; Bottled water, Professional Engl...</td>\n",
       "      <td>Asia, Cambodia, Siem Reap Province, Siem Reap,...</td>\n",
       "    </tr>\n",
       "    <tr>\n",
       "      <th>3</th>\n",
       "      <td>3</td>\n",
       "      <td>4</td>\n",
       "      <td>Kampot Day Tour \"Bokor National Park\"</td>\n",
       "      <td>Adventure Tours</td>\n",
       "      <td>18.0</td>\n",
       "      <td>4.5</td>\n",
       "      <td>5</td>\n",
       "      <td>36.00</td>\n",
       "      <td>Transportation: Tuk Tuk, English speaking driv...</td>\n",
       "      <td>Asia, Cambodia, Kampot Province, Kampot, Thing...</td>\n",
       "    </tr>\n",
       "    <tr>\n",
       "      <th>4</th>\n",
       "      <td>4</td>\n",
       "      <td>5</td>\n",
       "      <td>Bike the Siem Reap Countryside with Local Expert</td>\n",
       "      <td>Adventure Tours</td>\n",
       "      <td>308.0</td>\n",
       "      <td>5.0</td>\n",
       "      <td>5</td>\n",
       "      <td>35.00</td>\n",
       "      <td>Hotel pick up &amp; Drop Off, Professional local E...</td>\n",
       "      <td>Asia, Cambodia, Siem Reap Province, Siem Reap,...</td>\n",
       "    </tr>\n",
       "    <tr>\n",
       "      <th>...</th>\n",
       "      <td>...</td>\n",
       "      <td>...</td>\n",
       "      <td>...</td>\n",
       "      <td>...</td>\n",
       "      <td>...</td>\n",
       "      <td>...</td>\n",
       "      <td>...</td>\n",
       "      <td>...</td>\n",
       "      <td>...</td>\n",
       "      <td>...</td>\n",
       "    </tr>\n",
       "    <tr>\n",
       "      <th>4780</th>\n",
       "      <td>4780</td>\n",
       "      <td>4781</td>\n",
       "      <td>Koh Khe Beng Mealea less crowded Private Tour</td>\n",
       "      <td>Museum Tickets &amp; Passes</td>\n",
       "      <td>NaN</td>\n",
       "      <td>NaN</td>\n",
       "      <td>10</td>\n",
       "      <td>NaN</td>\n",
       "      <td>English Speaking Tour guide, air conditioner c...</td>\n",
       "      <td>Siem Reap, Cambodia</td>\n",
       "    </tr>\n",
       "    <tr>\n",
       "      <th>4781</th>\n",
       "      <td>4781</td>\n",
       "      <td>4782</td>\n",
       "      <td>Special Angkor Sunrise &amp; Sunset Tour</td>\n",
       "      <td>Full-day Tours</td>\n",
       "      <td>NaN</td>\n",
       "      <td>NaN</td>\n",
       "      <td>9</td>\n",
       "      <td>61.54</td>\n",
       "      <td>English speaking tourist guide, Hotel pick up ...</td>\n",
       "      <td>Siem Reap, Cambodia</td>\n",
       "    </tr>\n",
       "    <tr>\n",
       "      <th>4782</th>\n",
       "      <td>4782</td>\n",
       "      <td>4783</td>\n",
       "      <td>Most Amazing Angkor Tour</td>\n",
       "      <td>Adventure Tours</td>\n",
       "      <td>1.0</td>\n",
       "      <td>5.0</td>\n",
       "      <td>12</td>\n",
       "      <td>NaN</td>\n",
       "      <td>Guided Tour</td>\n",
       "      <td>Krong Siem Reap, Cambodia</td>\n",
       "    </tr>\n",
       "    <tr>\n",
       "      <th>4783</th>\n",
       "      <td>4783</td>\n",
       "      <td>4784</td>\n",
       "      <td>Amazing Koh Ker And Beng Mealea Tour</td>\n",
       "      <td>Full-day Tours</td>\n",
       "      <td>NaN</td>\n",
       "      <td>NaN</td>\n",
       "      <td>9</td>\n",
       "      <td>90.00</td>\n",
       "      <td>English speaking tourist guide, Private transp...</td>\n",
       "      <td>Siem Reap, Cambodia</td>\n",
       "    </tr>\n",
       "    <tr>\n",
       "      <th>4784</th>\n",
       "      <td>4784</td>\n",
       "      <td>4785</td>\n",
       "      <td>Siem Reap - Our famous French Building Provinc...</td>\n",
       "      <td>Hiking Tours</td>\n",
       "      <td>1.0</td>\n",
       "      <td>5.0</td>\n",
       "      <td>8</td>\n",
       "      <td>173.08</td>\n",
       "      <td>English Local Tour Guide (Licensed Tour Guide)...</td>\n",
       "      <td>Siem Reap, Cambodia</td>\n",
       "    </tr>\n",
       "  </tbody>\n",
       "</table>\n",
       "<p>4785 rows × 10 columns</p>\n",
       "</div>"
      ],
      "text/plain": [
       "      Unnamed: 0  Index                                          Tour_Name  \\\n",
       "0              0      1      Phare: The Cambodian Circus Show in Siem Reap   \n",
       "1              1      2                        Khmer Gourmet Cooking Class   \n",
       "2              2      3        Koh Ker & Beng Mealea Full-Day Join-in Tour   \n",
       "3              3      4              Kampot Day Tour \"Bokor National Park\"   \n",
       "4              4      5   Bike the Siem Reap Countryside with Local Expert   \n",
       "...          ...    ...                                                ...   \n",
       "4780        4780   4781      Koh Khe Beng Mealea less crowded Private Tour   \n",
       "4781        4781   4782               Special Angkor Sunrise & Sunset Tour   \n",
       "4782        4782   4783                           Most Amazing Angkor Tour   \n",
       "4783        4783   4784               Amazing Koh Ker And Beng Mealea Tour   \n",
       "4784        4784   4785  Siem Reap - Our famous French Building Provinc...   \n",
       "\n",
       "                    Tour_Type  Number_of_Reviewer  Rating  Duration   Price  \\\n",
       "0                Comedy Shows               992.0     5.0         1   18.00   \n",
       "1             Cooking Classes                55.0     5.0         3   21.50   \n",
       "2              Full-day Tours               288.0     5.0        10   50.00   \n",
       "3             Adventure Tours                18.0     4.5         5   36.00   \n",
       "4             Adventure Tours               308.0     5.0         5   35.00   \n",
       "...                       ...                 ...     ...       ...     ...   \n",
       "4780  Museum Tickets & Passes                 NaN     NaN        10     NaN   \n",
       "4781           Full-day Tours                 NaN     NaN         9   61.54   \n",
       "4782          Adventure Tours                 1.0     5.0        12     NaN   \n",
       "4783           Full-day Tours                 NaN     NaN         9   90.00   \n",
       "4784             Hiking Tours                 1.0     5.0         8  173.08   \n",
       "\n",
       "                                              Highlight  \\\n",
       "0     Siem Reap's most original, authentic live perf...   \n",
       "1                                       In-person guide   \n",
       "2     Cold towels & Bottled water, Professional Engl...   \n",
       "3     Transportation: Tuk Tuk, English speaking driv...   \n",
       "4     Hotel pick up & Drop Off, Professional local E...   \n",
       "...                                                 ...   \n",
       "4780  English Speaking Tour guide, air conditioner c...   \n",
       "4781  English speaking tourist guide, Hotel pick up ...   \n",
       "4782                                        Guided Tour   \n",
       "4783  English speaking tourist guide, Private transp...   \n",
       "4784  English Local Tour Guide (Licensed Tour Guide)...   \n",
       "\n",
       "                                               Location  \n",
       "0     Asia, Cambodia, Siem Reap Province, Siem Reap,...  \n",
       "1     Asia, Cambodia, Siem Reap Province, Siem Reap,...  \n",
       "2     Asia, Cambodia, Siem Reap Province, Siem Reap,...  \n",
       "3     Asia, Cambodia, Kampot Province, Kampot, Thing...  \n",
       "4     Asia, Cambodia, Siem Reap Province, Siem Reap,...  \n",
       "...                                                 ...  \n",
       "4780                                Siem Reap, Cambodia  \n",
       "4781                                Siem Reap, Cambodia  \n",
       "4782                          Krong Siem Reap, Cambodia  \n",
       "4783                                Siem Reap, Cambodia  \n",
       "4784                                Siem Reap, Cambodia  \n",
       "\n",
       "[4785 rows x 10 columns]"
      ]
     },
     "execution_count": 169,
     "metadata": {},
     "output_type": "execute_result"
    }
   ],
   "source": [
    "df2 = pd.read_csv('Dataset2.csv')\n",
    "df2"
   ]
  },
  {
   "cell_type": "code",
   "execution_count": 170,
   "metadata": {},
   "outputs": [
    {
     "data": {
      "text/plain": [
       "Unnamed: 0               0\n",
       "Index                    0\n",
       "Tour_Name                0\n",
       "Tour_Type                2\n",
       "Number_of_Reviewer    2690\n",
       "Rating                2690\n",
       "Duration                 0\n",
       "Price                  433\n",
       "Highlight                0\n",
       "Location                30\n",
       "dtype: int64"
      ]
     },
     "execution_count": 170,
     "metadata": {},
     "output_type": "execute_result"
    }
   ],
   "source": [
    "df2.isnull().sum()"
   ]
  },
  {
   "attachments": {},
   "cell_type": "markdown",
   "metadata": {},
   "source": [
    "#### <font color = yellow><b>Filling on numeric features "
   ]
  },
  {
   "cell_type": "code",
   "execution_count": 171,
   "metadata": {},
   "outputs": [
    {
     "data": {
      "text/plain": [
       "array(['Unnamed: 0', 'Index', 'Number_of_Reviewer', 'Rating', 'Duration',\n",
       "       'Price'], dtype=object)"
      ]
     },
     "execution_count": 171,
     "metadata": {},
     "output_type": "execute_result"
    }
   ],
   "source": [
    "numerical_features = df2.select_dtypes(include = ['int64','float64']).columns.values\n",
    "numerical_features"
   ]
  },
  {
   "cell_type": "code",
   "execution_count": 172,
   "metadata": {},
   "outputs": [],
   "source": [
    "from sklearn.impute import KNNImputer\n",
    "num_impute = KNNImputer()"
   ]
  },
  {
   "cell_type": "code",
   "execution_count": 173,
   "metadata": {},
   "outputs": [
    {
     "data": {
      "text/html": [
       "<div>\n",
       "<style scoped>\n",
       "    .dataframe tbody tr th:only-of-type {\n",
       "        vertical-align: middle;\n",
       "    }\n",
       "\n",
       "    .dataframe tbody tr th {\n",
       "        vertical-align: top;\n",
       "    }\n",
       "\n",
       "    .dataframe thead th {\n",
       "        text-align: right;\n",
       "    }\n",
       "</style>\n",
       "<table border=\"1\" class=\"dataframe\">\n",
       "  <thead>\n",
       "    <tr style=\"text-align: right;\">\n",
       "      <th></th>\n",
       "      <th>Unnamed: 0</th>\n",
       "      <th>Index</th>\n",
       "      <th>Number_of_Reviewer</th>\n",
       "      <th>Rating</th>\n",
       "      <th>Duration</th>\n",
       "      <th>Price</th>\n",
       "    </tr>\n",
       "  </thead>\n",
       "  <tbody>\n",
       "    <tr>\n",
       "      <th>0</th>\n",
       "      <td>0</td>\n",
       "      <td>1</td>\n",
       "      <td>992.0</td>\n",
       "      <td>5.0</td>\n",
       "      <td>1</td>\n",
       "      <td>18.0</td>\n",
       "    </tr>\n",
       "    <tr>\n",
       "      <th>1</th>\n",
       "      <td>1</td>\n",
       "      <td>2</td>\n",
       "      <td>55.0</td>\n",
       "      <td>5.0</td>\n",
       "      <td>3</td>\n",
       "      <td>21.5</td>\n",
       "    </tr>\n",
       "    <tr>\n",
       "      <th>2</th>\n",
       "      <td>2</td>\n",
       "      <td>3</td>\n",
       "      <td>288.0</td>\n",
       "      <td>5.0</td>\n",
       "      <td>10</td>\n",
       "      <td>50.0</td>\n",
       "    </tr>\n",
       "    <tr>\n",
       "      <th>3</th>\n",
       "      <td>3</td>\n",
       "      <td>4</td>\n",
       "      <td>18.0</td>\n",
       "      <td>4.5</td>\n",
       "      <td>5</td>\n",
       "      <td>36.0</td>\n",
       "    </tr>\n",
       "    <tr>\n",
       "      <th>4</th>\n",
       "      <td>4</td>\n",
       "      <td>5</td>\n",
       "      <td>308.0</td>\n",
       "      <td>5.0</td>\n",
       "      <td>5</td>\n",
       "      <td>35.0</td>\n",
       "    </tr>\n",
       "  </tbody>\n",
       "</table>\n",
       "</div>"
      ],
      "text/plain": [
       "   Unnamed: 0  Index  Number_of_Reviewer  Rating  Duration  Price\n",
       "0           0      1               992.0     5.0         1   18.0\n",
       "1           1      2                55.0     5.0         3   21.5\n",
       "2           2      3               288.0     5.0        10   50.0\n",
       "3           3      4                18.0     4.5         5   36.0\n",
       "4           4      5               308.0     5.0         5   35.0"
      ]
     },
     "execution_count": 173,
     "metadata": {},
     "output_type": "execute_result"
    }
   ],
   "source": [
    "df2[numerical_features].head()"
   ]
  },
  {
   "cell_type": "code",
   "execution_count": 174,
   "metadata": {},
   "outputs": [
    {
     "data": {
      "text/html": [
       "<style>#sk-container-id-2 {color: black;background-color: white;}#sk-container-id-2 pre{padding: 0;}#sk-container-id-2 div.sk-toggleable {background-color: white;}#sk-container-id-2 label.sk-toggleable__label {cursor: pointer;display: block;width: 100%;margin-bottom: 0;padding: 0.3em;box-sizing: border-box;text-align: center;}#sk-container-id-2 label.sk-toggleable__label-arrow:before {content: \"▸\";float: left;margin-right: 0.25em;color: #696969;}#sk-container-id-2 label.sk-toggleable__label-arrow:hover:before {color: black;}#sk-container-id-2 div.sk-estimator:hover label.sk-toggleable__label-arrow:before {color: black;}#sk-container-id-2 div.sk-toggleable__content {max-height: 0;max-width: 0;overflow: hidden;text-align: left;background-color: #f0f8ff;}#sk-container-id-2 div.sk-toggleable__content pre {margin: 0.2em;color: black;border-radius: 0.25em;background-color: #f0f8ff;}#sk-container-id-2 input.sk-toggleable__control:checked~div.sk-toggleable__content {max-height: 200px;max-width: 100%;overflow: auto;}#sk-container-id-2 input.sk-toggleable__control:checked~label.sk-toggleable__label-arrow:before {content: \"▾\";}#sk-container-id-2 div.sk-estimator input.sk-toggleable__control:checked~label.sk-toggleable__label {background-color: #d4ebff;}#sk-container-id-2 div.sk-label input.sk-toggleable__control:checked~label.sk-toggleable__label {background-color: #d4ebff;}#sk-container-id-2 input.sk-hidden--visually {border: 0;clip: rect(1px 1px 1px 1px);clip: rect(1px, 1px, 1px, 1px);height: 1px;margin: -1px;overflow: hidden;padding: 0;position: absolute;width: 1px;}#sk-container-id-2 div.sk-estimator {font-family: monospace;background-color: #f0f8ff;border: 1px dotted black;border-radius: 0.25em;box-sizing: border-box;margin-bottom: 0.5em;}#sk-container-id-2 div.sk-estimator:hover {background-color: #d4ebff;}#sk-container-id-2 div.sk-parallel-item::after {content: \"\";width: 100%;border-bottom: 1px solid gray;flex-grow: 1;}#sk-container-id-2 div.sk-label:hover label.sk-toggleable__label {background-color: #d4ebff;}#sk-container-id-2 div.sk-serial::before {content: \"\";position: absolute;border-left: 1px solid gray;box-sizing: border-box;top: 0;bottom: 0;left: 50%;z-index: 0;}#sk-container-id-2 div.sk-serial {display: flex;flex-direction: column;align-items: center;background-color: white;padding-right: 0.2em;padding-left: 0.2em;position: relative;}#sk-container-id-2 div.sk-item {position: relative;z-index: 1;}#sk-container-id-2 div.sk-parallel {display: flex;align-items: stretch;justify-content: center;background-color: white;position: relative;}#sk-container-id-2 div.sk-item::before, #sk-container-id-2 div.sk-parallel-item::before {content: \"\";position: absolute;border-left: 1px solid gray;box-sizing: border-box;top: 0;bottom: 0;left: 50%;z-index: -1;}#sk-container-id-2 div.sk-parallel-item {display: flex;flex-direction: column;z-index: 1;position: relative;background-color: white;}#sk-container-id-2 div.sk-parallel-item:first-child::after {align-self: flex-end;width: 50%;}#sk-container-id-2 div.sk-parallel-item:last-child::after {align-self: flex-start;width: 50%;}#sk-container-id-2 div.sk-parallel-item:only-child::after {width: 0;}#sk-container-id-2 div.sk-dashed-wrapped {border: 1px dashed gray;margin: 0 0.4em 0.5em 0.4em;box-sizing: border-box;padding-bottom: 0.4em;background-color: white;}#sk-container-id-2 div.sk-label label {font-family: monospace;font-weight: bold;display: inline-block;line-height: 1.2em;}#sk-container-id-2 div.sk-label-container {text-align: center;}#sk-container-id-2 div.sk-container {/* jupyter's `normalize.less` sets `[hidden] { display: none; }` but bootstrap.min.css set `[hidden] { display: none !important; }` so we also need the `!important` here to be able to override the default hidden behavior on the sphinx rendered scikit-learn.org. See: https://github.com/scikit-learn/scikit-learn/issues/21755 */display: inline-block !important;position: relative;}#sk-container-id-2 div.sk-text-repr-fallback {display: none;}</style><div id=\"sk-container-id-2\" class=\"sk-top-container\"><div class=\"sk-text-repr-fallback\"><pre>KNNImputer()</pre><b>In a Jupyter environment, please rerun this cell to show the HTML representation or trust the notebook. <br />On GitHub, the HTML representation is unable to render, please try loading this page with nbviewer.org.</b></div><div class=\"sk-container\" hidden><div class=\"sk-item\"><div class=\"sk-estimator sk-toggleable\"><input class=\"sk-toggleable__control sk-hidden--visually\" id=\"sk-estimator-id-2\" type=\"checkbox\" checked><label for=\"sk-estimator-id-2\" class=\"sk-toggleable__label sk-toggleable__label-arrow\">KNNImputer</label><div class=\"sk-toggleable__content\"><pre>KNNImputer()</pre></div></div></div></div></div>"
      ],
      "text/plain": [
       "KNNImputer()"
      ]
     },
     "execution_count": 174,
     "metadata": {},
     "output_type": "execute_result"
    }
   ],
   "source": [
    "num_impute.fit(df2[numerical_features])"
   ]
  },
  {
   "cell_type": "code",
   "execution_count": 175,
   "metadata": {},
   "outputs": [],
   "source": [
    "df2[numerical_features] = num_impute.transform(df2[numerical_features])"
   ]
  },
  {
   "cell_type": "code",
   "execution_count": 176,
   "metadata": {},
   "outputs": [
    {
     "data": {
      "text/plain": [
       "Unnamed: 0             0\n",
       "Index                  0\n",
       "Tour_Name              0\n",
       "Tour_Type              2\n",
       "Number_of_Reviewer     0\n",
       "Rating                 0\n",
       "Duration               0\n",
       "Price                  0\n",
       "Highlight              0\n",
       "Location              30\n",
       "dtype: int64"
      ]
     },
     "execution_count": 176,
     "metadata": {},
     "output_type": "execute_result"
    }
   ],
   "source": [
    "df2.isnull().sum()"
   ]
  },
  {
   "attachments": {},
   "cell_type": "markdown",
   "metadata": {},
   "source": [
    "#### <font color = yellow><b>Filling on categorical features "
   ]
  },
  {
   "cell_type": "code",
   "execution_count": 177,
   "metadata": {},
   "outputs": [
    {
     "data": {
      "text/plain": [
       "array(['Tour_Name', 'Tour_Type', 'Highlight', 'Location'], dtype=object)"
      ]
     },
     "execution_count": 177,
     "metadata": {},
     "output_type": "execute_result"
    }
   ],
   "source": [
    "categorical_features = df2.select_dtypes(include = ['object']).columns.values\n",
    "categorical_features"
   ]
  },
  {
   "cell_type": "code",
   "execution_count": 178,
   "metadata": {},
   "outputs": [
    {
     "data": {
      "text/html": [
       "<div>\n",
       "<style scoped>\n",
       "    .dataframe tbody tr th:only-of-type {\n",
       "        vertical-align: middle;\n",
       "    }\n",
       "\n",
       "    .dataframe tbody tr th {\n",
       "        vertical-align: top;\n",
       "    }\n",
       "\n",
       "    .dataframe thead th {\n",
       "        text-align: right;\n",
       "    }\n",
       "</style>\n",
       "<table border=\"1\" class=\"dataframe\">\n",
       "  <thead>\n",
       "    <tr style=\"text-align: right;\">\n",
       "      <th></th>\n",
       "      <th>Tour_Name</th>\n",
       "      <th>Tour_Type</th>\n",
       "      <th>Highlight</th>\n",
       "      <th>Location</th>\n",
       "    </tr>\n",
       "  </thead>\n",
       "  <tbody>\n",
       "    <tr>\n",
       "      <th>0</th>\n",
       "      <td>Phare: The Cambodian Circus Show in Siem Reap</td>\n",
       "      <td>Comedy Shows</td>\n",
       "      <td>Siem Reap's most original, authentic live perf...</td>\n",
       "      <td>Asia, Cambodia, Siem Reap Province, Siem Reap,...</td>\n",
       "    </tr>\n",
       "    <tr>\n",
       "      <th>1</th>\n",
       "      <td>Khmer Gourmet Cooking Class</td>\n",
       "      <td>Cooking Classes</td>\n",
       "      <td>In-person guide</td>\n",
       "      <td>Asia, Cambodia, Siem Reap Province, Siem Reap,...</td>\n",
       "    </tr>\n",
       "    <tr>\n",
       "      <th>2</th>\n",
       "      <td>Koh Ker &amp; Beng Mealea Full-Day Join-in Tour</td>\n",
       "      <td>Full-day Tours</td>\n",
       "      <td>Cold towels &amp; Bottled water, Professional Engl...</td>\n",
       "      <td>Asia, Cambodia, Siem Reap Province, Siem Reap,...</td>\n",
       "    </tr>\n",
       "    <tr>\n",
       "      <th>3</th>\n",
       "      <td>Kampot Day Tour \"Bokor National Park\"</td>\n",
       "      <td>Adventure Tours</td>\n",
       "      <td>Transportation: Tuk Tuk, English speaking driv...</td>\n",
       "      <td>Asia, Cambodia, Kampot Province, Kampot, Thing...</td>\n",
       "    </tr>\n",
       "    <tr>\n",
       "      <th>4</th>\n",
       "      <td>Bike the Siem Reap Countryside with Local Expert</td>\n",
       "      <td>Adventure Tours</td>\n",
       "      <td>Hotel pick up &amp; Drop Off, Professional local E...</td>\n",
       "      <td>Asia, Cambodia, Siem Reap Province, Siem Reap,...</td>\n",
       "    </tr>\n",
       "  </tbody>\n",
       "</table>\n",
       "</div>"
      ],
      "text/plain": [
       "                                          Tour_Name        Tour_Type  \\\n",
       "0     Phare: The Cambodian Circus Show in Siem Reap     Comedy Shows   \n",
       "1                       Khmer Gourmet Cooking Class  Cooking Classes   \n",
       "2       Koh Ker & Beng Mealea Full-Day Join-in Tour   Full-day Tours   \n",
       "3             Kampot Day Tour \"Bokor National Park\"  Adventure Tours   \n",
       "4  Bike the Siem Reap Countryside with Local Expert  Adventure Tours   \n",
       "\n",
       "                                           Highlight  \\\n",
       "0  Siem Reap's most original, authentic live perf...   \n",
       "1                                    In-person guide   \n",
       "2  Cold towels & Bottled water, Professional Engl...   \n",
       "3  Transportation: Tuk Tuk, English speaking driv...   \n",
       "4  Hotel pick up & Drop Off, Professional local E...   \n",
       "\n",
       "                                            Location  \n",
       "0  Asia, Cambodia, Siem Reap Province, Siem Reap,...  \n",
       "1  Asia, Cambodia, Siem Reap Province, Siem Reap,...  \n",
       "2  Asia, Cambodia, Siem Reap Province, Siem Reap,...  \n",
       "3  Asia, Cambodia, Kampot Province, Kampot, Thing...  \n",
       "4  Asia, Cambodia, Siem Reap Province, Siem Reap,...  "
      ]
     },
     "execution_count": 178,
     "metadata": {},
     "output_type": "execute_result"
    }
   ],
   "source": [
    "df2[categorical_features].head()"
   ]
  },
  {
   "cell_type": "code",
   "execution_count": 179,
   "metadata": {},
   "outputs": [],
   "source": [
    "df2.dropna(subset=['Tour_Type'], inplace=True)\n",
    "df2.dropna(subset=['Location'], inplace=True)"
   ]
  },
  {
   "attachments": {},
   "cell_type": "markdown",
   "metadata": {},
   "source": [
    "#### <font color = yellow><b>Verify null values"
   ]
  },
  {
   "cell_type": "code",
   "execution_count": 180,
   "metadata": {},
   "outputs": [
    {
     "data": {
      "text/plain": [
       "Unnamed: 0            0\n",
       "Index                 0\n",
       "Tour_Name             0\n",
       "Tour_Type             0\n",
       "Number_of_Reviewer    0\n",
       "Rating                0\n",
       "Duration              0\n",
       "Price                 0\n",
       "Highlight             0\n",
       "Location              0\n",
       "dtype: int64"
      ]
     },
     "execution_count": 180,
     "metadata": {},
     "output_type": "execute_result"
    }
   ],
   "source": [
    "df2.isnull().sum()"
   ]
  },
  {
   "attachments": {},
   "cell_type": "markdown",
   "metadata": {},
   "source": [
    "## <font color = yellow>5. Load file after filling missing values"
   ]
  },
  {
   "cell_type": "code",
   "execution_count": 181,
   "metadata": {},
   "outputs": [],
   "source": [
    "df2.to_csv('Dataset3.csv')"
   ]
  },
  {
   "cell_type": "code",
   "execution_count": 182,
   "metadata": {},
   "outputs": [
    {
     "data": {
      "text/html": [
       "<div>\n",
       "<style scoped>\n",
       "    .dataframe tbody tr th:only-of-type {\n",
       "        vertical-align: middle;\n",
       "    }\n",
       "\n",
       "    .dataframe tbody tr th {\n",
       "        vertical-align: top;\n",
       "    }\n",
       "\n",
       "    .dataframe thead th {\n",
       "        text-align: right;\n",
       "    }\n",
       "</style>\n",
       "<table border=\"1\" class=\"dataframe\">\n",
       "  <thead>\n",
       "    <tr style=\"text-align: right;\">\n",
       "      <th></th>\n",
       "      <th>Unnamed: 0.1</th>\n",
       "      <th>Unnamed: 0</th>\n",
       "      <th>Index</th>\n",
       "      <th>Tour_Name</th>\n",
       "      <th>Tour_Type</th>\n",
       "      <th>Number_of_Reviewer</th>\n",
       "      <th>Rating</th>\n",
       "      <th>Duration</th>\n",
       "      <th>Price</th>\n",
       "      <th>Highlight</th>\n",
       "      <th>Location</th>\n",
       "    </tr>\n",
       "  </thead>\n",
       "  <tbody>\n",
       "    <tr>\n",
       "      <th>0</th>\n",
       "      <td>0</td>\n",
       "      <td>0.0</td>\n",
       "      <td>1.0</td>\n",
       "      <td>Phare: The Cambodian Circus Show in Siem Reap</td>\n",
       "      <td>Comedy Shows</td>\n",
       "      <td>992.0</td>\n",
       "      <td>5.0</td>\n",
       "      <td>1.0</td>\n",
       "      <td>18.000</td>\n",
       "      <td>Siem Reap's most original, authentic live perf...</td>\n",
       "      <td>Asia, Cambodia, Siem Reap Province, Siem Reap,...</td>\n",
       "    </tr>\n",
       "    <tr>\n",
       "      <th>1</th>\n",
       "      <td>1</td>\n",
       "      <td>1.0</td>\n",
       "      <td>2.0</td>\n",
       "      <td>Khmer Gourmet Cooking Class</td>\n",
       "      <td>Cooking Classes</td>\n",
       "      <td>55.0</td>\n",
       "      <td>5.0</td>\n",
       "      <td>3.0</td>\n",
       "      <td>21.500</td>\n",
       "      <td>In-person guide</td>\n",
       "      <td>Asia, Cambodia, Siem Reap Province, Siem Reap,...</td>\n",
       "    </tr>\n",
       "    <tr>\n",
       "      <th>2</th>\n",
       "      <td>2</td>\n",
       "      <td>2.0</td>\n",
       "      <td>3.0</td>\n",
       "      <td>Koh Ker &amp; Beng Mealea Full-Day Join-in Tour</td>\n",
       "      <td>Full-day Tours</td>\n",
       "      <td>288.0</td>\n",
       "      <td>5.0</td>\n",
       "      <td>10.0</td>\n",
       "      <td>50.000</td>\n",
       "      <td>Cold towels &amp; Bottled water, Professional Engl...</td>\n",
       "      <td>Asia, Cambodia, Siem Reap Province, Siem Reap,...</td>\n",
       "    </tr>\n",
       "    <tr>\n",
       "      <th>3</th>\n",
       "      <td>3</td>\n",
       "      <td>3.0</td>\n",
       "      <td>4.0</td>\n",
       "      <td>Kampot Day Tour \"Bokor National Park\"</td>\n",
       "      <td>Adventure Tours</td>\n",
       "      <td>18.0</td>\n",
       "      <td>4.5</td>\n",
       "      <td>5.0</td>\n",
       "      <td>36.000</td>\n",
       "      <td>Transportation: Tuk Tuk, English speaking driv...</td>\n",
       "      <td>Asia, Cambodia, Kampot Province, Kampot, Thing...</td>\n",
       "    </tr>\n",
       "    <tr>\n",
       "      <th>4</th>\n",
       "      <td>4</td>\n",
       "      <td>4.0</td>\n",
       "      <td>5.0</td>\n",
       "      <td>Bike the Siem Reap Countryside with Local Expert</td>\n",
       "      <td>Adventure Tours</td>\n",
       "      <td>308.0</td>\n",
       "      <td>5.0</td>\n",
       "      <td>5.0</td>\n",
       "      <td>35.000</td>\n",
       "      <td>Hotel pick up &amp; Drop Off, Professional local E...</td>\n",
       "      <td>Asia, Cambodia, Siem Reap Province, Siem Reap,...</td>\n",
       "    </tr>\n",
       "    <tr>\n",
       "      <th>...</th>\n",
       "      <td>...</td>\n",
       "      <td>...</td>\n",
       "      <td>...</td>\n",
       "      <td>...</td>\n",
       "      <td>...</td>\n",
       "      <td>...</td>\n",
       "      <td>...</td>\n",
       "      <td>...</td>\n",
       "      <td>...</td>\n",
       "      <td>...</td>\n",
       "      <td>...</td>\n",
       "    </tr>\n",
       "    <tr>\n",
       "      <th>4748</th>\n",
       "      <td>4780</td>\n",
       "      <td>4780.0</td>\n",
       "      <td>4781.0</td>\n",
       "      <td>Koh Khe Beng Mealea less crowded Private Tour</td>\n",
       "      <td>Museum Tickets &amp; Passes</td>\n",
       "      <td>6.6</td>\n",
       "      <td>4.8</td>\n",
       "      <td>10.0</td>\n",
       "      <td>92.232</td>\n",
       "      <td>English Speaking Tour guide, air conditioner c...</td>\n",
       "      <td>Siem Reap, Cambodia</td>\n",
       "    </tr>\n",
       "    <tr>\n",
       "      <th>4749</th>\n",
       "      <td>4781</td>\n",
       "      <td>4781.0</td>\n",
       "      <td>4782.0</td>\n",
       "      <td>Special Angkor Sunrise &amp; Sunset Tour</td>\n",
       "      <td>Full-day Tours</td>\n",
       "      <td>7.4</td>\n",
       "      <td>4.8</td>\n",
       "      <td>9.0</td>\n",
       "      <td>61.540</td>\n",
       "      <td>English speaking tourist guide, Hotel pick up ...</td>\n",
       "      <td>Siem Reap, Cambodia</td>\n",
       "    </tr>\n",
       "    <tr>\n",
       "      <th>4750</th>\n",
       "      <td>4782</td>\n",
       "      <td>4782.0</td>\n",
       "      <td>4783.0</td>\n",
       "      <td>Most Amazing Angkor Tour</td>\n",
       "      <td>Adventure Tours</td>\n",
       "      <td>1.0</td>\n",
       "      <td>5.0</td>\n",
       "      <td>12.0</td>\n",
       "      <td>92.232</td>\n",
       "      <td>Guided Tour</td>\n",
       "      <td>Krong Siem Reap, Cambodia</td>\n",
       "    </tr>\n",
       "    <tr>\n",
       "      <th>4751</th>\n",
       "      <td>4783</td>\n",
       "      <td>4783.0</td>\n",
       "      <td>4784.0</td>\n",
       "      <td>Amazing Koh Ker And Beng Mealea Tour</td>\n",
       "      <td>Full-day Tours</td>\n",
       "      <td>7.4</td>\n",
       "      <td>5.0</td>\n",
       "      <td>9.0</td>\n",
       "      <td>90.000</td>\n",
       "      <td>English speaking tourist guide, Private transp...</td>\n",
       "      <td>Siem Reap, Cambodia</td>\n",
       "    </tr>\n",
       "    <tr>\n",
       "      <th>4752</th>\n",
       "      <td>4784</td>\n",
       "      <td>4784.0</td>\n",
       "      <td>4785.0</td>\n",
       "      <td>Siem Reap - Our famous French Building Provinc...</td>\n",
       "      <td>Hiking Tours</td>\n",
       "      <td>1.0</td>\n",
       "      <td>5.0</td>\n",
       "      <td>8.0</td>\n",
       "      <td>173.080</td>\n",
       "      <td>English Local Tour Guide (Licensed Tour Guide)...</td>\n",
       "      <td>Siem Reap, Cambodia</td>\n",
       "    </tr>\n",
       "  </tbody>\n",
       "</table>\n",
       "<p>4753 rows × 11 columns</p>\n",
       "</div>"
      ],
      "text/plain": [
       "      Unnamed: 0.1  Unnamed: 0   Index  \\\n",
       "0                0         0.0     1.0   \n",
       "1                1         1.0     2.0   \n",
       "2                2         2.0     3.0   \n",
       "3                3         3.0     4.0   \n",
       "4                4         4.0     5.0   \n",
       "...            ...         ...     ...   \n",
       "4748          4780      4780.0  4781.0   \n",
       "4749          4781      4781.0  4782.0   \n",
       "4750          4782      4782.0  4783.0   \n",
       "4751          4783      4783.0  4784.0   \n",
       "4752          4784      4784.0  4785.0   \n",
       "\n",
       "                                              Tour_Name  \\\n",
       "0         Phare: The Cambodian Circus Show in Siem Reap   \n",
       "1                           Khmer Gourmet Cooking Class   \n",
       "2           Koh Ker & Beng Mealea Full-Day Join-in Tour   \n",
       "3                 Kampot Day Tour \"Bokor National Park\"   \n",
       "4      Bike the Siem Reap Countryside with Local Expert   \n",
       "...                                                 ...   \n",
       "4748      Koh Khe Beng Mealea less crowded Private Tour   \n",
       "4749               Special Angkor Sunrise & Sunset Tour   \n",
       "4750                           Most Amazing Angkor Tour   \n",
       "4751               Amazing Koh Ker And Beng Mealea Tour   \n",
       "4752  Siem Reap - Our famous French Building Provinc...   \n",
       "\n",
       "                    Tour_Type  Number_of_Reviewer  Rating  Duration    Price  \\\n",
       "0                Comedy Shows               992.0     5.0       1.0   18.000   \n",
       "1             Cooking Classes                55.0     5.0       3.0   21.500   \n",
       "2              Full-day Tours               288.0     5.0      10.0   50.000   \n",
       "3             Adventure Tours                18.0     4.5       5.0   36.000   \n",
       "4             Adventure Tours               308.0     5.0       5.0   35.000   \n",
       "...                       ...                 ...     ...       ...      ...   \n",
       "4748  Museum Tickets & Passes                 6.6     4.8      10.0   92.232   \n",
       "4749           Full-day Tours                 7.4     4.8       9.0   61.540   \n",
       "4750          Adventure Tours                 1.0     5.0      12.0   92.232   \n",
       "4751           Full-day Tours                 7.4     5.0       9.0   90.000   \n",
       "4752             Hiking Tours                 1.0     5.0       8.0  173.080   \n",
       "\n",
       "                                              Highlight  \\\n",
       "0     Siem Reap's most original, authentic live perf...   \n",
       "1                                       In-person guide   \n",
       "2     Cold towels & Bottled water, Professional Engl...   \n",
       "3     Transportation: Tuk Tuk, English speaking driv...   \n",
       "4     Hotel pick up & Drop Off, Professional local E...   \n",
       "...                                                 ...   \n",
       "4748  English Speaking Tour guide, air conditioner c...   \n",
       "4749  English speaking tourist guide, Hotel pick up ...   \n",
       "4750                                        Guided Tour   \n",
       "4751  English speaking tourist guide, Private transp...   \n",
       "4752  English Local Tour Guide (Licensed Tour Guide)...   \n",
       "\n",
       "                                               Location  \n",
       "0     Asia, Cambodia, Siem Reap Province, Siem Reap,...  \n",
       "1     Asia, Cambodia, Siem Reap Province, Siem Reap,...  \n",
       "2     Asia, Cambodia, Siem Reap Province, Siem Reap,...  \n",
       "3     Asia, Cambodia, Kampot Province, Kampot, Thing...  \n",
       "4     Asia, Cambodia, Siem Reap Province, Siem Reap,...  \n",
       "...                                                 ...  \n",
       "4748                                Siem Reap, Cambodia  \n",
       "4749                                Siem Reap, Cambodia  \n",
       "4750                          Krong Siem Reap, Cambodia  \n",
       "4751                                Siem Reap, Cambodia  \n",
       "4752                                Siem Reap, Cambodia  \n",
       "\n",
       "[4753 rows x 11 columns]"
      ]
     },
     "execution_count": 182,
     "metadata": {},
     "output_type": "execute_result"
    }
   ],
   "source": [
    "df3 = pd.read_csv('Dataset3.csv')\n",
    "df3"
   ]
  },
  {
   "cell_type": "code",
   "execution_count": 183,
   "metadata": {},
   "outputs": [
    {
     "data": {
      "text/html": [
       "<div>\n",
       "<style scoped>\n",
       "    .dataframe tbody tr th:only-of-type {\n",
       "        vertical-align: middle;\n",
       "    }\n",
       "\n",
       "    .dataframe tbody tr th {\n",
       "        vertical-align: top;\n",
       "    }\n",
       "\n",
       "    .dataframe thead th {\n",
       "        text-align: right;\n",
       "    }\n",
       "</style>\n",
       "<table border=\"1\" class=\"dataframe\">\n",
       "  <thead>\n",
       "    <tr style=\"text-align: right;\">\n",
       "      <th></th>\n",
       "      <th>Unnamed: 0.1</th>\n",
       "      <th>Unnamed: 0</th>\n",
       "      <th>Index</th>\n",
       "      <th>Tour_Name</th>\n",
       "      <th>Tour_Type</th>\n",
       "      <th>Number_of_Reviewer</th>\n",
       "      <th>Rating</th>\n",
       "      <th>Duration</th>\n",
       "      <th>Price</th>\n",
       "      <th>Highlight</th>\n",
       "      <th>Location</th>\n",
       "    </tr>\n",
       "  </thead>\n",
       "  <tbody>\n",
       "    <tr>\n",
       "      <th>4748</th>\n",
       "      <td>4780</td>\n",
       "      <td>4780.0</td>\n",
       "      <td>4781.0</td>\n",
       "      <td>Koh Khe Beng Mealea less crowded Private Tour</td>\n",
       "      <td>Museum Tickets &amp; Passes</td>\n",
       "      <td>6.6</td>\n",
       "      <td>4.8</td>\n",
       "      <td>10.0</td>\n",
       "      <td>92.232</td>\n",
       "      <td>English Speaking Tour guide, air conditioner c...</td>\n",
       "      <td>Siem Reap, Cambodia</td>\n",
       "    </tr>\n",
       "    <tr>\n",
       "      <th>4749</th>\n",
       "      <td>4781</td>\n",
       "      <td>4781.0</td>\n",
       "      <td>4782.0</td>\n",
       "      <td>Special Angkor Sunrise &amp; Sunset Tour</td>\n",
       "      <td>Full-day Tours</td>\n",
       "      <td>7.4</td>\n",
       "      <td>4.8</td>\n",
       "      <td>9.0</td>\n",
       "      <td>61.540</td>\n",
       "      <td>English speaking tourist guide, Hotel pick up ...</td>\n",
       "      <td>Siem Reap, Cambodia</td>\n",
       "    </tr>\n",
       "    <tr>\n",
       "      <th>4750</th>\n",
       "      <td>4782</td>\n",
       "      <td>4782.0</td>\n",
       "      <td>4783.0</td>\n",
       "      <td>Most Amazing Angkor Tour</td>\n",
       "      <td>Adventure Tours</td>\n",
       "      <td>1.0</td>\n",
       "      <td>5.0</td>\n",
       "      <td>12.0</td>\n",
       "      <td>92.232</td>\n",
       "      <td>Guided Tour</td>\n",
       "      <td>Krong Siem Reap, Cambodia</td>\n",
       "    </tr>\n",
       "    <tr>\n",
       "      <th>4751</th>\n",
       "      <td>4783</td>\n",
       "      <td>4783.0</td>\n",
       "      <td>4784.0</td>\n",
       "      <td>Amazing Koh Ker And Beng Mealea Tour</td>\n",
       "      <td>Full-day Tours</td>\n",
       "      <td>7.4</td>\n",
       "      <td>5.0</td>\n",
       "      <td>9.0</td>\n",
       "      <td>90.000</td>\n",
       "      <td>English speaking tourist guide, Private transp...</td>\n",
       "      <td>Siem Reap, Cambodia</td>\n",
       "    </tr>\n",
       "    <tr>\n",
       "      <th>4752</th>\n",
       "      <td>4784</td>\n",
       "      <td>4784.0</td>\n",
       "      <td>4785.0</td>\n",
       "      <td>Siem Reap - Our famous French Building Provinc...</td>\n",
       "      <td>Hiking Tours</td>\n",
       "      <td>1.0</td>\n",
       "      <td>5.0</td>\n",
       "      <td>8.0</td>\n",
       "      <td>173.080</td>\n",
       "      <td>English Local Tour Guide (Licensed Tour Guide)...</td>\n",
       "      <td>Siem Reap, Cambodia</td>\n",
       "    </tr>\n",
       "  </tbody>\n",
       "</table>\n",
       "</div>"
      ],
      "text/plain": [
       "      Unnamed: 0.1  Unnamed: 0   Index  \\\n",
       "4748          4780      4780.0  4781.0   \n",
       "4749          4781      4781.0  4782.0   \n",
       "4750          4782      4782.0  4783.0   \n",
       "4751          4783      4783.0  4784.0   \n",
       "4752          4784      4784.0  4785.0   \n",
       "\n",
       "                                              Tour_Name  \\\n",
       "4748      Koh Khe Beng Mealea less crowded Private Tour   \n",
       "4749               Special Angkor Sunrise & Sunset Tour   \n",
       "4750                           Most Amazing Angkor Tour   \n",
       "4751               Amazing Koh Ker And Beng Mealea Tour   \n",
       "4752  Siem Reap - Our famous French Building Provinc...   \n",
       "\n",
       "                    Tour_Type  Number_of_Reviewer  Rating  Duration    Price  \\\n",
       "4748  Museum Tickets & Passes                 6.6     4.8      10.0   92.232   \n",
       "4749           Full-day Tours                 7.4     4.8       9.0   61.540   \n",
       "4750          Adventure Tours                 1.0     5.0      12.0   92.232   \n",
       "4751           Full-day Tours                 7.4     5.0       9.0   90.000   \n",
       "4752             Hiking Tours                 1.0     5.0       8.0  173.080   \n",
       "\n",
       "                                              Highlight  \\\n",
       "4748  English Speaking Tour guide, air conditioner c...   \n",
       "4749  English speaking tourist guide, Hotel pick up ...   \n",
       "4750                                        Guided Tour   \n",
       "4751  English speaking tourist guide, Private transp...   \n",
       "4752  English Local Tour Guide (Licensed Tour Guide)...   \n",
       "\n",
       "                       Location  \n",
       "4748        Siem Reap, Cambodia  \n",
       "4749        Siem Reap, Cambodia  \n",
       "4750  Krong Siem Reap, Cambodia  \n",
       "4751        Siem Reap, Cambodia  \n",
       "4752        Siem Reap, Cambodia  "
      ]
     },
     "execution_count": 183,
     "metadata": {},
     "output_type": "execute_result"
    }
   ],
   "source": [
    "df3.tail()"
   ]
  },
  {
   "attachments": {},
   "cell_type": "markdown",
   "metadata": {},
   "source": [
    "## <font color = yellow>6. Feature Contents"
   ]
  },
  {
   "cell_type": "code",
   "execution_count": 184,
   "metadata": {},
   "outputs": [
    {
     "data": {
      "text/plain": [
       "Unnamed: 0.1          4753\n",
       "Unnamed: 0            4753\n",
       "Index                 4753\n",
       "Tour_Name             2589\n",
       "Tour_Type               87\n",
       "Number_of_Reviewer     245\n",
       "Rating                  32\n",
       "Duration                42\n",
       "Price                 1312\n",
       "Highlight             2802\n",
       "Location                62\n",
       "dtype: int64"
      ]
     },
     "execution_count": 184,
     "metadata": {},
     "output_type": "execute_result"
    }
   ],
   "source": [
    "# number of case in each features\n",
    "df3.nunique()"
   ]
  },
  {
   "cell_type": "code",
   "execution_count": 185,
   "metadata": {},
   "outputs": [
    {
     "data": {
      "text/plain": [
       "Unnamed: 0.1          [0, 1, 2, 3, 4, 5, 6, 7, 8, 9, 10, 11, 12, 13,...\n",
       "Unnamed: 0            [0.0, 1.0, 2.0, 3.0, 4.0, 5.0, 6.0, 7.0, 8.0, ...\n",
       "Index                 [1.0, 2.0, 3.0, 4.0, 5.0, 6.0, 7.0, 8.0, 9.0, ...\n",
       "Tour_Name             [Phare: The Cambodian Circus Show in Siem Reap...\n",
       "Tour_Type             [Comedy Shows, Cooking Classes, Full-day Tours...\n",
       "Number_of_Reviewer    [992.0, 55.0, 288.0, 18.0, 308.0, 74.0, 205.0,...\n",
       "Rating                [5.0, 4.5, 4.9, 4.7, 4.0, 3.5, 4.3, 4.2, 2.6, ...\n",
       "Duration              [1.0, 3.0, 10.0, 5.0, 48.0, 6.0, 7.0, 4.0, 2.0...\n",
       "Price                 [18.0, 21.5, 50.0, 36.0, 35.0, 20.0, 25.0, 55....\n",
       "Highlight             [Siem Reap's most original, authentic live per...\n",
       "Location              [Asia, Cambodia, Siem Reap Province, Siem Reap...\n",
       "dtype: object"
      ]
     },
     "execution_count": 185,
     "metadata": {},
     "output_type": "execute_result"
    }
   ],
   "source": [
    "# Understanding the content of all unique values\n",
    "feature_contents = df3.apply(lambda col: col.unique())\n",
    "feature_contents"
   ]
  },
  {
   "cell_type": "code",
   "execution_count": 186,
   "metadata": {},
   "outputs": [
    {
     "data": {
      "text/html": [
       "<div>\n",
       "<style scoped>\n",
       "    .dataframe tbody tr th:only-of-type {\n",
       "        vertical-align: middle;\n",
       "    }\n",
       "\n",
       "    .dataframe tbody tr th {\n",
       "        vertical-align: top;\n",
       "    }\n",
       "\n",
       "    .dataframe thead th {\n",
       "        text-align: right;\n",
       "    }\n",
       "</style>\n",
       "<table border=\"1\" class=\"dataframe\">\n",
       "  <thead>\n",
       "    <tr style=\"text-align: right;\">\n",
       "      <th></th>\n",
       "      <th>Unnamed: 0</th>\n",
       "      <th>0</th>\n",
       "    </tr>\n",
       "  </thead>\n",
       "  <tbody>\n",
       "    <tr>\n",
       "      <th>0</th>\n",
       "      <td>Unnamed: 0.1</td>\n",
       "      <td>[   0    1    2 ... 4782 4783 4784]</td>\n",
       "    </tr>\n",
       "    <tr>\n",
       "      <th>1</th>\n",
       "      <td>Unnamed: 0</td>\n",
       "      <td>[0.000e+00 1.000e+00 2.000e+00 ... 4.782e+03 4...</td>\n",
       "    </tr>\n",
       "    <tr>\n",
       "      <th>2</th>\n",
       "      <td>Index</td>\n",
       "      <td>[1.000e+00 2.000e+00 3.000e+00 ... 4.783e+03 4...</td>\n",
       "    </tr>\n",
       "    <tr>\n",
       "      <th>3</th>\n",
       "      <td>Tour_Name</td>\n",
       "      <td>['Phare: The Cambodian Circus Show in Siem Rea...</td>\n",
       "    </tr>\n",
       "    <tr>\n",
       "      <th>4</th>\n",
       "      <td>Tour_Type</td>\n",
       "      <td>['Comedy Shows' 'Cooking Classes' 'Full-day To...</td>\n",
       "    </tr>\n",
       "    <tr>\n",
       "      <th>5</th>\n",
       "      <td>Number_of_Reviewer</td>\n",
       "      <td>[9.920e+02 5.500e+01 2.880e+02 1.800e+01 3.080...</td>\n",
       "    </tr>\n",
       "    <tr>\n",
       "      <th>6</th>\n",
       "      <td>Rating</td>\n",
       "      <td>[5.  4.5 4.9 4.7 4.  3.5 4.3 4.2 2.6 3.8 2.5 3...</td>\n",
       "    </tr>\n",
       "    <tr>\n",
       "      <th>7</th>\n",
       "      <td>Duration</td>\n",
       "      <td>[1.000e+00 3.000e+00 1.000e+01 5.000e+00 4.800...</td>\n",
       "    </tr>\n",
       "    <tr>\n",
       "      <th>8</th>\n",
       "      <td>Price</td>\n",
       "      <td>[ 18.     21.5    50.    ... 202.738 208.046  ...</td>\n",
       "    </tr>\n",
       "    <tr>\n",
       "      <th>9</th>\n",
       "      <td>Highlight</td>\n",
       "      <td>[\"Siem Reap's most original, authentic live pe...</td>\n",
       "    </tr>\n",
       "    <tr>\n",
       "      <th>10</th>\n",
       "      <td>Location</td>\n",
       "      <td>['Asia, Cambodia, Siem Reap Province, Siem Rea...</td>\n",
       "    </tr>\n",
       "  </tbody>\n",
       "</table>\n",
       "</div>"
      ],
      "text/plain": [
       "            Unnamed: 0                                                  0\n",
       "0         Unnamed: 0.1                [   0    1    2 ... 4782 4783 4784]\n",
       "1           Unnamed: 0  [0.000e+00 1.000e+00 2.000e+00 ... 4.782e+03 4...\n",
       "2                Index  [1.000e+00 2.000e+00 3.000e+00 ... 4.783e+03 4...\n",
       "3            Tour_Name  ['Phare: The Cambodian Circus Show in Siem Rea...\n",
       "4            Tour_Type  ['Comedy Shows' 'Cooking Classes' 'Full-day To...\n",
       "5   Number_of_Reviewer  [9.920e+02 5.500e+01 2.880e+02 1.800e+01 3.080...\n",
       "6               Rating  [5.  4.5 4.9 4.7 4.  3.5 4.3 4.2 2.6 3.8 2.5 3...\n",
       "7             Duration  [1.000e+00 3.000e+00 1.000e+01 5.000e+00 4.800...\n",
       "8                Price  [ 18.     21.5    50.    ... 202.738 208.046  ...\n",
       "9            Highlight  [\"Siem Reap's most original, authentic live pe...\n",
       "10            Location  ['Asia, Cambodia, Siem Reap Province, Siem Rea..."
      ]
     },
     "execution_count": 186,
     "metadata": {},
     "output_type": "execute_result"
    }
   ],
   "source": [
    "pd.DataFrame(feature_contents).to_csv('Feature_Content.csv')\n",
    "Feature_contents = pd.read_csv('Feature_Content.csv')\n",
    "Feature_contents"
   ]
  },
  {
   "attachments": {},
   "cell_type": "markdown",
   "metadata": {},
   "source": [
    "## <font color = yellow>7. Checking Outliers"
   ]
  },
  {
   "cell_type": "code",
   "execution_count": 187,
   "metadata": {},
   "outputs": [
    {
     "data": {
      "text/plain": [
       "array(['Unnamed: 0', 'Index', 'Number_of_Reviewer', 'Rating', 'Duration',\n",
       "       'Price'], dtype=object)"
      ]
     },
     "execution_count": 187,
     "metadata": {},
     "output_type": "execute_result"
    }
   ],
   "source": [
    "numerical_features"
   ]
  },
  {
   "attachments": {},
   "cell_type": "markdown",
   "metadata": {},
   "source": [
    "#### <font color = red><b>Number_of_Reviewer "
   ]
  },
  {
   "cell_type": "code",
   "execution_count": 188,
   "metadata": {},
   "outputs": [
    {
     "name": "stdout",
     "output_type": "stream",
     "text": [
      "Upper bound: 14.399999999999999\n",
      "Lower bound: -6.399999999999999\n",
      "\n",
      "************************************************************************************************************************\n",
      "\n",
      "Upper Outliers value:  [992.0, 55.0, 288.0, 18.0, 308.0, 74.0, 205.0, 33.0, 24.0, 31.0, 32.0, 92.0, 32.0, 337.0, 388.0, 163.0, 29.0, 112.0, 95.0, 73.0, 25.0, 915.0, 289.0, 37.0, 915.0, 21.0, 305.0, 26.0, 29.0, 17.0, 93.8, 337.0, 83.0, 51.0, 68.0, 43.0, 37.0, 47.0, 36.0, 15.0, 18.0, 24.6, 133.0, 73.0, 966.0, 28.0, 34.0, 21.0, 20.0, 107.0, 18.0, 26.0, 126.0, 16.0, 42.0, 47.0, 66.0, 41.0, 26.0, 51.0, 15.0, 43.0, 28.0, 574.0, 57.0, 17.0, 32.0, 83.0, 68.0, 336.0, 20.0, 31.0, 133.0, 30.0, 40.0, 29.0, 19.0, 35.0, 35.0, 30.0, 85.0, 17.0, 33.0, 130.0, 131.0, 25.0, 32.0, 31.0, 113.0, 34.0, 27.0, 43.0, 133.0, 42.0, 31.0, 117.0, 29.0, 83.0, 34.0, 70.0, 41.0, 39.0, 39.0, 15.0, 174.0, 31.0, 46.0, 21.0, 21.0, 37.0, 23.0, 28.0, 31.0, 32.0, 42.0, 15.0, 37.0, 33.0, 167.0, 54.0, 25.0, 19.0, 26.0, 20.0, 25.0, 34.0, 20.0, 24.0, 16.0, 18.0, 18.0, 21.0, 20.0, 22.2, 25.0, 53.4, 53.4, 25.2, 35.6, 18.0, 34.6, 18.0, 18.0, 18.0, 34.6, 53.4, 18.6, 18.0, 53.4, 53.4, 42.2, 49.2, 42.2, 18.6, 51.8, 18.0, 51.8, 18.0, 58.2, 35.4, 58.2, 31.8, 24.8, 58.2, 24.8, 61.6, 29.6, 61.6, 55.2, 31.8, 58.2, 29.6, 55.2, 31.8, 22.6, 29.6, 58.2, 29.6, 31.2, 29.6, 31.2, 38.8, 29.6, 48.8, 113.0, 70.0, 56.0, 53.0, 50.0, 50.0, 47.0, 39.0, 31.0, 33.0, 36.0, 36.0, 35.0, 25.0, 20.0, 24.0, 23.0, 23.0, 25.0, 31.0, 62.0, 19.0, 19.0, 19.0, 29.0, 21.0, 23.0, 17.0, 18.0, 22.0, 23.0, 17.0, 18.0, 17.0, 17.0, 17.0, 19.0, 20.0, 15.0, 16.0, 23.0, 21.0, 16.0, 16.0, 19.0, 16.0, 17.0, 16.0, 19.0, 70.0, 18.0, 19.0, 16.4, 16.4, 18.0, 23.0, 206.0, 64.0, 193.0, 111.0, 109.0, 80.0, 179.0, 42.0, 42.0, 38.0, 17.0, 325.0, 254.0, 114.0, 162.0, 23.6, 286.0, 133.0, 35.0, 51.0, 38.0, 646.0, 1289.0, 174.0, 39.0, 87.0, 38.0, 115.0, 24.0, 22.0, 48.2, 195.0, 98.0, 37.8, 42.0, 79.0, 78.6, 390.0, 314.0, 304.0, 30.0, 42.0, 69.0, 19.0, 41.0, 17.0, 68.0, 36.0, 24.4, 49.0, 27.0, 31.0, 16.0, 30.0, 57.0, 130.0, 21.0, 39.0, 212.0, 35.0, 44.0, 37.0, 17.0, 37.0, 19.0, 28.2, 41.0, 18.4, 35.0, 32.0, 141.0, 23.0, 105.0, 38.4, 70.0, 80.0, 42.0, 877.0, 190.0, 109.0, 25.2, 32.0, 15.0, 82.0, 31.0, 30.0, 768.0, 996.0, 26.0, 44.0, 42.0, 15.2, 22.2, 16.0, 14.8, 21.0, 22.0, 21.0, 32.0, 33.0, 19.0, 50.0, 65.6, 43.0, 17.6, 35.0, 17.0, 26.0, 30.0, 27.0, 175.0, 26.0, 176.0, 35.0, 35.0, 71.0, 30.0, 15.0, 40.0, 27.0, 19.0, 21.0, 19.0, 26.0, 38.0, 54.0, 40.0, 76.0, 44.0, 27.0, 21.0, 395.0, 50.0, 49.0, 36.0, 27.0, 17.0, 21.8, 19.0, 24.4, 19.4, 39.0, 38.0, 33.0, 20.0, 53.0, 41.0, 21.0, 42.0, 383.0, 15.4, 31.0, 30.0, 18.2, 47.0, 21.0, 267.0, 17.0, 20.2, 29.0, 36.0, 94.0, 40.0, 54.0, 43.4, 44.0, 28.0, 33.2, 135.0, 107.0, 50.2, 38.0, 23.0, 16.0, 34.0, 15.0, 23.0, 28.8, 119.0, 27.2, 26.6, 26.6, 35.0, 21.0, 117.0, 28.6, 16.0, 70.0, 26.0, 19.0, 57.0, 22.0, 18.4, 18.4, 28.0, 64.0, 21.0, 19.4, 23.0, 39.0, 17.8, 23.2, 23.6, 18.6, 18.6, 18.6, 18.6, 24.0, 24.0, 75.0, 30.0, 22.4, 24.4, 18.6, 22.8, 22.8, 24.0, 15.0, 34.0, 14.8, 19.0, 27.0, 18.0, 19.0, 23.8, 23.8, 24.2, 23.4, 23.4, 23.4, 113.0, 25.2, 23.4, 26.6, 25.2, 24.8, 26.6, 26.6, 24.8, 25.0, 28.2, 23.8, 25.6, 29.2, 25.0, 23.6, 22.0, 26.4, 17.0, 28.0, 21.0, 15.0, 27.0, 16.0, 19.0, 31.0, 14.8, 14.8, 19.0, 28.0, 16.0, 25.0, 34.0, 18.0, 18.0, 23.0, 20.0, 20.0, 17.0, 15.2, 61.0, 14.8, 14.8, 15.2, 14.8, 19.0, 19.0, 16.6, 19.0, 19.0, 14.6, 21.0, 56.0, 21.2, 21.2, 15.2, 21.2, 39.0, 22.6, 23.4, 31.0, 16.0, 23.0, 16.0, 18.0, 36.0, 18.0, 17.0, 29.4, 25.0, 31.0, 29.2, 29.2, 29.6, 139.0, 29.4, 29.4, 29.2, 29.2, 29.2, 29.0, 29.2, 29.2, 29.0, 28.8, 14.8, 14.8, 16.8, 14.6, 16.8, 14.6, 16.8, 14.6, 51.0, 14.6, 14.6, 14.6, 17.0, 47.0, 25.0, 20.0, 17.0]\n",
      "\n",
      "************************************************************************************************************************\n",
      "\n",
      "Upper Outliers Index:  [0, 1, 2, 3, 4, 5, 6, 7, 8, 9, 10, 11, 13, 14, 17, 19, 20, 21, 22, 23, 25, 26, 28, 29, 30, 31, 33, 34, 35, 36, 38, 39, 40, 42, 43, 44, 47, 48, 49, 50, 51, 53, 54, 55, 58, 59, 60, 64, 67, 70, 72, 73, 74, 75, 76, 77, 78, 82, 83, 84, 86, 87, 90, 92, 94, 95, 96, 97, 99, 101, 104, 106, 108, 109, 112, 113, 115, 116, 118, 120, 121, 123, 125, 127, 128, 130, 131, 132, 134, 137, 139, 140, 142, 144, 147, 150, 153, 157, 158, 164, 165, 167, 168, 170, 172, 173, 177, 179, 180, 184, 192, 193, 196, 210, 212, 213, 223, 225, 226, 227, 229, 230, 231, 232, 233, 235, 236, 237, 238, 241, 251, 264, 266, 389, 401, 406, 407, 410, 413, 423, 424, 425, 427, 428, 429, 431, 433, 435, 436, 437, 438, 439, 440, 441, 442, 443, 444, 445, 446, 447, 448, 449, 450, 451, 452, 453, 454, 455, 456, 457, 458, 459, 460, 461, 463, 464, 465, 466, 467, 468, 469, 470, 471, 473, 474, 475, 476, 477, 478, 479, 480, 481, 482, 483, 484, 485, 486, 488, 489, 490, 491, 492, 493, 494, 495, 496, 497, 498, 499, 500, 501, 502, 503, 504, 505, 506, 507, 508, 509, 510, 511, 512, 513, 514, 515, 516, 517, 518, 521, 524, 525, 531, 536, 540, 542, 583, 1268, 2343, 2406, 2426, 2427, 2430, 2431, 2432, 2433, 2434, 2435, 2437, 2438, 2439, 2440, 2441, 2442, 2444, 2445, 2446, 2447, 2448, 2450, 2451, 2452, 2453, 2455, 2456, 2457, 2461, 2462, 2463, 2464, 2465, 2466, 2467, 2468, 2469, 2470, 2472, 2474, 2475, 2476, 2479, 2480, 2484, 2488, 2489, 2491, 2492, 2493, 2496, 2498, 2500, 2502, 2504, 2510, 2513, 2514, 2515, 2518, 2519, 2524, 2526, 2528, 2530, 2537, 2539, 2541, 2542, 2543, 2544, 2545, 2546, 2548, 2550, 2553, 2554, 2557, 2559, 2560, 2561, 2562, 2567, 2568, 2570, 2571, 2573, 2574, 2575, 2577, 2582, 2586, 2588, 2590, 2592, 2594, 2595, 2596, 2597, 2600, 2601, 2602, 2608, 2611, 2614, 2616, 2621, 2623, 2624, 2627, 2630, 2631, 2632, 2633, 2635, 2636, 2637, 2638, 2641, 2642, 2647, 2648, 2651, 2653, 2655, 2656, 2657, 2660, 2664, 2666, 2668, 2669, 2671, 2673, 2674, 2682, 2683, 2687, 2688, 2689, 2692, 2699, 2705, 2708, 2709, 2720, 2721, 2722, 2730, 2736, 2737, 2745, 2748, 2754, 2756, 2761, 2764, 2770, 2791, 2793, 2794, 2799, 2804, 2808, 2811, 2816, 2817, 2818, 2819, 2821, 2823, 2824, 2825, 2827, 2836, 2842, 2845, 2854, 2856, 2877, 2884, 2885, 2887, 2891, 2892, 2902, 2905, 2915, 2918, 2931, 2941, 2942, 2963, 2966, 2969, 2971, 2972, 2973, 2978, 2979, 2989, 2992, 3000, 3050, 3054, 3055, 3056, 3059, 3062, 3064, 3067, 3069, 3070, 3071, 3072, 3073, 3074, 3079, 3087, 3158, 3193, 3196, 3202, 3217, 3252, 3283, 3345, 3404, 3411, 3416, 3422, 3423, 3425, 3428, 3429, 3431, 3434, 3435, 3436, 3437, 3438, 3439, 3442, 3444, 3445, 3447, 3454, 3455, 3459, 3463, 3467, 3475, 3512, 3513, 3529, 3574, 3580, 3618, 3656, 3687, 3690, 3715, 3718, 3756, 3759, 3775, 3809, 3815, 3818, 3852, 3880, 3916, 3934, 3940, 3948, 3950, 3952, 3954, 4018, 4027, 4029, 4031, 4033, 4038, 4039, 4040, 4041, 4043, 4046, 4047, 4048, 4055, 4057, 4079, 4121, 4156, 4245, 4295, 4299, 4380, 4389, 4506, 4511, 4521, 4524, 4525, 4526, 4531, 4532, 4534, 4535, 4536, 4538, 4543, 4544, 4545, 4546, 4563, 4589, 4591, 4592, 4596, 4599, 4602, 4603, 4608, 4609, 4615, 4616, 4644, 4650, 4652, 4705, 4718, 4727]\n",
      "None\n"
     ]
    }
   ],
   "source": [
    "def detect_outlier(data_set):\n",
    "    outlier_lst = []\n",
    "    q1 = data_set.quantile(0.25)\n",
    "    q3 = data_set.quantile(0.75)\n",
    "    \n",
    "    IQR = q3 - q1\n",
    "    \n",
    "    lower_bound = q1 - 1.5 * IQR\n",
    "    upper_bound = q3 + 1.5 * IQR\n",
    "    \n",
    "    upper_outliers_index = data_set[data_set > upper_bound].index.tolist()\n",
    "    lower_outliers_index = data_set[data_set < lower_bound].index.tolist()\n",
    "    \n",
    "    upper_outliers = data_set[data_set > upper_bound].tolist()\n",
    "    lower_outliers = data_set[data_set < lower_bound]\n",
    "    \n",
    "    print(f'Upper bound: {upper_bound}')\n",
    "    print(f'Lower bound: {lower_bound}')\n",
    "    \n",
    "    print()\n",
    "    print(\"*\" * 120)\n",
    "    print()\n",
    "    \n",
    "    print(f'Upper Outliers value: ', upper_outliers)\n",
    "    \n",
    "    print()\n",
    "    print(\"*\" * 120)\n",
    "    print()\n",
    "    \n",
    "    print(f'Upper Outliers Index: ', upper_outliers_index)\n",
    "    \n",
    "print(detect_outlier(df3['Number_of_Reviewer']))"
   ]
  },
  {
   "attachments": {},
   "cell_type": "markdown",
   "metadata": {},
   "source": [
    "#### <font color = red><b>Rating"
   ]
  },
  {
   "cell_type": "code",
   "execution_count": 189,
   "metadata": {},
   "outputs": [
    {
     "name": "stdout",
     "output_type": "stream",
     "text": [
      "Upper bound: 6.199999999999999\n",
      "Lower bound: 3.0000000000000004\n",
      "\n",
      "************************************************************************************************************************\n",
      "\n",
      "Upper Outliers value:  []\n",
      "\n",
      "************************************************************************************************************************\n",
      "\n",
      "Upper Outliers Index:  []\n",
      "None\n"
     ]
    }
   ],
   "source": [
    "def detect_outlier(data_set):\n",
    "    outlier_lst = []\n",
    "    q1 = data_set.quantile(0.25)\n",
    "    q3 = data_set.quantile(0.75)\n",
    "    \n",
    "    IQR = q3 - q1\n",
    "    \n",
    "    lower_bound = q1 - 1.5 * IQR\n",
    "    upper_bound = q3 + 1.5 * IQR\n",
    "    \n",
    "    upper_outliers_index = data_set[data_set > upper_bound].index.tolist()\n",
    "    lower_outliers_index = data_set[data_set < lower_bound].index.tolist()\n",
    "    \n",
    "    upper_outliers = data_set[data_set > upper_bound].tolist()\n",
    "    lower_outliers = data_set[data_set < lower_bound]\n",
    "    \n",
    "    print(f'Upper bound: {upper_bound}')\n",
    "    print(f'Lower bound: {lower_bound}')\n",
    "    \n",
    "    print()\n",
    "    print(\"*\" * 120)\n",
    "    print()\n",
    "    \n",
    "    print(f'Upper Outliers value: ', upper_outliers)\n",
    "    \n",
    "    print()\n",
    "    print(\"*\" * 120)\n",
    "    print()\n",
    "    \n",
    "    print(f'Upper Outliers Index: ', upper_outliers_index)\n",
    "    \n",
    "print(detect_outlier(df3['Rating']))"
   ]
  },
  {
   "attachments": {},
   "cell_type": "markdown",
   "metadata": {},
   "source": [
    "#### <font color = red><b>Duration"
   ]
  },
  {
   "cell_type": "code",
   "execution_count": 190,
   "metadata": {},
   "outputs": [
    {
     "name": "stdout",
     "output_type": "stream",
     "text": [
      "Upper bound: 17.5\n",
      "Lower bound: -2.5\n",
      "\n",
      "************************************************************************************************************************\n",
      "\n",
      "Upper Outliers value:  [48.0, 72.0, 48.0, 48.0, 48.0, 48.0, 48.0, 72.0, 72.0, 72.0, 72.0, 72.0, 24.0, 48.0, 48.0, 72.0, 48.0, 72.0, 48.0, 72.0, 48.0, 48.0, 72.0, 24.0, 24.0, 72.0, 48.0, 48.0, 72.0, 72.0, 72.0, 72.0, 48.0, 48.0, 72.0, 24.0, 48.0, 24.0, 24.0, 72.0, 72.0, 48.0, 48.0, 48.0, 72.0, 72.0, 48.0, 24.0, 24.0, 48.0, 48.0, 48.0, 48.0, 48.0, 48.0, 72.0, 24.0, 48.0, 24.0, 48.0, 72.0, 48.0, 72.0, 72.0, 72.0, 48.0, 48.0, 72.0, 48.0, 48.0, 48.0, 72.0, 24.0, 48.0, 72.0, 72.0, 72.0, 72.0, 72.0, 72.0, 72.0, 72.0, 48.0, 48.0, 72.0, 72.0, 48.0, 72.0, 48.0, 48.0, 48.0, 72.0, 48.0, 72.0, 24.0, 72.0, 48.0, 72.0, 48.0, 48.0, 48.0, 48.0, 72.0, 72.0, 48.0, 48.0, 48.0, 48.0, 72.0, 48.0, 72.0, 48.0, 72.0, 72.0, 72.0, 48.0, 48.0, 72.0, 48.0, 48.0, 48.0, 48.0, 48.0, 72.0, 48.0, 48.0, 48.0, 72.0, 72.0, 48.0, 72.0, 48.0, 72.0, 72.0, 48.0, 48.0, 48.0, 72.0, 72.0, 48.0, 48.0, 72.0, 48.0, 48.0, 48.0, 72.0, 24.0, 48.0, 48.0, 72.0, 72.0, 48.0, 48.0, 72.0, 48.0, 48.0, 72.0, 72.0, 72.0, 72.0, 48.0, 72.0, 72.0, 48.0, 48.0, 72.0, 72.0, 72.0, 72.0, 72.0, 48.0, 24.0, 24.0, 48.0, 72.0, 72.0, 48.0, 72.0, 72.0, 72.0, 72.0, 72.0, 72.0, 48.0, 48.0, 48.0, 48.0, 24.0, 72.0, 48.0, 48.0, 72.0, 48.0, 48.0, 48.0, 72.0, 24.0, 48.0, 48.0, 24.0, 24.0, 48.0, 48.0, 24.0, 72.0, 72.0, 48.0, 72.0, 48.0, 48.0, 48.0, 72.0, 48.0, 48.0, 48.0, 48.0, 72.0, 72.0, 72.0, 72.0, 48.0, 48.0, 48.0, 72.0, 48.0, 72.0, 72.0, 72.0, 72.0, 72.0, 48.0, 72.0, 48.0, 72.0, 72.0, 72.0, 72.0, 72.0, 72.0, 72.0, 72.0, 48.0, 72.0, 72.0, 48.0, 72.0, 72.0, 64.0, 48.0, 24.0, 24.0, 48.0, 72.0, 72.0, 72.0, 72.0, 48.0, 72.0, 72.0, 48.0, 72.0, 24.0, 24.0, 72.0, 72.0, 48.0, 48.0, 72.0, 72.0, 48.0, 72.0, 72.0, 72.0, 72.0, 72.0, 72.0, 48.0, 48.0, 72.0, 72.0, 48.0, 48.0, 72.0, 72.0, 48.0, 24.0, 72.0, 72.0, 48.0, 72.0, 72.0, 48.0, 48.0, 48.0, 48.0, 72.0, 72.0, 48.0, 72.0, 72.0, 72.0, 48.0, 72.0, 72.0, 72.0, 72.0, 48.0, 72.0, 72.0, 24.0, 72.0, 24.0, 48.0, 24.0, 48.0, 48.0, 48.0, 72.0, 48.0, 72.0, 72.0, 72.0, 48.0, 72.0, 48.0, 48.0, 72.0, 48.0, 72.0, 48.0, 48.0, 72.0, 72.0, 72.0, 66.0, 48.0, 48.0, 72.0, 72.0, 72.0, 48.0, 72.0, 48.0, 48.0, 24.0, 24.0, 72.0, 72.0, 24.0, 72.0, 72.0, 72.0, 48.0, 72.0, 72.0, 72.0, 72.0, 72.0, 72.0, 48.0, 72.0, 48.0, 48.0, 72.0, 48.0, 72.0, 72.0, 48.0, 72.0, 48.0, 72.0, 72.0, 72.0, 72.0, 72.0, 72.0, 48.0, 48.0, 72.0, 72.0, 48.0, 48.0, 48.0, 24.0, 48.0, 72.0, 72.0, 24.0, 72.0, 48.0, 72.0, 48.0, 72.0, 72.0, 72.0, 72.0, 48.0, 72.0, 48.0, 72.0, 72.0, 48.0, 48.0, 72.0, 72.0, 72.0, 72.0, 72.0, 72.0, 72.0, 48.0, 48.0, 72.0, 72.0, 72.0, 72.0, 48.0, 72.0, 72.0, 24.0, 72.0, 72.0, 72.0, 72.0, 48.0, 72.0, 72.0, 24.0, 48.0, 72.0, 72.0, 48.0, 72.0, 72.0, 72.0, 72.0, 72.0, 48.0, 72.0, 72.0, 72.0, 72.0, 48.0, 24.0, 48.0, 72.0, 72.0, 72.0, 72.0, 72.0, 72.0, 72.0, 72.0, 72.0, 72.0, 48.0, 72.0, 72.0, 48.0, 24.0, 24.0, 72.0, 72.0, 72.0, 72.0, 72.0, 48.0, 48.0, 48.0, 72.0, 65.0, 48.0, 72.0, 72.0, 72.0, 24.0, 72.0, 72.0, 72.0, 72.0, 72.0, 48.0, 48.0, 48.0, 24.0, 72.0, 167.0, 48.0, 72.0, 72.0, 72.0, 48.0, 72.0, 48.0, 102.0, 72.0, 48.0, 48.0, 72.0, 48.0, 72.0, 48.0, 72.0, 72.0, 48.0, 48.0, 72.0, 24.0, 72.0, 72.0, 72.0, 72.0, 72.0, 48.0, 72.0, 48.0, 72.0, 72.0, 48.0, 48.0, 48.0, 48.0, 48.0, 48.0, 48.0, 48.0, 48.0, 48.0, 72.0, 72.0, 24.0, 72.0, 48.0, 48.0, 72.0, 72.0, 48.0, 72.0, 48.0, 48.0, 72.0, 72.0, 48.0, 48.0, 48.0, 72.0, 48.0, 72.0, 48.0, 72.0, 72.0, 24.0, 96.0, 24.0, 24.0, 96.0, 48.0, 72.0, 144.0, 72.0, 96.0, 120.0, 72.0, 168.0, 48.0, 72.0, 72.0, 96.0, 48.0, 48.0, 72.0, 96.0, 72.0, 24.0, 48.0, 120.0, 120.0, 48.0, 72.0, 72.0, 48.0, 48.0, 24.0, 48.0, 48.0, 48.0, 48.0, 48.0, 72.0, 48.0, 24.0, 48.0, 48.0, 48.0, 96.0, 24.0, 24.0, 120.0, 24.0, 48.0, 48.0, 48.0, 72.0, 48.0, 24.0, 48.0, 96.0, 72.0, 96.0, 144.0, 120.0, 72.0, 48.0, 48.0, 48.0, 72.0, 72.0, 72.0, 72.0, 72.0, 48.0, 48.0, 48.0, 48.0, 96.0, 48.0, 168.0, 196.0, 144.0, 120.0, 96.0, 48.0, 96.0, 72.0, 48.0, 48.0, 144.0, 96.0, 72.0, 72.0, 72.0, 96.0, 72.0, 48.0, 72.0, 48.0, 48.0, 96.0, 24.0, 72.0, 48.0, 360.0, 216.0, 120.0, 72.0, 48.0, 96.0, 48.0, 168.0, 48.0, 48.0, 48.0, 48.0, 48.0, 96.0, 48.0, 72.0, 72.0, 24.0, 24.0, 96.0, 72.0, 48.0, 48.0, 120.0, 264.0, 48.0, 48.0, 72.0, 48.0, 24.0, 72.0, 120.0, 144.0, 72.0, 182.0, 72.0, 144.0, 72.0, 48.0, 48.0, 24.0, 72.0, 72.0, 48.0, 168.0, 48.0, 72.0, 120.0, 96.0, 182.0, 24.0, 48.0, 72.0, 120.0, 72.0, 112.0, 96.0, 48.0, 48.0, 72.0, 72.0, 48.0, 96.0, 48.0, 24.0, 48.0, 144.0, 24.0, 48.0, 48.0, 120.0, 196.0, 24.0, 72.0, 48.0, 48.0, 72.0, 48.0, 48.0, 144.0, 72.0, 72.0, 48.0, 120.0, 120.0, 72.0, 120.0, 24.0, 48.0, 720.0, 48.0, 48.0, 48.0, 72.0, 48.0, 120.0, 48.0, 48.0, 48.0, 48.0, 96.0, 96.0, 144.0, 48.0, 24.0, 48.0, 48.0, 96.0, 48.0, 172.0, 48.0, 24.0, 96.0, 96.0, 48.0, 72.0, 72.0, 48.0, 18.0, 72.0, 168.0, 48.0, 96.0, 48.0, 182.0, 48.0, 72.0, 48.0, 48.0, 48.0, 48.0, 48.0, 48.0, 144.0, 72.0, 144.0, 48.0, 72.0, 48.0, 48.0, 120.0, 72.0, 168.0, 48.0, 24.0, 48.0, 24.0, 48.0, 112.0, 48.0, 72.0, 72.0, 72.0, 72.0, 48.0, 48.0, 48.0, 24.0, 120.0, 182.0, 48.0, 48.0, 48.0, 144.0, 48.0, 96.0, 48.0, 144.0, 72.0, 48.0, 72.0, 48.0, 48.0, 48.0, 72.0, 48.0, 48.0, 148.0, 48.0, 120.0, 24.0, 72.0, 48.0, 182.0, 72.0, 96.0, 72.0, 48.0, 48.0, 24.0, 96.0, 113.0, 144.0, 24.0, 72.0, 120.0, 24.0, 48.0, 168.0, 96.0, 144.0, 72.0, 72.0, 24.0, 1144.0, 48.0, 48.0, 120.0, 48.0, 48.0, 48.0, 72.0, 48.0, 72.0, 112.0, 48.0, 48.0, 72.0, 48.0, 96.0, 48.0, 120.0, 120.0, 240.0, 48.0, 48.0, 48.0, 48.0, 48.0, 48.0, 72.0, 48.0, 48.0, 48.0, 96.0, 112.0, 72.0, 96.0, 120.0, 113.0, 96.0, 113.0, 72.0, 48.0, 48.0, 72.0, 24.0, 96.0, 72.0, 48.0, 72.0, 96.0, 144.0, 48.0, 72.0, 72.0, 24.0, 120.0, 48.0, 48.0, 120.0, 120.0, 120.0, 120.0, 96.0, 72.0, 48.0, 48.0, 48.0, 48.0, 48.0, 48.0, 72.0, 72.0, 168.0, 72.0, 96.0, 72.0, 48.0, 120.0, 48.0, 72.0, 48.0, 48.0, 72.0, 72.0, 72.0, 72.0, 48.0, 72.0, 72.0, 48.0, 72.0, 48.0, 96.0, 216.0, 96.0, 24.0, 72.0, 72.0, 144.0, 96.0, 48.0, 48.0, 48.0, 96.0, 48.0, 96.0, 72.0, 72.0, 72.0, 48.0, 120.0, 48.0, 72.0, 48.0, 48.0, 48.0, 182.0, 72.0, 96.0, 96.0, 1182.0, 72.0, 96.0, 72.0, 48.0, 24.0, 48.0, 72.0, 96.0, 48.0, 72.0, 120.0, 72.0, 72.0, 48.0, 48.0, 48.0, 96.0, 48.0, 120.0, 72.0, 72.0, 48.0, 48.0, 216.0, 96.0, 96.0, 96.0, 24.0, 120.0, 48.0, 72.0, 72.0, 48.0, 48.0, 182.0, 48.0, 72.0, 48.0, 48.0, 48.0, 120.0, 168.0, 182.0, 72.0, 72.0, 24.0, 96.0, 72.0, 48.0, 48.0, 72.0, 48.0, 48.0, 24.0, 168.0, 48.0, 48.0, 48.0, 72.0, 120.0, 72.0, 48.0, 48.0, 96.0, 360.0, 48.0, 48.0, 24.0, 72.0, 144.0, 24.0, 48.0, 96.0, 48.0, 48.0, 48.0, 48.0, 24.0, 24.0, 48.0, 144.0, 96.0, 48.0, 48.0, 48.0, 72.0, 96.0]\n",
      "\n",
      "************************************************************************************************************************\n",
      "\n",
      "Upper Outliers Index:  [7, 41, 72, 90, 126, 143, 195, 218, 226, 231, 232, 238, 246, 250, 256, 265, 267, 278, 282, 286, 300, 306, 310, 333, 344, 348, 374, 377, 384, 389, 397, 413, 438, 447, 452, 462, 463, 470, 473, 475, 477, 482, 486, 489, 491, 492, 493, 494, 495, 497, 498, 500, 504, 509, 510, 517, 519, 520, 525, 531, 532, 533, 534, 535, 538, 541, 546, 552, 554, 556, 557, 564, 567, 568, 570, 579, 586, 589, 592, 596, 597, 602, 603, 614, 617, 622, 625, 633, 635, 639, 643, 644, 654, 656, 659, 663, 666, 667, 670, 672, 673, 675, 676, 679, 686, 689, 691, 701, 703, 704, 706, 708, 710, 717, 719, 723, 727, 733, 735, 737, 740, 751, 753, 756, 758, 759, 760, 761, 762, 764, 765, 774, 779, 781, 783, 784, 785, 786, 787, 788, 794, 795, 796, 798, 801, 809, 814, 823, 828, 830, 831, 832, 843, 844, 845, 846, 854, 860, 864, 868, 870, 880, 893, 899, 904, 910, 914, 920, 921, 923, 927, 930, 936, 938, 939, 947, 950, 964, 980, 982, 985, 986, 990, 991, 992, 997, 1002, 1003, 1007, 1010, 1013, 1014, 1015, 1017, 1019, 1028, 1029, 1031, 1034, 1035, 1047, 1053, 1062, 1072, 1076, 1085, 1089, 1090, 1108, 1110, 1117, 1122, 1124, 1131, 1132, 1140, 1142, 1143, 1144, 1145, 1155, 1159, 1160, 1176, 1177, 1183, 1187, 1194, 1198, 1203, 1204, 1207, 1208, 1215, 1216, 1218, 1219, 1222, 1226, 1232, 1234, 1242, 1244, 1253, 1262, 1266, 1268, 1275, 1281, 1285, 1287, 1290, 1297, 1300, 1302, 1306, 1310, 1311, 1318, 1319, 1320, 1321, 1328, 1329, 1330, 1333, 1336, 1337, 1342, 1348, 1352, 1354, 1355, 1358, 1363, 1368, 1369, 1371, 1372, 1374, 1377, 1381, 1385, 1388, 1390, 1393, 1407, 1411, 1415, 1417, 1419, 1420, 1421, 1425, 1429, 1436, 1437, 1441, 1451, 1452, 1454, 1459, 1460, 1461, 1463, 1466, 1470, 1482, 1483, 1484, 1492, 1496, 1502, 1504, 1505, 1507, 1508, 1514, 1519, 1521, 1522, 1529, 1531, 1537, 1544, 1549, 1551, 1552, 1558, 1562, 1564, 1565, 1572, 1577, 1579, 1582, 1585, 1586, 1590, 1592, 1594, 1596, 1605, 1609, 1612, 1625, 1626, 1627, 1628, 1629, 1637, 1640, 1641, 1645, 1647, 1650, 1651, 1654, 1655, 1656, 1658, 1661, 1663, 1667, 1677, 1679, 1682, 1684, 1688, 1690, 1692, 1700, 1706, 1711, 1716, 1724, 1726, 1736, 1737, 1740, 1741, 1745, 1754, 1760, 1762, 1763, 1766, 1770, 1772, 1775, 1778, 1782, 1783, 1786, 1797, 1806, 1809, 1823, 1827, 1837, 1842, 1845, 1847, 1850, 1852, 1854, 1862, 1869, 1873, 1875, 1879, 1884, 1886, 1891, 1893, 1895, 1896, 1898, 1900, 1901, 1902, 1905, 1909, 1912, 1913, 1925, 1927, 1933, 1934, 1936, 1943, 1951, 1953, 1955, 1958, 1968, 1969, 1981, 1990, 1994, 1999, 2000, 2004, 2006, 2008, 2021, 2025, 2027, 2028, 2035, 2039, 2040, 2044, 2045, 2047, 2049, 2050, 2051, 2053, 2058, 2063, 2064, 2066, 2070, 2074, 2075, 2089, 2090, 2091, 2097, 2106, 2108, 2115, 2124, 2126, 2127, 2128, 2130, 2143, 2144, 2159, 2162, 2163, 2164, 2165, 2177, 2181, 2184, 2190, 2193, 2194, 2195, 2198, 2213, 2218, 2223, 2229, 2230, 2237, 2239, 2241, 2245, 2260, 2263, 2264, 2266, 2270, 2276, 2283, 2292, 2293, 2296, 2300, 2302, 2305, 2309, 2310, 2311, 2313, 2315, 2316, 2322, 2324, 2325, 2327, 2328, 2333, 2334, 2335, 2343, 2348, 2359, 2361, 2363, 2369, 2370, 2379, 2407, 2409, 2410, 2413, 2416, 2417, 2418, 2422, 2428, 2435, 2440, 2457, 2506, 2510, 2556, 2616, 2619, 2626, 2629, 2630, 2633, 2634, 2637, 2641, 2645, 2646, 2648, 2650, 2653, 2655, 2661, 2676, 2683, 2688, 2689, 2692, 2696, 2704, 2705, 2708, 2721, 2730, 2731, 2737, 2739, 2769, 2776, 2790, 2798, 2801, 2807, 2821, 2822, 2833, 2844, 2872, 2880, 2888, 2934, 2978, 2985, 2990, 2997, 2999, 3000, 3029, 3032, 3033, 3044, 3053, 3067, 3086, 3090, 3095, 3097, 3107, 3124, 3125, 3135, 3137, 3138, 3141, 3142, 3147, 3154, 3156, 3160, 3166, 3168, 3172, 3182, 3185, 3187, 3198, 3199, 3203, 3211, 3214, 3219, 3221, 3222, 3223, 3226, 3228, 3236, 3238, 3246, 3247, 3255, 3256, 3258, 3260, 3265, 3266, 3272, 3275, 3276, 3282, 3284, 3293, 3303, 3304, 3305, 3308, 3309, 3311, 3312, 3315, 3321, 3322, 3328, 3330, 3333, 3341, 3342, 3344, 3345, 3346, 3354, 3357, 3359, 3363, 3365, 3366, 3368, 3373, 3374, 3376, 3388, 3389, 3390, 3392, 3394, 3398, 3399, 3400, 3404, 3408, 3420, 3421, 3424, 3427, 3439, 3440, 3441, 3443, 3446, 3452, 3453, 3456, 3457, 3461, 3462, 3469, 3472, 3475, 3483, 3485, 3496, 3501, 3509, 3510, 3512, 3513, 3514, 3516, 3522, 3524, 3525, 3529, 3530, 3532, 3540, 3543, 3550, 3551, 3552, 3554, 3556, 3558, 3568, 3572, 3579, 3582, 3584, 3591, 3592, 3597, 3598, 3599, 3603, 3604, 3609, 3619, 3621, 3622, 3623, 3624, 3629, 3630, 3632, 3633, 3639, 3641, 3646, 3656, 3660, 3670, 3671, 3678, 3679, 3680, 3684, 3687, 3688, 3689, 3690, 3691, 3694, 3695, 3696, 3704, 3710, 3715, 3716, 3718, 3719, 3726, 3727, 3730, 3731, 3737, 3738, 3742, 3743, 3746, 3750, 3755, 3758, 3759, 3761, 3762, 3765, 3767, 3768, 3769, 3773, 3784, 3793, 3795, 3797, 3798, 3799, 3801, 3803, 3804, 3809, 3811, 3812, 3813, 3817, 3829, 3833, 3839, 3840, 3842, 3847, 3849, 3854, 3857, 3863, 3867, 3869, 3872, 3878, 3882, 3884, 3887, 3888, 3893, 3894, 3897, 3898, 3904, 3910, 3911, 3917, 3919, 3920, 3923, 3928, 3930, 3935, 3945, 3953, 3956, 3960, 3969, 3994, 4002, 4003, 4005, 4007, 4008, 4010, 4049, 4060, 4066, 4073, 4075, 4083, 4085, 4086, 4087, 4088, 4095, 4112, 4114, 4120, 4121, 4126, 4127, 4132, 4134, 4137, 4138, 4143, 4154, 4158, 4159, 4164, 4168, 4170, 4178, 4181, 4182, 4189, 4193, 4194, 4196, 4201, 4205, 4211, 4213, 4214, 4216, 4217, 4219, 4220, 4227, 4233, 4235, 4246, 4247, 4251, 4254, 4255, 4256, 4258, 4260, 4261, 4262, 4266, 4270, 4277, 4287, 4288, 4289, 4291, 4294, 4296, 4298, 4300, 4301, 4303, 4304, 4307, 4315, 4317, 4318, 4319, 4329, 4333, 4336, 4339, 4343, 4348, 4349, 4350, 4351, 4354, 4359, 4369, 4370, 4371, 4372, 4375, 4377, 4378, 4385, 4388, 4390, 4395, 4409, 4416, 4417, 4420, 4422, 4423, 4424, 4428, 4430, 4431, 4434, 4435, 4439, 4445, 4446, 4449, 4450, 4452, 4453, 4456, 4459, 4460, 4468, 4470, 4472, 4478, 4480, 4483, 4484, 4487, 4490, 4498, 4512, 4515, 4517, 4518, 4521, 4523, 4528, 4530, 4541, 4543, 4549, 4551, 4555, 4558, 4559, 4560, 4561, 4562, 4564, 4568, 4569, 4573, 4575, 4579, 4580, 4583, 4584, 4588, 4590, 4597, 4598, 4600, 4606, 4610, 4613, 4614, 4617, 4618, 4620, 4623, 4627, 4628, 4643, 4644, 4650, 4654, 4659, 4662, 4667, 4669, 4675, 4684, 4687, 4688, 4691, 4694, 4703, 4707, 4713, 4714, 4724, 4736, 4737, 4738, 4739, 4742, 4743, 4745, 4747]\n",
      "None\n"
     ]
    }
   ],
   "source": [
    "def detect_outlier(data_set):\n",
    "    outlier_lst = []\n",
    "    q1 = data_set.quantile(0.25)\n",
    "    q3 = data_set.quantile(0.75)\n",
    "    \n",
    "    IQR = q3 - q1\n",
    "    \n",
    "    lower_bound = q1 - 1.5 * IQR\n",
    "    upper_bound = q3 + 1.5 * IQR\n",
    "    \n",
    "    upper_outliers_index = data_set[data_set > upper_bound].index.tolist()\n",
    "    lower_outliers_index = data_set[data_set < lower_bound].index.tolist()\n",
    "    \n",
    "    upper_outliers = data_set[data_set > upper_bound].tolist()\n",
    "    lower_outliers = data_set[data_set < lower_bound]\n",
    "    \n",
    "    print(f'Upper bound: {upper_bound}')\n",
    "    print(f'Lower bound: {lower_bound}')\n",
    "    \n",
    "    print()\n",
    "    print(\"*\" * 120)\n",
    "    print()\n",
    "    \n",
    "    print(f'Upper Outliers value: ', upper_outliers)\n",
    "    \n",
    "    print()\n",
    "    print(\"*\" * 120)\n",
    "    print()\n",
    "    \n",
    "    print(f'Upper Outliers Index: ', upper_outliers_index)\n",
    "    \n",
    "print(detect_outlier(df3['Duration']))"
   ]
  },
  {
   "attachments": {},
   "cell_type": "markdown",
   "metadata": {},
   "source": [
    "#### <font color = red><b>Price"
   ]
  },
  {
   "cell_type": "code",
   "execution_count": 191,
   "metadata": {},
   "outputs": [
    {
     "name": "stdout",
     "output_type": "stream",
     "text": [
      "Upper bound: 278.26\n",
      "Lower bound: -93.1\n",
      "\n",
      "************************************************************************************************************************\n",
      "\n",
      "Upper Outliers value:  [490.0, 676.93, 350.0, 287.18, 350.0, 430.0, 370.0, 384.62, 396.93, 378.21, 300.52, 450.0, 370.0, 367.18, 598.0, 1985.9, 280.0, 299.0, 309.34, 296.42, 589.0, 350.0, 499.0, 510.0, 357.0, 384.62, 385.0, 470.0, 706.0, 360.0, 304.62, 358.98, 430.0, 1676.93, 287.18, 365.39, 292.31, 350.0, 287.18, 735.0, 594.88, 308.98, 500.0, 401.29, 697.0, 288.47, 379.49, 465.65, 420.85, 359.38, 800.0, 381.54, 585.66, 307.7, 487.18, 319.24, 500.0, 835.9, 992.83, 540.52, 299.59, 285.9, 300.42, 1309.0, 287.18, 282.06, 359.38, 1271.8, 768.0, 623.59, 1440.0, 960.0, 512.83, 660.0, 460.52, 767.18, 765.0, 294.36, 697.44, 305.25, 393.59, 558.98, 280.0, 800.0, 320.52, 2130.0, 282.06, 487.68, 3665.0, 307.7, 435.0, 328.21, 3190.0, 279.32, 552.83, 656.42, 300.52, 300.0, 691.29, 822.57, 1500.0, 325.0, 415.0, 533.34, 525.65, 615.0, 479.49, 327.18, 279.32, 1068.86, 489.24, 279.32, 395.0, 307.7, 297.0, 320.52, 293.79, 314.11, 415.39, 301.27, 400.0, 871.8, 827.0, 500.0, 475.9, 564.11, 536.42, 358.98, 2190.0, 479.49, 845.13, 475.0, 300.0, 1879.0, 672.83, 428.72, 526.35, 331.81, 285.0, 529.0, 1445.13, 425.65, 285.0, 1564.11, 431.8, 430.77, 737.44, 307.7, 281.42, 640.0, 473.85, 323.71, 1261.54, 300.52, 728.21, 450.0, 854.36, 315.0, 304.62, 2726.0, 610.0, 305.0, 295.0, 819.49, 1121.03, 388.72, 369.24, 307.7, 327.0, 646.16, 928.21, 1178.47, 487.18, 343.59, 299.0, 390.0, 310.0, 587.7, 743.59, 802.06, 488.0, 1130.77, 452.31, 296.0, 1400.0, 374.36, 345.0, 515.0, 552.83, 1528.21, 717.95, 502.57, 725.0, 1303.59, 820.52, 420.0, 326.93, 352.57, 905.0, 2170.0, 340.52, 419.24, 296.0, 330.0, 440.0, 350.0, 671.8, 394.88, 299.0, 340.52, 557.95, 525.0, 448.72, 328.21, 297.0, 304.62, 1220.52, 2349.9, 616.42, 295.84, 746.67, 550.0, 320.52, 460.0, 304.62, 352.83, 890.0, 425.65, 508.98, 320.0, 371.8, 653.34, 300.0, 525.65, 378.48, 425.65, 382.0, 529.24, 1430.77, 596.93, 1975.16, 290.0, 470.0, 350.0, 1500.0, 320.52, 355.0, 282.06, 491.29, 805.13, 1070.77, 279.5, 300.0, 374.36, 300.0, 558.0, 285.35, 334.35, 420.0, 344.62, 321.0, 300.0, 414.36, 339.0, 396.93, 350.0, 430.0, 735.0, 676.93, 425.65, 585.66, 370.0, 378.21, 300.52, 465.65, 992.83, 452.31, 691.29, 529.0, 299.0, 295.0, 359.38, 854.36, 351.748, 475.9, 660.0, 1975.16, 1130.77, 352.57, 320.52, 356.214, 725.0, 586.17, 300.52, 288.47, 355.0, 425.65, 345.0, 470.0, 300.0, 540.52, 279.5, 2726.0, 1500.0, 500.0, 299.0, 610.982, 314.11, 295.84, 343.59, 552.83, 1178.47, 499.0, 728.21, 305.25, 905.0, 737.44, 320.52, 323.71, 359.38, 587.7, 557.95, 589.0, 430.0, 307.7, 435.0, 671.8, 374.36, 573.064, 615.0, 393.59, 646.16, 558.0, 1564.11, 819.49, 533.34, 1261.54, 656.42, 2000.0, 415.0, 489.24, 353.85, 340.0, 928.21, 871.8, 1090.39, 315.0, 513.0, 1309.0, 706.0, 282.06, 616.42, 2190.0, 400.0, 326.93, 1400.0, 802.06, 536.42, 321.0, 528.21, 402.99, 3190.0, 297.0, 1593.08, 381.54, 890.0, 300.52, 296.0, 281.42, 327.0, 420.0, 559.426, 349.42, 299.0, 610.0, 499.0, 1445.13, 381.0, 395.0, 1221.4779999999998, 473.85, 800.0, 293.53, 394.88, 2365.55, 502.57, 310.0, 325.0, 448.932, 450.132, 401.29, 1271.8, 451.338, 300.0, 491.95, 487.68, 697.44, 304.62, 596.93, 432.058, 448.72, 479.49, 357.0, 525.0, 460.0, 420.0, 1500.0, 459.188, 639.4, 598.0, 340.52, 382.0, 319.24, 290.0, 835.9, 752.0, 3665.0, 515.0, 296.38, 296.38, 487.18, 340.52, 285.35, 470.0, 374.36, 672.83, 282.06, 285.9, 1879.0, 431.8, 3000.0, 475.0, 384.62, 294.36, 653.34, 488.0, 359.09400000000005, 349.00600000000003, 429.07, 372.146, 1220.52, 767.18, 358.608, 429.46400000000006, 525.65, 1430.77, 479.49, 845.13, 1070.77, 510.0, 640.0, 313.488, 2677.16, 525.65, 609.0, 1053.76, 429.89, 529.24]\n",
      "\n",
      "************************************************************************************************************************\n",
      "\n",
      "Upper Outliers Index:  [41, 76, 218, 227, 265, 278, 310, 348, 397, 452, 462, 463, 517, 520, 532, 534, 541, 570, 586, 597, 602, 617, 622, 633, 656, 663, 676, 686, 703, 706, 710, 717, 719, 733, 735, 756, 761, 762, 764, 765, 779, 786, 787, 795, 831, 844, 854, 864, 868, 880, 884, 893, 895, 910, 923, 947, 950, 975, 980, 990, 999, 1002, 1055, 1085, 1091, 1132, 1142, 1143, 1144, 1145, 1176, 1183, 1187, 1194, 1198, 1207, 1215, 1216, 1218, 1219, 1222, 1226, 1228, 1232, 1234, 1244, 1253, 1266, 1268, 1275, 1300, 1306, 1311, 1315, 1318, 1328, 1329, 1336, 1337, 1342, 1348, 1349, 1352, 1354, 1355, 1363, 1372, 1374, 1376, 1385, 1388, 1406, 1411, 1415, 1417, 1419, 1421, 1436, 1437, 1449, 1451, 1452, 1454, 1460, 1461, 1463, 1466, 1476, 1483, 1514, 1522, 1529, 1531, 1537, 1551, 1558, 1562, 1564, 1565, 1572, 1577, 1579, 1581, 1586, 1590, 1609, 1629, 1637, 1641, 1645, 1647, 1651, 1654, 1655, 1658, 1663, 1679, 1682, 1684, 1688, 1692, 1700, 1706, 1711, 1716, 1723, 1724, 1726, 1727, 1740, 1763, 1766, 1772, 1778, 1779, 1786, 1796, 1797, 1799, 1806, 1845, 1850, 1852, 1869, 1873, 1875, 1886, 1895, 1905, 1909, 1912, 1913, 1925, 1927, 1934, 1936, 1943, 1953, 1955, 1958, 1968, 1969, 1974, 1990, 1994, 1999, 2021, 2025, 2039, 2044, 2045, 2050, 2051, 2062, 2066, 2069, 2070, 2074, 2075, 2097, 2106, 2115, 2118, 2124, 2128, 2143, 2159, 2177, 2184, 2193, 2194, 2198, 2209, 2223, 2225, 2237, 2263, 2266, 2270, 2283, 2292, 2296, 2300, 2303, 2310, 2311, 2312, 2316, 2328, 2335, 2343, 2351, 2355, 2359, 2366, 2370, 2379, 2407, 2413, 2416, 2417, 2422, 2428, 2440, 2629, 2634, 2645, 2646, 2648, 2661, 2678, 2689, 2692, 2696, 2888, 2985, 3086, 3090, 3095, 3114, 3135, 3137, 3141, 3142, 3166, 3172, 3182, 3185, 3187, 3198, 3203, 3221, 3222, 3223, 3228, 3230, 3236, 3238, 3247, 3255, 3265, 3271, 3272, 3275, 3276, 3293, 3304, 3322, 3328, 3342, 3346, 3354, 3373, 3374, 3376, 3388, 3390, 3404, 3420, 3424, 3427, 3439, 3440, 3452, 3457, 3483, 3509, 3514, 3516, 3543, 3550, 3554, 3556, 3568, 3582, 3622, 3623, 3629, 3641, 3660, 3670, 3679, 3687, 3688, 3690, 3694, 3696, 3726, 3730, 3737, 3742, 3743, 3750, 3773, 3799, 3801, 3811, 3813, 3817, 3829, 3840, 3867, 3872, 3887, 3888, 3893, 3894, 3895, 3897, 3907, 3910, 3917, 3920, 3923, 3935, 3945, 3953, 3958, 3960, 3994, 4005, 4054, 4095, 4112, 4114, 4138, 4147, 4161, 4164, 4168, 4170, 4181, 4189, 4194, 4205, 4211, 4217, 4220, 4235, 4247, 4251, 4254, 4255, 4256, 4258, 4260, 4262, 4270, 4288, 4291, 4294, 4296, 4301, 4304, 4340, 4350, 4351, 4354, 4369, 4370, 4371, 4372, 4375, 4378, 4416, 4420, 4424, 4430, 4431, 4435, 4445, 4449, 4472, 4478, 4480, 4483, 4487, 4490, 4512, 4515, 4523, 4530, 4541, 4549, 4558, 4561, 4575, 4579, 4580, 4590, 4617, 4628, 4659, 4684, 4691, 4737, 4738, 4742]\n",
      "None\n"
     ]
    }
   ],
   "source": [
    "def detect_outlier(data_set):\n",
    "    outlier_lst = []\n",
    "    q1 = data_set.quantile(0.25)\n",
    "    q3 = data_set.quantile(0.75)\n",
    "    \n",
    "    IQR = q3 - q1\n",
    "    \n",
    "    lower_bound = q1 - 1.5 * IQR\n",
    "    upper_bound = q3 + 1.5 * IQR\n",
    "    \n",
    "    upper_outliers_index = data_set[data_set > upper_bound].index.tolist()\n",
    "    lower_outliers_index = data_set[data_set < lower_bound].index.tolist()\n",
    "    \n",
    "    upper_outliers = data_set[data_set > upper_bound].tolist()\n",
    "    lower_outliers = data_set[data_set < lower_bound]\n",
    "    \n",
    "    print(f'Upper bound: {upper_bound}')\n",
    "    print(f'Lower bound: {lower_bound}')\n",
    "    \n",
    "    print()\n",
    "    print(\"*\" * 120)\n",
    "    print()\n",
    "    \n",
    "    print(f'Upper Outliers value: ', upper_outliers)\n",
    "    \n",
    "    print()\n",
    "    print(\"*\" * 120)\n",
    "    print()\n",
    "    \n",
    "    print(f'Upper Outliers Index: ', upper_outliers_index)\n",
    "    \n",
    "print(detect_outlier(df3['Price']))"
   ]
  },
  {
   "attachments": {},
   "cell_type": "markdown",
   "metadata": {},
   "source": [
    "## <font color = yellow>8. Data description"
   ]
  },
  {
   "cell_type": "code",
   "execution_count": 192,
   "metadata": {},
   "outputs": [
    {
     "data": {
      "text/html": [
       "<div>\n",
       "<style scoped>\n",
       "    .dataframe tbody tr th:only-of-type {\n",
       "        vertical-align: middle;\n",
       "    }\n",
       "\n",
       "    .dataframe tbody tr th {\n",
       "        vertical-align: top;\n",
       "    }\n",
       "\n",
       "    .dataframe thead th {\n",
       "        text-align: right;\n",
       "    }\n",
       "</style>\n",
       "<table border=\"1\" class=\"dataframe\">\n",
       "  <thead>\n",
       "    <tr style=\"text-align: right;\">\n",
       "      <th></th>\n",
       "      <th>Unnamed: 0.1</th>\n",
       "      <th>Unnamed: 0</th>\n",
       "      <th>Index</th>\n",
       "      <th>Number_of_Reviewer</th>\n",
       "      <th>Rating</th>\n",
       "      <th>Duration</th>\n",
       "      <th>Price</th>\n",
       "    </tr>\n",
       "  </thead>\n",
       "  <tbody>\n",
       "    <tr>\n",
       "      <th>count</th>\n",
       "      <td>4753.000000</td>\n",
       "      <td>4753.000000</td>\n",
       "      <td>4753.000000</td>\n",
       "      <td>4753.000000</td>\n",
       "      <td>4753.000000</td>\n",
       "      <td>4753.000000</td>\n",
       "      <td>4753.000000</td>\n",
       "    </tr>\n",
       "    <tr>\n",
       "      <th>mean</th>\n",
       "      <td>2401.033242</td>\n",
       "      <td>2401.033242</td>\n",
       "      <td>2402.033242</td>\n",
       "      <td>10.656680</td>\n",
       "      <td>4.576373</td>\n",
       "      <td>20.400799</td>\n",
       "      <td>136.571942</td>\n",
       "    </tr>\n",
       "    <tr>\n",
       "      <th>std</th>\n",
       "      <td>1380.021448</td>\n",
       "      <td>1380.021448</td>\n",
       "      <td>1380.021448</td>\n",
       "      <td>48.594473</td>\n",
       "      <td>0.668113</td>\n",
       "      <td>39.161142</td>\n",
       "      <td>229.010212</td>\n",
       "    </tr>\n",
       "    <tr>\n",
       "      <th>min</th>\n",
       "      <td>0.000000</td>\n",
       "      <td>0.000000</td>\n",
       "      <td>1.000000</td>\n",
       "      <td>1.000000</td>\n",
       "      <td>1.000000</td>\n",
       "      <td>1.000000</td>\n",
       "      <td>5.000000</td>\n",
       "    </tr>\n",
       "    <tr>\n",
       "      <th>25%</th>\n",
       "      <td>1214.000000</td>\n",
       "      <td>1214.000000</td>\n",
       "      <td>1215.000000</td>\n",
       "      <td>1.400000</td>\n",
       "      <td>4.200000</td>\n",
       "      <td>5.000000</td>\n",
       "      <td>46.160000</td>\n",
       "    </tr>\n",
       "    <tr>\n",
       "      <th>50%</th>\n",
       "      <td>2406.000000</td>\n",
       "      <td>2406.000000</td>\n",
       "      <td>2407.000000</td>\n",
       "      <td>2.600000</td>\n",
       "      <td>5.000000</td>\n",
       "      <td>7.000000</td>\n",
       "      <td>75.000000</td>\n",
       "    </tr>\n",
       "    <tr>\n",
       "      <th>75%</th>\n",
       "      <td>3596.000000</td>\n",
       "      <td>3596.000000</td>\n",
       "      <td>3597.000000</td>\n",
       "      <td>6.600000</td>\n",
       "      <td>5.000000</td>\n",
       "      <td>10.000000</td>\n",
       "      <td>139.000000</td>\n",
       "    </tr>\n",
       "    <tr>\n",
       "      <th>max</th>\n",
       "      <td>4784.000000</td>\n",
       "      <td>4784.000000</td>\n",
       "      <td>4785.000000</td>\n",
       "      <td>1289.000000</td>\n",
       "      <td>5.000000</td>\n",
       "      <td>1182.000000</td>\n",
       "      <td>3665.000000</td>\n",
       "    </tr>\n",
       "  </tbody>\n",
       "</table>\n",
       "</div>"
      ],
      "text/plain": [
       "       Unnamed: 0.1   Unnamed: 0        Index  Number_of_Reviewer  \\\n",
       "count   4753.000000  4753.000000  4753.000000         4753.000000   \n",
       "mean    2401.033242  2401.033242  2402.033242           10.656680   \n",
       "std     1380.021448  1380.021448  1380.021448           48.594473   \n",
       "min        0.000000     0.000000     1.000000            1.000000   \n",
       "25%     1214.000000  1214.000000  1215.000000            1.400000   \n",
       "50%     2406.000000  2406.000000  2407.000000            2.600000   \n",
       "75%     3596.000000  3596.000000  3597.000000            6.600000   \n",
       "max     4784.000000  4784.000000  4785.000000         1289.000000   \n",
       "\n",
       "            Rating     Duration        Price  \n",
       "count  4753.000000  4753.000000  4753.000000  \n",
       "mean      4.576373    20.400799   136.571942  \n",
       "std       0.668113    39.161142   229.010212  \n",
       "min       1.000000     1.000000     5.000000  \n",
       "25%       4.200000     5.000000    46.160000  \n",
       "50%       5.000000     7.000000    75.000000  \n",
       "75%       5.000000    10.000000   139.000000  \n",
       "max       5.000000  1182.000000  3665.000000  "
      ]
     },
     "execution_count": 192,
     "metadata": {},
     "output_type": "execute_result"
    }
   ],
   "source": [
    "df3.describe()"
   ]
  },
  {
   "cell_type": "code",
   "execution_count": 193,
   "metadata": {},
   "outputs": [
    {
     "data": {
      "text/html": [
       "<div>\n",
       "<style scoped>\n",
       "    .dataframe tbody tr th:only-of-type {\n",
       "        vertical-align: middle;\n",
       "    }\n",
       "\n",
       "    .dataframe tbody tr th {\n",
       "        vertical-align: top;\n",
       "    }\n",
       "\n",
       "    .dataframe thead th {\n",
       "        text-align: right;\n",
       "    }\n",
       "</style>\n",
       "<table border=\"1\" class=\"dataframe\">\n",
       "  <thead>\n",
       "    <tr style=\"text-align: right;\">\n",
       "      <th></th>\n",
       "      <th>Unnamed: 0</th>\n",
       "      <th>Index</th>\n",
       "      <th>Number_of_Reviewer</th>\n",
       "      <th>Rating</th>\n",
       "      <th>Duration</th>\n",
       "      <th>Price</th>\n",
       "    </tr>\n",
       "  </thead>\n",
       "  <tbody>\n",
       "    <tr>\n",
       "      <th>count</th>\n",
       "      <td>4753.000000</td>\n",
       "      <td>4753.000000</td>\n",
       "      <td>4753.000000</td>\n",
       "      <td>4753.000000</td>\n",
       "      <td>4753.000000</td>\n",
       "      <td>4753.000000</td>\n",
       "    </tr>\n",
       "    <tr>\n",
       "      <th>mean</th>\n",
       "      <td>2401.033242</td>\n",
       "      <td>2402.033242</td>\n",
       "      <td>10.656680</td>\n",
       "      <td>4.576373</td>\n",
       "      <td>20.400799</td>\n",
       "      <td>136.571942</td>\n",
       "    </tr>\n",
       "    <tr>\n",
       "      <th>std</th>\n",
       "      <td>1380.021448</td>\n",
       "      <td>1380.021448</td>\n",
       "      <td>48.594473</td>\n",
       "      <td>0.668113</td>\n",
       "      <td>39.161142</td>\n",
       "      <td>229.010212</td>\n",
       "    </tr>\n",
       "    <tr>\n",
       "      <th>min</th>\n",
       "      <td>0.000000</td>\n",
       "      <td>1.000000</td>\n",
       "      <td>1.000000</td>\n",
       "      <td>1.000000</td>\n",
       "      <td>1.000000</td>\n",
       "      <td>5.000000</td>\n",
       "    </tr>\n",
       "    <tr>\n",
       "      <th>25%</th>\n",
       "      <td>1214.000000</td>\n",
       "      <td>1215.000000</td>\n",
       "      <td>1.400000</td>\n",
       "      <td>4.200000</td>\n",
       "      <td>5.000000</td>\n",
       "      <td>46.160000</td>\n",
       "    </tr>\n",
       "    <tr>\n",
       "      <th>50%</th>\n",
       "      <td>2406.000000</td>\n",
       "      <td>2407.000000</td>\n",
       "      <td>2.600000</td>\n",
       "      <td>5.000000</td>\n",
       "      <td>7.000000</td>\n",
       "      <td>75.000000</td>\n",
       "    </tr>\n",
       "    <tr>\n",
       "      <th>75%</th>\n",
       "      <td>3596.000000</td>\n",
       "      <td>3597.000000</td>\n",
       "      <td>6.600000</td>\n",
       "      <td>5.000000</td>\n",
       "      <td>10.000000</td>\n",
       "      <td>139.000000</td>\n",
       "    </tr>\n",
       "    <tr>\n",
       "      <th>max</th>\n",
       "      <td>4784.000000</td>\n",
       "      <td>4785.000000</td>\n",
       "      <td>1289.000000</td>\n",
       "      <td>5.000000</td>\n",
       "      <td>1182.000000</td>\n",
       "      <td>3665.000000</td>\n",
       "    </tr>\n",
       "  </tbody>\n",
       "</table>\n",
       "</div>"
      ],
      "text/plain": [
       "        Unnamed: 0        Index  Number_of_Reviewer       Rating     Duration  \\\n",
       "count  4753.000000  4753.000000         4753.000000  4753.000000  4753.000000   \n",
       "mean   2401.033242  2402.033242           10.656680     4.576373    20.400799   \n",
       "std    1380.021448  1380.021448           48.594473     0.668113    39.161142   \n",
       "min       0.000000     1.000000            1.000000     1.000000     1.000000   \n",
       "25%    1214.000000  1215.000000            1.400000     4.200000     5.000000   \n",
       "50%    2406.000000  2407.000000            2.600000     5.000000     7.000000   \n",
       "75%    3596.000000  3597.000000            6.600000     5.000000    10.000000   \n",
       "max    4784.000000  4785.000000         1289.000000     5.000000  1182.000000   \n",
       "\n",
       "             Price  \n",
       "count  4753.000000  \n",
       "mean    136.571942  \n",
       "std     229.010212  \n",
       "min       5.000000  \n",
       "25%      46.160000  \n",
       "50%      75.000000  \n",
       "75%     139.000000  \n",
       "max    3665.000000  "
      ]
     },
     "execution_count": 193,
     "metadata": {},
     "output_type": "execute_result"
    }
   ],
   "source": [
    "df3.describe(include=['float'])"
   ]
  },
  {
   "cell_type": "code",
   "execution_count": 194,
   "metadata": {},
   "outputs": [
    {
     "data": {
      "text/html": [
       "<div>\n",
       "<style scoped>\n",
       "    .dataframe tbody tr th:only-of-type {\n",
       "        vertical-align: middle;\n",
       "    }\n",
       "\n",
       "    .dataframe tbody tr th {\n",
       "        vertical-align: top;\n",
       "    }\n",
       "\n",
       "    .dataframe thead th {\n",
       "        text-align: right;\n",
       "    }\n",
       "</style>\n",
       "<table border=\"1\" class=\"dataframe\">\n",
       "  <thead>\n",
       "    <tr style=\"text-align: right;\">\n",
       "      <th></th>\n",
       "      <th>Tour_Name</th>\n",
       "      <th>Tour_Type</th>\n",
       "      <th>Highlight</th>\n",
       "      <th>Location</th>\n",
       "    </tr>\n",
       "  </thead>\n",
       "  <tbody>\n",
       "    <tr>\n",
       "      <th>count</th>\n",
       "      <td>4753</td>\n",
       "      <td>4753</td>\n",
       "      <td>4753</td>\n",
       "      <td>4753</td>\n",
       "    </tr>\n",
       "    <tr>\n",
       "      <th>unique</th>\n",
       "      <td>2589</td>\n",
       "      <td>87</td>\n",
       "      <td>2802</td>\n",
       "      <td>62</td>\n",
       "    </tr>\n",
       "    <tr>\n",
       "      <th>top</th>\n",
       "      <td>Angkor Wat &amp; Bayon: the Smiling Temple Bike Tour</td>\n",
       "      <td>Full-day Tours</td>\n",
       "      <td>Air-conditioned vehicle, English tour guide, C...</td>\n",
       "      <td>Asia, Cambodia, Siem Reap Province, Siem Reap,...</td>\n",
       "    </tr>\n",
       "    <tr>\n",
       "      <th>freq</th>\n",
       "      <td>8</td>\n",
       "      <td>1466</td>\n",
       "      <td>51</td>\n",
       "      <td>1898</td>\n",
       "    </tr>\n",
       "  </tbody>\n",
       "</table>\n",
       "</div>"
      ],
      "text/plain": [
       "                                               Tour_Name       Tour_Type  \\\n",
       "count                                               4753            4753   \n",
       "unique                                              2589              87   \n",
       "top     Angkor Wat & Bayon: the Smiling Temple Bike Tour  Full-day Tours   \n",
       "freq                                                   8            1466   \n",
       "\n",
       "                                                Highlight  \\\n",
       "count                                                4753   \n",
       "unique                                               2802   \n",
       "top     Air-conditioned vehicle, English tour guide, C...   \n",
       "freq                                                   51   \n",
       "\n",
       "                                                 Location  \n",
       "count                                                4753  \n",
       "unique                                                 62  \n",
       "top     Asia, Cambodia, Siem Reap Province, Siem Reap,...  \n",
       "freq                                                 1898  "
      ]
     },
     "execution_count": 194,
     "metadata": {},
     "output_type": "execute_result"
    }
   ],
   "source": [
    "df3.describe(include=['object'])"
   ]
  },
  {
   "attachments": {},
   "cell_type": "markdown",
   "metadata": {},
   "source": [
    "## <font color = yellow>9. Data Analysis & Graph Visualization"
   ]
  },
  {
   "attachments": {},
   "cell_type": "markdown",
   "metadata": {},
   "source": [
    "#### <font color = red><b>Tour type analysis"
   ]
  },
  {
   "cell_type": "code",
   "execution_count": 195,
   "metadata": {},
   "outputs": [
    {
     "data": {
      "text/html": [
       "<div>\n",
       "<style scoped>\n",
       "    .dataframe tbody tr th:only-of-type {\n",
       "        vertical-align: middle;\n",
       "    }\n",
       "\n",
       "    .dataframe tbody tr th {\n",
       "        vertical-align: top;\n",
       "    }\n",
       "\n",
       "    .dataframe thead th {\n",
       "        text-align: right;\n",
       "    }\n",
       "</style>\n",
       "<table border=\"1\" class=\"dataframe\">\n",
       "  <thead>\n",
       "    <tr style=\"text-align: right;\">\n",
       "      <th></th>\n",
       "      <th>Tour_Type</th>\n",
       "      <th>Counts</th>\n",
       "      <th>Percent</th>\n",
       "    </tr>\n",
       "  </thead>\n",
       "  <tbody>\n",
       "    <tr>\n",
       "      <th>0</th>\n",
       "      <td>Full-day Tours</td>\n",
       "      <td>1466</td>\n",
       "      <td>30.84</td>\n",
       "    </tr>\n",
       "    <tr>\n",
       "      <th>1</th>\n",
       "      <td>Bus Tours</td>\n",
       "      <td>994</td>\n",
       "      <td>20.91</td>\n",
       "    </tr>\n",
       "    <tr>\n",
       "      <th>2</th>\n",
       "      <td>Adventure Tours</td>\n",
       "      <td>458</td>\n",
       "      <td>9.64</td>\n",
       "    </tr>\n",
       "    <tr>\n",
       "      <th>3</th>\n",
       "      <td>Multi-day Tours</td>\n",
       "      <td>263</td>\n",
       "      <td>5.53</td>\n",
       "    </tr>\n",
       "    <tr>\n",
       "      <th>4</th>\n",
       "      <td>Half-day Tours</td>\n",
       "      <td>228</td>\n",
       "      <td>4.80</td>\n",
       "    </tr>\n",
       "    <tr>\n",
       "      <th>...</th>\n",
       "      <td>...</td>\n",
       "      <td>...</td>\n",
       "      <td>...</td>\n",
       "    </tr>\n",
       "    <tr>\n",
       "      <th>82</th>\n",
       "      <td>Nature Parks</td>\n",
       "      <td>1</td>\n",
       "      <td>0.02</td>\n",
       "    </tr>\n",
       "    <tr>\n",
       "      <th>83</th>\n",
       "      <td>Hot Air Balloon Rides</td>\n",
       "      <td>1</td>\n",
       "      <td>0.02</td>\n",
       "    </tr>\n",
       "    <tr>\n",
       "      <th>84</th>\n",
       "      <td>Mixology Classes</td>\n",
       "      <td>1</td>\n",
       "      <td>0.02</td>\n",
       "    </tr>\n",
       "    <tr>\n",
       "      <th>85</th>\n",
       "      <td>Circuit Tours</td>\n",
       "      <td>1</td>\n",
       "      <td>0.02</td>\n",
       "    </tr>\n",
       "    <tr>\n",
       "      <th>86</th>\n",
       "      <td>Wine Tours</td>\n",
       "      <td>1</td>\n",
       "      <td>0.02</td>\n",
       "    </tr>\n",
       "  </tbody>\n",
       "</table>\n",
       "<p>87 rows × 3 columns</p>\n",
       "</div>"
      ],
      "text/plain": [
       "                Tour_Type  Counts  Percent\n",
       "0          Full-day Tours    1466    30.84\n",
       "1               Bus Tours     994    20.91\n",
       "2         Adventure Tours     458     9.64\n",
       "3         Multi-day Tours     263     5.53\n",
       "4          Half-day Tours     228     4.80\n",
       "..                    ...     ...      ...\n",
       "82           Nature Parks       1     0.02\n",
       "83  Hot Air Balloon Rides       1     0.02\n",
       "84       Mixology Classes       1     0.02\n",
       "85          Circuit Tours       1     0.02\n",
       "86             Wine Tours       1     0.02\n",
       "\n",
       "[87 rows x 3 columns]"
      ]
     },
     "metadata": {},
     "output_type": "display_data"
    },
    {
     "data": {
      "application/vnd.plotly.v1+json": {
       "config": {
        "plotlyServerURL": "https://plot.ly"
       },
       "data": [
        {
         "alignmentgroup": "True",
         "hovertemplate": "Tour_Type=%{x}<br>Counts=%{marker.color}<extra></extra>",
         "legendgroup": "",
         "marker": {
          "color": [
           1466,
           994,
           458,
           263,
           228,
           175,
           127,
           95,
           91,
           73,
           56,
           53,
           52,
           51,
           45,
           41,
           36,
           36,
           33,
           28,
           22,
           22,
           21,
           21,
           16,
           14,
           13,
           13,
           13,
           12,
           9,
           9,
           9,
           8,
           8,
           7,
           7,
           7,
           7,
           6,
           6,
           6,
           5,
           5,
           5,
           4,
           4,
           4,
           4,
           4,
           3,
           3,
           3,
           3,
           3,
           3,
           3,
           2,
           2,
           2,
           2,
           2,
           2,
           2,
           2,
           2,
           2,
           1,
           1,
           1,
           1,
           1,
           1,
           1,
           1,
           1,
           1,
           1,
           1,
           1,
           1,
           1,
           1,
           1,
           1,
           1,
           1
          ],
          "coloraxis": "coloraxis",
          "pattern": {
           "shape": ""
          }
         },
         "name": "",
         "offsetgroup": "",
         "orientation": "v",
         "showlegend": false,
         "textposition": "auto",
         "texttemplate": "%{y}",
         "type": "bar",
         "x": [
          "Full-day Tours",
          "Bus Tours",
          "Adventure Tours",
          "Multi-day Tours",
          "Half-day Tours",
          "Overnight Tours",
          "Mountain Bike Tours",
          "Airport & Hotel Transfers",
          "Cooking Classes",
          "Private Drivers",
          "Walking Tours",
          "Hiking Tours",
          "Private and Luxury",
          "Luxury Car Tours",
          "Tuk Tuk Tours",
          "Bike Tours",
          "Dining Experiences",
          "City Tours",
          "Day Cruises",
          "Private Sightseeing Tours",
          "Theater Shows",
          "Food Tours",
          "Health Tours",
          "Health Tour",
          "Attractions & Museums",
          "Museum Tickets & Passes",
          "Ports of Call Tours",
          "Car Tours",
          "Photography Tours",
          "Bus Services",
          "National Holidays",
          "Art Classes",
          "Rentals",
          "Port Transfers",
          "Cultural Tours",
          "Religious Sites",
          "Self-guided Tours",
          "Sunset Cruises",
          "Pottery Classes",
          "Classic Car Tours",
          "National Parks",
          "Skip the line Tickets",
          "Bike Rentals",
          "Transportation Services",
          "Night Tours",
          "Vespa, Scooter & Moped Tours",
          "Ancient Ruins",
          "Shore Excursions",
          "Trikke Tours",
          "Monuments and Memorials",
          "Wine Tastings",
          "Golf Tours & Tee Times",
          "Shopping Tours",
          "Christmas",
          "Comedy Shows",
          "Painting Classes",
          "Boxing Classes",
          "Dinner and Show Tickets",
          "Sports Lessons",
          "Balloon Tours",
          "Kayaking Tours",
          "Valentine's Day Events",
          "Cruise Tours",
          "Water Tours",
          "Airport Lounges",
          "Lunch Cruises",
          "Family-friendly Shows",
          "Aquariums",
          "Nightlife",
          "Culinary Tour",
          "Language Classes",
          "Craft Classes",
          "Cocktail Tastings",
          "Japanese Lessons",
          "Fun & Games",
          "Sightseeing Passes",
          "Honeymoon Packages",
          "Airboat Tours",
          "Dance Lessons",
          "Train Tour",
          "Motorcycle Tours",
          "Sightseeing Tours",
          "Nature Parks",
          "Hot Air Balloon Rides",
          "Mixology Classes",
          "Circuit Tours",
          "Wine Tours"
         ],
         "xaxis": "x",
         "y": [
          1466,
          994,
          458,
          263,
          228,
          175,
          127,
          95,
          91,
          73,
          56,
          53,
          52,
          51,
          45,
          41,
          36,
          36,
          33,
          28,
          22,
          22,
          21,
          21,
          16,
          14,
          13,
          13,
          13,
          12,
          9,
          9,
          9,
          8,
          8,
          7,
          7,
          7,
          7,
          6,
          6,
          6,
          5,
          5,
          5,
          4,
          4,
          4,
          4,
          4,
          3,
          3,
          3,
          3,
          3,
          3,
          3,
          2,
          2,
          2,
          2,
          2,
          2,
          2,
          2,
          2,
          2,
          1,
          1,
          1,
          1,
          1,
          1,
          1,
          1,
          1,
          1,
          1,
          1,
          1,
          1,
          1,
          1,
          1,
          1,
          1,
          1
         ],
         "yaxis": "y"
        }
       ],
       "layout": {
        "barmode": "relative",
        "coloraxis": {
         "colorbar": {
          "title": {
           "text": "Counts"
          }
         },
         "colorscale": [
          [
           0,
           "rgb(247,251,255)"
          ],
          [
           0.125,
           "rgb(222,235,247)"
          ],
          [
           0.25,
           "rgb(198,219,239)"
          ],
          [
           0.375,
           "rgb(158,202,225)"
          ],
          [
           0.5,
           "rgb(107,174,214)"
          ],
          [
           0.625,
           "rgb(66,146,198)"
          ],
          [
           0.75,
           "rgb(33,113,181)"
          ],
          [
           0.875,
           "rgb(8,81,156)"
          ],
          [
           1,
           "rgb(8,48,107)"
          ]
         ]
        },
        "legend": {
         "tracegroupgap": 0
        },
        "template": {
         "data": {
          "bar": [
           {
            "error_x": {
             "color": "#2a3f5f"
            },
            "error_y": {
             "color": "#2a3f5f"
            },
            "marker": {
             "line": {
              "color": "#E5ECF6",
              "width": 0.5
             },
             "pattern": {
              "fillmode": "overlay",
              "size": 10,
              "solidity": 0.2
             }
            },
            "type": "bar"
           }
          ],
          "barpolar": [
           {
            "marker": {
             "line": {
              "color": "#E5ECF6",
              "width": 0.5
             },
             "pattern": {
              "fillmode": "overlay",
              "size": 10,
              "solidity": 0.2
             }
            },
            "type": "barpolar"
           }
          ],
          "carpet": [
           {
            "aaxis": {
             "endlinecolor": "#2a3f5f",
             "gridcolor": "white",
             "linecolor": "white",
             "minorgridcolor": "white",
             "startlinecolor": "#2a3f5f"
            },
            "baxis": {
             "endlinecolor": "#2a3f5f",
             "gridcolor": "white",
             "linecolor": "white",
             "minorgridcolor": "white",
             "startlinecolor": "#2a3f5f"
            },
            "type": "carpet"
           }
          ],
          "choropleth": [
           {
            "colorbar": {
             "outlinewidth": 0,
             "ticks": ""
            },
            "type": "choropleth"
           }
          ],
          "contour": [
           {
            "colorbar": {
             "outlinewidth": 0,
             "ticks": ""
            },
            "colorscale": [
             [
              0,
              "#0d0887"
             ],
             [
              0.1111111111111111,
              "#46039f"
             ],
             [
              0.2222222222222222,
              "#7201a8"
             ],
             [
              0.3333333333333333,
              "#9c179e"
             ],
             [
              0.4444444444444444,
              "#bd3786"
             ],
             [
              0.5555555555555556,
              "#d8576b"
             ],
             [
              0.6666666666666666,
              "#ed7953"
             ],
             [
              0.7777777777777778,
              "#fb9f3a"
             ],
             [
              0.8888888888888888,
              "#fdca26"
             ],
             [
              1,
              "#f0f921"
             ]
            ],
            "type": "contour"
           }
          ],
          "contourcarpet": [
           {
            "colorbar": {
             "outlinewidth": 0,
             "ticks": ""
            },
            "type": "contourcarpet"
           }
          ],
          "heatmap": [
           {
            "colorbar": {
             "outlinewidth": 0,
             "ticks": ""
            },
            "colorscale": [
             [
              0,
              "#0d0887"
             ],
             [
              0.1111111111111111,
              "#46039f"
             ],
             [
              0.2222222222222222,
              "#7201a8"
             ],
             [
              0.3333333333333333,
              "#9c179e"
             ],
             [
              0.4444444444444444,
              "#bd3786"
             ],
             [
              0.5555555555555556,
              "#d8576b"
             ],
             [
              0.6666666666666666,
              "#ed7953"
             ],
             [
              0.7777777777777778,
              "#fb9f3a"
             ],
             [
              0.8888888888888888,
              "#fdca26"
             ],
             [
              1,
              "#f0f921"
             ]
            ],
            "type": "heatmap"
           }
          ],
          "heatmapgl": [
           {
            "colorbar": {
             "outlinewidth": 0,
             "ticks": ""
            },
            "colorscale": [
             [
              0,
              "#0d0887"
             ],
             [
              0.1111111111111111,
              "#46039f"
             ],
             [
              0.2222222222222222,
              "#7201a8"
             ],
             [
              0.3333333333333333,
              "#9c179e"
             ],
             [
              0.4444444444444444,
              "#bd3786"
             ],
             [
              0.5555555555555556,
              "#d8576b"
             ],
             [
              0.6666666666666666,
              "#ed7953"
             ],
             [
              0.7777777777777778,
              "#fb9f3a"
             ],
             [
              0.8888888888888888,
              "#fdca26"
             ],
             [
              1,
              "#f0f921"
             ]
            ],
            "type": "heatmapgl"
           }
          ],
          "histogram": [
           {
            "marker": {
             "pattern": {
              "fillmode": "overlay",
              "size": 10,
              "solidity": 0.2
             }
            },
            "type": "histogram"
           }
          ],
          "histogram2d": [
           {
            "colorbar": {
             "outlinewidth": 0,
             "ticks": ""
            },
            "colorscale": [
             [
              0,
              "#0d0887"
             ],
             [
              0.1111111111111111,
              "#46039f"
             ],
             [
              0.2222222222222222,
              "#7201a8"
             ],
             [
              0.3333333333333333,
              "#9c179e"
             ],
             [
              0.4444444444444444,
              "#bd3786"
             ],
             [
              0.5555555555555556,
              "#d8576b"
             ],
             [
              0.6666666666666666,
              "#ed7953"
             ],
             [
              0.7777777777777778,
              "#fb9f3a"
             ],
             [
              0.8888888888888888,
              "#fdca26"
             ],
             [
              1,
              "#f0f921"
             ]
            ],
            "type": "histogram2d"
           }
          ],
          "histogram2dcontour": [
           {
            "colorbar": {
             "outlinewidth": 0,
             "ticks": ""
            },
            "colorscale": [
             [
              0,
              "#0d0887"
             ],
             [
              0.1111111111111111,
              "#46039f"
             ],
             [
              0.2222222222222222,
              "#7201a8"
             ],
             [
              0.3333333333333333,
              "#9c179e"
             ],
             [
              0.4444444444444444,
              "#bd3786"
             ],
             [
              0.5555555555555556,
              "#d8576b"
             ],
             [
              0.6666666666666666,
              "#ed7953"
             ],
             [
              0.7777777777777778,
              "#fb9f3a"
             ],
             [
              0.8888888888888888,
              "#fdca26"
             ],
             [
              1,
              "#f0f921"
             ]
            ],
            "type": "histogram2dcontour"
           }
          ],
          "mesh3d": [
           {
            "colorbar": {
             "outlinewidth": 0,
             "ticks": ""
            },
            "type": "mesh3d"
           }
          ],
          "parcoords": [
           {
            "line": {
             "colorbar": {
              "outlinewidth": 0,
              "ticks": ""
             }
            },
            "type": "parcoords"
           }
          ],
          "pie": [
           {
            "automargin": true,
            "type": "pie"
           }
          ],
          "scatter": [
           {
            "fillpattern": {
             "fillmode": "overlay",
             "size": 10,
             "solidity": 0.2
            },
            "type": "scatter"
           }
          ],
          "scatter3d": [
           {
            "line": {
             "colorbar": {
              "outlinewidth": 0,
              "ticks": ""
             }
            },
            "marker": {
             "colorbar": {
              "outlinewidth": 0,
              "ticks": ""
             }
            },
            "type": "scatter3d"
           }
          ],
          "scattercarpet": [
           {
            "marker": {
             "colorbar": {
              "outlinewidth": 0,
              "ticks": ""
             }
            },
            "type": "scattercarpet"
           }
          ],
          "scattergeo": [
           {
            "marker": {
             "colorbar": {
              "outlinewidth": 0,
              "ticks": ""
             }
            },
            "type": "scattergeo"
           }
          ],
          "scattergl": [
           {
            "marker": {
             "colorbar": {
              "outlinewidth": 0,
              "ticks": ""
             }
            },
            "type": "scattergl"
           }
          ],
          "scattermapbox": [
           {
            "marker": {
             "colorbar": {
              "outlinewidth": 0,
              "ticks": ""
             }
            },
            "type": "scattermapbox"
           }
          ],
          "scatterpolar": [
           {
            "marker": {
             "colorbar": {
              "outlinewidth": 0,
              "ticks": ""
             }
            },
            "type": "scatterpolar"
           }
          ],
          "scatterpolargl": [
           {
            "marker": {
             "colorbar": {
              "outlinewidth": 0,
              "ticks": ""
             }
            },
            "type": "scatterpolargl"
           }
          ],
          "scatterternary": [
           {
            "marker": {
             "colorbar": {
              "outlinewidth": 0,
              "ticks": ""
             }
            },
            "type": "scatterternary"
           }
          ],
          "surface": [
           {
            "colorbar": {
             "outlinewidth": 0,
             "ticks": ""
            },
            "colorscale": [
             [
              0,
              "#0d0887"
             ],
             [
              0.1111111111111111,
              "#46039f"
             ],
             [
              0.2222222222222222,
              "#7201a8"
             ],
             [
              0.3333333333333333,
              "#9c179e"
             ],
             [
              0.4444444444444444,
              "#bd3786"
             ],
             [
              0.5555555555555556,
              "#d8576b"
             ],
             [
              0.6666666666666666,
              "#ed7953"
             ],
             [
              0.7777777777777778,
              "#fb9f3a"
             ],
             [
              0.8888888888888888,
              "#fdca26"
             ],
             [
              1,
              "#f0f921"
             ]
            ],
            "type": "surface"
           }
          ],
          "table": [
           {
            "cells": {
             "fill": {
              "color": "#EBF0F8"
             },
             "line": {
              "color": "white"
             }
            },
            "header": {
             "fill": {
              "color": "#C8D4E3"
             },
             "line": {
              "color": "white"
             }
            },
            "type": "table"
           }
          ]
         },
         "layout": {
          "annotationdefaults": {
           "arrowcolor": "#2a3f5f",
           "arrowhead": 0,
           "arrowwidth": 1
          },
          "autotypenumbers": "strict",
          "coloraxis": {
           "colorbar": {
            "outlinewidth": 0,
            "ticks": ""
           }
          },
          "colorscale": {
           "diverging": [
            [
             0,
             "#8e0152"
            ],
            [
             0.1,
             "#c51b7d"
            ],
            [
             0.2,
             "#de77ae"
            ],
            [
             0.3,
             "#f1b6da"
            ],
            [
             0.4,
             "#fde0ef"
            ],
            [
             0.5,
             "#f7f7f7"
            ],
            [
             0.6,
             "#e6f5d0"
            ],
            [
             0.7,
             "#b8e186"
            ],
            [
             0.8,
             "#7fbc41"
            ],
            [
             0.9,
             "#4d9221"
            ],
            [
             1,
             "#276419"
            ]
           ],
           "sequential": [
            [
             0,
             "#0d0887"
            ],
            [
             0.1111111111111111,
             "#46039f"
            ],
            [
             0.2222222222222222,
             "#7201a8"
            ],
            [
             0.3333333333333333,
             "#9c179e"
            ],
            [
             0.4444444444444444,
             "#bd3786"
            ],
            [
             0.5555555555555556,
             "#d8576b"
            ],
            [
             0.6666666666666666,
             "#ed7953"
            ],
            [
             0.7777777777777778,
             "#fb9f3a"
            ],
            [
             0.8888888888888888,
             "#fdca26"
            ],
            [
             1,
             "#f0f921"
            ]
           ],
           "sequentialminus": [
            [
             0,
             "#0d0887"
            ],
            [
             0.1111111111111111,
             "#46039f"
            ],
            [
             0.2222222222222222,
             "#7201a8"
            ],
            [
             0.3333333333333333,
             "#9c179e"
            ],
            [
             0.4444444444444444,
             "#bd3786"
            ],
            [
             0.5555555555555556,
             "#d8576b"
            ],
            [
             0.6666666666666666,
             "#ed7953"
            ],
            [
             0.7777777777777778,
             "#fb9f3a"
            ],
            [
             0.8888888888888888,
             "#fdca26"
            ],
            [
             1,
             "#f0f921"
            ]
           ]
          },
          "colorway": [
           "#636efa",
           "#EF553B",
           "#00cc96",
           "#ab63fa",
           "#FFA15A",
           "#19d3f3",
           "#FF6692",
           "#B6E880",
           "#FF97FF",
           "#FECB52"
          ],
          "font": {
           "color": "#2a3f5f"
          },
          "geo": {
           "bgcolor": "white",
           "lakecolor": "white",
           "landcolor": "#E5ECF6",
           "showlakes": true,
           "showland": true,
           "subunitcolor": "white"
          },
          "hoverlabel": {
           "align": "left"
          },
          "hovermode": "closest",
          "mapbox": {
           "style": "light"
          },
          "paper_bgcolor": "white",
          "plot_bgcolor": "#E5ECF6",
          "polar": {
           "angularaxis": {
            "gridcolor": "white",
            "linecolor": "white",
            "ticks": ""
           },
           "bgcolor": "#E5ECF6",
           "radialaxis": {
            "gridcolor": "white",
            "linecolor": "white",
            "ticks": ""
           }
          },
          "scene": {
           "xaxis": {
            "backgroundcolor": "#E5ECF6",
            "gridcolor": "white",
            "gridwidth": 2,
            "linecolor": "white",
            "showbackground": true,
            "ticks": "",
            "zerolinecolor": "white"
           },
           "yaxis": {
            "backgroundcolor": "#E5ECF6",
            "gridcolor": "white",
            "gridwidth": 2,
            "linecolor": "white",
            "showbackground": true,
            "ticks": "",
            "zerolinecolor": "white"
           },
           "zaxis": {
            "backgroundcolor": "#E5ECF6",
            "gridcolor": "white",
            "gridwidth": 2,
            "linecolor": "white",
            "showbackground": true,
            "ticks": "",
            "zerolinecolor": "white"
           }
          },
          "shapedefaults": {
           "line": {
            "color": "#2a3f5f"
           }
          },
          "ternary": {
           "aaxis": {
            "gridcolor": "white",
            "linecolor": "white",
            "ticks": ""
           },
           "baxis": {
            "gridcolor": "white",
            "linecolor": "white",
            "ticks": ""
           },
           "bgcolor": "#E5ECF6",
           "caxis": {
            "gridcolor": "white",
            "linecolor": "white",
            "ticks": ""
           }
          },
          "title": {
           "x": 0.05
          },
          "xaxis": {
           "automargin": true,
           "gridcolor": "white",
           "linecolor": "white",
           "ticks": "",
           "title": {
            "standoff": 15
           },
           "zerolinecolor": "white",
           "zerolinewidth": 2
          },
          "yaxis": {
           "automargin": true,
           "gridcolor": "white",
           "linecolor": "white",
           "ticks": "",
           "title": {
            "standoff": 15
           },
           "zerolinecolor": "white",
           "zerolinewidth": 2
          }
         }
        },
        "title": {
         "text": "Count of Items in Each Tour_Type"
        },
        "xaxis": {
         "anchor": "y",
         "domain": [
          0,
          1
         ],
         "title": {
          "text": "Tour_Type"
         }
        },
        "yaxis": {
         "anchor": "x",
         "domain": [
          0,
          1
         ],
         "title": {
          "text": "Counts"
         }
        }
       }
      }
     },
     "metadata": {},
     "output_type": "display_data"
    }
   ],
   "source": [
    "counts = df3['Tour_Type'].value_counts()\n",
    "count_percentage = df3['Tour_Type'].value_counts(1)*100\n",
    "counts_df = pd.DataFrame({'Tour_Type':counts.index,'Counts':counts.values,'Percent':np.round(count_percentage.values,2)})\n",
    "display(counts_df)\n",
    "px.bar(data_frame=counts_df,\n",
    " x='Tour_Type',\n",
    " y='Counts',\n",
    " color='Counts',\n",
    " color_continuous_scale='blues',\n",
    " text_auto=True,\n",
    " title=f'Count of Items in Each Tour_Type')"
   ]
  },
  {
   "cell_type": "code",
   "execution_count": 196,
   "metadata": {},
   "outputs": [
    {
     "name": "stdout",
     "output_type": "stream",
     "text": [
      "unique Tour_Type\n",
      "Top 10 Tour_Type\n"
     ]
    },
    {
     "data": {
      "text/html": [
       "<div>\n",
       "<style scoped>\n",
       "    .dataframe tbody tr th:only-of-type {\n",
       "        vertical-align: middle;\n",
       "    }\n",
       "\n",
       "    .dataframe tbody tr th {\n",
       "        vertical-align: top;\n",
       "    }\n",
       "\n",
       "    .dataframe thead th {\n",
       "        text-align: right;\n",
       "    }\n",
       "</style>\n",
       "<table border=\"1\" class=\"dataframe\">\n",
       "  <thead>\n",
       "    <tr style=\"text-align: right;\">\n",
       "      <th></th>\n",
       "      <th>Tour_Type</th>\n",
       "      <th>Counts</th>\n",
       "      <th>Percent</th>\n",
       "    </tr>\n",
       "  </thead>\n",
       "  <tbody>\n",
       "    <tr>\n",
       "      <th>0</th>\n",
       "      <td>Full-day Tours</td>\n",
       "      <td>1466</td>\n",
       "      <td>30.84</td>\n",
       "    </tr>\n",
       "    <tr>\n",
       "      <th>1</th>\n",
       "      <td>Bus Tours</td>\n",
       "      <td>994</td>\n",
       "      <td>20.91</td>\n",
       "    </tr>\n",
       "    <tr>\n",
       "      <th>2</th>\n",
       "      <td>Adventure Tours</td>\n",
       "      <td>458</td>\n",
       "      <td>9.64</td>\n",
       "    </tr>\n",
       "    <tr>\n",
       "      <th>3</th>\n",
       "      <td>Multi-day Tours</td>\n",
       "      <td>263</td>\n",
       "      <td>5.53</td>\n",
       "    </tr>\n",
       "    <tr>\n",
       "      <th>4</th>\n",
       "      <td>Half-day Tours</td>\n",
       "      <td>228</td>\n",
       "      <td>4.80</td>\n",
       "    </tr>\n",
       "    <tr>\n",
       "      <th>5</th>\n",
       "      <td>Overnight Tours</td>\n",
       "      <td>175</td>\n",
       "      <td>3.68</td>\n",
       "    </tr>\n",
       "    <tr>\n",
       "      <th>6</th>\n",
       "      <td>Mountain Bike Tours</td>\n",
       "      <td>127</td>\n",
       "      <td>2.67</td>\n",
       "    </tr>\n",
       "    <tr>\n",
       "      <th>7</th>\n",
       "      <td>Airport &amp; Hotel Transfers</td>\n",
       "      <td>95</td>\n",
       "      <td>2.00</td>\n",
       "    </tr>\n",
       "    <tr>\n",
       "      <th>8</th>\n",
       "      <td>Cooking Classes</td>\n",
       "      <td>91</td>\n",
       "      <td>1.91</td>\n",
       "    </tr>\n",
       "    <tr>\n",
       "      <th>9</th>\n",
       "      <td>Private Drivers</td>\n",
       "      <td>73</td>\n",
       "      <td>1.54</td>\n",
       "    </tr>\n",
       "  </tbody>\n",
       "</table>\n",
       "</div>"
      ],
      "text/plain": [
       "                   Tour_Type  Counts  Percent\n",
       "0             Full-day Tours    1466    30.84\n",
       "1                  Bus Tours     994    20.91\n",
       "2            Adventure Tours     458     9.64\n",
       "3            Multi-day Tours     263     5.53\n",
       "4             Half-day Tours     228     4.80\n",
       "5            Overnight Tours     175     3.68\n",
       "6        Mountain Bike Tours     127     2.67\n",
       "7  Airport & Hotel Transfers      95     2.00\n",
       "8            Cooking Classes      91     1.91\n",
       "9            Private Drivers      73     1.54"
      ]
     },
     "metadata": {},
     "output_type": "display_data"
    },
    {
     "name": "stdout",
     "output_type": "stream",
     "text": [
      "Bottom 10 Tour_Type\n"
     ]
    },
    {
     "data": {
      "text/html": [
       "<div>\n",
       "<style scoped>\n",
       "    .dataframe tbody tr th:only-of-type {\n",
       "        vertical-align: middle;\n",
       "    }\n",
       "\n",
       "    .dataframe tbody tr th {\n",
       "        vertical-align: top;\n",
       "    }\n",
       "\n",
       "    .dataframe thead th {\n",
       "        text-align: right;\n",
       "    }\n",
       "</style>\n",
       "<table border=\"1\" class=\"dataframe\">\n",
       "  <thead>\n",
       "    <tr style=\"text-align: right;\">\n",
       "      <th></th>\n",
       "      <th>Tour_Type</th>\n",
       "      <th>Counts</th>\n",
       "      <th>Percent</th>\n",
       "    </tr>\n",
       "  </thead>\n",
       "  <tbody>\n",
       "    <tr>\n",
       "      <th>77</th>\n",
       "      <td>Airboat Tours</td>\n",
       "      <td>1</td>\n",
       "      <td>0.02</td>\n",
       "    </tr>\n",
       "    <tr>\n",
       "      <th>78</th>\n",
       "      <td>Dance Lessons</td>\n",
       "      <td>1</td>\n",
       "      <td>0.02</td>\n",
       "    </tr>\n",
       "    <tr>\n",
       "      <th>79</th>\n",
       "      <td>Train Tour</td>\n",
       "      <td>1</td>\n",
       "      <td>0.02</td>\n",
       "    </tr>\n",
       "    <tr>\n",
       "      <th>80</th>\n",
       "      <td>Motorcycle Tours</td>\n",
       "      <td>1</td>\n",
       "      <td>0.02</td>\n",
       "    </tr>\n",
       "    <tr>\n",
       "      <th>81</th>\n",
       "      <td>Sightseeing Tours</td>\n",
       "      <td>1</td>\n",
       "      <td>0.02</td>\n",
       "    </tr>\n",
       "    <tr>\n",
       "      <th>82</th>\n",
       "      <td>Nature Parks</td>\n",
       "      <td>1</td>\n",
       "      <td>0.02</td>\n",
       "    </tr>\n",
       "    <tr>\n",
       "      <th>83</th>\n",
       "      <td>Hot Air Balloon Rides</td>\n",
       "      <td>1</td>\n",
       "      <td>0.02</td>\n",
       "    </tr>\n",
       "    <tr>\n",
       "      <th>84</th>\n",
       "      <td>Mixology Classes</td>\n",
       "      <td>1</td>\n",
       "      <td>0.02</td>\n",
       "    </tr>\n",
       "    <tr>\n",
       "      <th>85</th>\n",
       "      <td>Circuit Tours</td>\n",
       "      <td>1</td>\n",
       "      <td>0.02</td>\n",
       "    </tr>\n",
       "    <tr>\n",
       "      <th>86</th>\n",
       "      <td>Wine Tours</td>\n",
       "      <td>1</td>\n",
       "      <td>0.02</td>\n",
       "    </tr>\n",
       "  </tbody>\n",
       "</table>\n",
       "</div>"
      ],
      "text/plain": [
       "                Tour_Type  Counts  Percent\n",
       "77          Airboat Tours       1     0.02\n",
       "78          Dance Lessons       1     0.02\n",
       "79             Train Tour       1     0.02\n",
       "80       Motorcycle Tours       1     0.02\n",
       "81      Sightseeing Tours       1     0.02\n",
       "82           Nature Parks       1     0.02\n",
       "83  Hot Air Balloon Rides       1     0.02\n",
       "84       Mixology Classes       1     0.02\n",
       "85          Circuit Tours       1     0.02\n",
       "86             Wine Tours       1     0.02"
      ]
     },
     "metadata": {},
     "output_type": "display_data"
    },
    {
     "data": {
      "application/vnd.plotly.v1+json": {
       "config": {
        "plotlyServerURL": "https://plot.ly"
       },
       "data": [
        {
         "alignmentgroup": "True",
         "hovertemplate": "Tour_Type=%{x}<br>Counts=%{marker.color}<extra></extra>",
         "legendgroup": "",
         "marker": {
          "color": [
           1466,
           994,
           458,
           263,
           228,
           175,
           127,
           95,
           91,
           73
          ],
          "coloraxis": "coloraxis",
          "pattern": {
           "shape": ""
          }
         },
         "name": "",
         "offsetgroup": "",
         "orientation": "v",
         "showlegend": false,
         "textposition": "auto",
         "texttemplate": "%{y}",
         "type": "bar",
         "x": [
          "Full-day Tours",
          "Bus Tours",
          "Adventure Tours",
          "Multi-day Tours",
          "Half-day Tours",
          "Overnight Tours",
          "Mountain Bike Tours",
          "Airport & Hotel Transfers",
          "Cooking Classes",
          "Private Drivers"
         ],
         "xaxis": "x",
         "y": [
          1466,
          994,
          458,
          263,
          228,
          175,
          127,
          95,
          91,
          73
         ],
         "yaxis": "y"
        }
       ],
       "layout": {
        "barmode": "relative",
        "coloraxis": {
         "colorbar": {
          "title": {
           "text": "Counts"
          }
         },
         "colorscale": [
          [
           0,
           "rgb(247,251,255)"
          ],
          [
           0.125,
           "rgb(222,235,247)"
          ],
          [
           0.25,
           "rgb(198,219,239)"
          ],
          [
           0.375,
           "rgb(158,202,225)"
          ],
          [
           0.5,
           "rgb(107,174,214)"
          ],
          [
           0.625,
           "rgb(66,146,198)"
          ],
          [
           0.75,
           "rgb(33,113,181)"
          ],
          [
           0.875,
           "rgb(8,81,156)"
          ],
          [
           1,
           "rgb(8,48,107)"
          ]
         ]
        },
        "legend": {
         "tracegroupgap": 0
        },
        "template": {
         "data": {
          "bar": [
           {
            "error_x": {
             "color": "#2a3f5f"
            },
            "error_y": {
             "color": "#2a3f5f"
            },
            "marker": {
             "line": {
              "color": "#E5ECF6",
              "width": 0.5
             },
             "pattern": {
              "fillmode": "overlay",
              "size": 10,
              "solidity": 0.2
             }
            },
            "type": "bar"
           }
          ],
          "barpolar": [
           {
            "marker": {
             "line": {
              "color": "#E5ECF6",
              "width": 0.5
             },
             "pattern": {
              "fillmode": "overlay",
              "size": 10,
              "solidity": 0.2
             }
            },
            "type": "barpolar"
           }
          ],
          "carpet": [
           {
            "aaxis": {
             "endlinecolor": "#2a3f5f",
             "gridcolor": "white",
             "linecolor": "white",
             "minorgridcolor": "white",
             "startlinecolor": "#2a3f5f"
            },
            "baxis": {
             "endlinecolor": "#2a3f5f",
             "gridcolor": "white",
             "linecolor": "white",
             "minorgridcolor": "white",
             "startlinecolor": "#2a3f5f"
            },
            "type": "carpet"
           }
          ],
          "choropleth": [
           {
            "colorbar": {
             "outlinewidth": 0,
             "ticks": ""
            },
            "type": "choropleth"
           }
          ],
          "contour": [
           {
            "colorbar": {
             "outlinewidth": 0,
             "ticks": ""
            },
            "colorscale": [
             [
              0,
              "#0d0887"
             ],
             [
              0.1111111111111111,
              "#46039f"
             ],
             [
              0.2222222222222222,
              "#7201a8"
             ],
             [
              0.3333333333333333,
              "#9c179e"
             ],
             [
              0.4444444444444444,
              "#bd3786"
             ],
             [
              0.5555555555555556,
              "#d8576b"
             ],
             [
              0.6666666666666666,
              "#ed7953"
             ],
             [
              0.7777777777777778,
              "#fb9f3a"
             ],
             [
              0.8888888888888888,
              "#fdca26"
             ],
             [
              1,
              "#f0f921"
             ]
            ],
            "type": "contour"
           }
          ],
          "contourcarpet": [
           {
            "colorbar": {
             "outlinewidth": 0,
             "ticks": ""
            },
            "type": "contourcarpet"
           }
          ],
          "heatmap": [
           {
            "colorbar": {
             "outlinewidth": 0,
             "ticks": ""
            },
            "colorscale": [
             [
              0,
              "#0d0887"
             ],
             [
              0.1111111111111111,
              "#46039f"
             ],
             [
              0.2222222222222222,
              "#7201a8"
             ],
             [
              0.3333333333333333,
              "#9c179e"
             ],
             [
              0.4444444444444444,
              "#bd3786"
             ],
             [
              0.5555555555555556,
              "#d8576b"
             ],
             [
              0.6666666666666666,
              "#ed7953"
             ],
             [
              0.7777777777777778,
              "#fb9f3a"
             ],
             [
              0.8888888888888888,
              "#fdca26"
             ],
             [
              1,
              "#f0f921"
             ]
            ],
            "type": "heatmap"
           }
          ],
          "heatmapgl": [
           {
            "colorbar": {
             "outlinewidth": 0,
             "ticks": ""
            },
            "colorscale": [
             [
              0,
              "#0d0887"
             ],
             [
              0.1111111111111111,
              "#46039f"
             ],
             [
              0.2222222222222222,
              "#7201a8"
             ],
             [
              0.3333333333333333,
              "#9c179e"
             ],
             [
              0.4444444444444444,
              "#bd3786"
             ],
             [
              0.5555555555555556,
              "#d8576b"
             ],
             [
              0.6666666666666666,
              "#ed7953"
             ],
             [
              0.7777777777777778,
              "#fb9f3a"
             ],
             [
              0.8888888888888888,
              "#fdca26"
             ],
             [
              1,
              "#f0f921"
             ]
            ],
            "type": "heatmapgl"
           }
          ],
          "histogram": [
           {
            "marker": {
             "pattern": {
              "fillmode": "overlay",
              "size": 10,
              "solidity": 0.2
             }
            },
            "type": "histogram"
           }
          ],
          "histogram2d": [
           {
            "colorbar": {
             "outlinewidth": 0,
             "ticks": ""
            },
            "colorscale": [
             [
              0,
              "#0d0887"
             ],
             [
              0.1111111111111111,
              "#46039f"
             ],
             [
              0.2222222222222222,
              "#7201a8"
             ],
             [
              0.3333333333333333,
              "#9c179e"
             ],
             [
              0.4444444444444444,
              "#bd3786"
             ],
             [
              0.5555555555555556,
              "#d8576b"
             ],
             [
              0.6666666666666666,
              "#ed7953"
             ],
             [
              0.7777777777777778,
              "#fb9f3a"
             ],
             [
              0.8888888888888888,
              "#fdca26"
             ],
             [
              1,
              "#f0f921"
             ]
            ],
            "type": "histogram2d"
           }
          ],
          "histogram2dcontour": [
           {
            "colorbar": {
             "outlinewidth": 0,
             "ticks": ""
            },
            "colorscale": [
             [
              0,
              "#0d0887"
             ],
             [
              0.1111111111111111,
              "#46039f"
             ],
             [
              0.2222222222222222,
              "#7201a8"
             ],
             [
              0.3333333333333333,
              "#9c179e"
             ],
             [
              0.4444444444444444,
              "#bd3786"
             ],
             [
              0.5555555555555556,
              "#d8576b"
             ],
             [
              0.6666666666666666,
              "#ed7953"
             ],
             [
              0.7777777777777778,
              "#fb9f3a"
             ],
             [
              0.8888888888888888,
              "#fdca26"
             ],
             [
              1,
              "#f0f921"
             ]
            ],
            "type": "histogram2dcontour"
           }
          ],
          "mesh3d": [
           {
            "colorbar": {
             "outlinewidth": 0,
             "ticks": ""
            },
            "type": "mesh3d"
           }
          ],
          "parcoords": [
           {
            "line": {
             "colorbar": {
              "outlinewidth": 0,
              "ticks": ""
             }
            },
            "type": "parcoords"
           }
          ],
          "pie": [
           {
            "automargin": true,
            "type": "pie"
           }
          ],
          "scatter": [
           {
            "fillpattern": {
             "fillmode": "overlay",
             "size": 10,
             "solidity": 0.2
            },
            "type": "scatter"
           }
          ],
          "scatter3d": [
           {
            "line": {
             "colorbar": {
              "outlinewidth": 0,
              "ticks": ""
             }
            },
            "marker": {
             "colorbar": {
              "outlinewidth": 0,
              "ticks": ""
             }
            },
            "type": "scatter3d"
           }
          ],
          "scattercarpet": [
           {
            "marker": {
             "colorbar": {
              "outlinewidth": 0,
              "ticks": ""
             }
            },
            "type": "scattercarpet"
           }
          ],
          "scattergeo": [
           {
            "marker": {
             "colorbar": {
              "outlinewidth": 0,
              "ticks": ""
             }
            },
            "type": "scattergeo"
           }
          ],
          "scattergl": [
           {
            "marker": {
             "colorbar": {
              "outlinewidth": 0,
              "ticks": ""
             }
            },
            "type": "scattergl"
           }
          ],
          "scattermapbox": [
           {
            "marker": {
             "colorbar": {
              "outlinewidth": 0,
              "ticks": ""
             }
            },
            "type": "scattermapbox"
           }
          ],
          "scatterpolar": [
           {
            "marker": {
             "colorbar": {
              "outlinewidth": 0,
              "ticks": ""
             }
            },
            "type": "scatterpolar"
           }
          ],
          "scatterpolargl": [
           {
            "marker": {
             "colorbar": {
              "outlinewidth": 0,
              "ticks": ""
             }
            },
            "type": "scatterpolargl"
           }
          ],
          "scatterternary": [
           {
            "marker": {
             "colorbar": {
              "outlinewidth": 0,
              "ticks": ""
             }
            },
            "type": "scatterternary"
           }
          ],
          "surface": [
           {
            "colorbar": {
             "outlinewidth": 0,
             "ticks": ""
            },
            "colorscale": [
             [
              0,
              "#0d0887"
             ],
             [
              0.1111111111111111,
              "#46039f"
             ],
             [
              0.2222222222222222,
              "#7201a8"
             ],
             [
              0.3333333333333333,
              "#9c179e"
             ],
             [
              0.4444444444444444,
              "#bd3786"
             ],
             [
              0.5555555555555556,
              "#d8576b"
             ],
             [
              0.6666666666666666,
              "#ed7953"
             ],
             [
              0.7777777777777778,
              "#fb9f3a"
             ],
             [
              0.8888888888888888,
              "#fdca26"
             ],
             [
              1,
              "#f0f921"
             ]
            ],
            "type": "surface"
           }
          ],
          "table": [
           {
            "cells": {
             "fill": {
              "color": "#EBF0F8"
             },
             "line": {
              "color": "white"
             }
            },
            "header": {
             "fill": {
              "color": "#C8D4E3"
             },
             "line": {
              "color": "white"
             }
            },
            "type": "table"
           }
          ]
         },
         "layout": {
          "annotationdefaults": {
           "arrowcolor": "#2a3f5f",
           "arrowhead": 0,
           "arrowwidth": 1
          },
          "autotypenumbers": "strict",
          "coloraxis": {
           "colorbar": {
            "outlinewidth": 0,
            "ticks": ""
           }
          },
          "colorscale": {
           "diverging": [
            [
             0,
             "#8e0152"
            ],
            [
             0.1,
             "#c51b7d"
            ],
            [
             0.2,
             "#de77ae"
            ],
            [
             0.3,
             "#f1b6da"
            ],
            [
             0.4,
             "#fde0ef"
            ],
            [
             0.5,
             "#f7f7f7"
            ],
            [
             0.6,
             "#e6f5d0"
            ],
            [
             0.7,
             "#b8e186"
            ],
            [
             0.8,
             "#7fbc41"
            ],
            [
             0.9,
             "#4d9221"
            ],
            [
             1,
             "#276419"
            ]
           ],
           "sequential": [
            [
             0,
             "#0d0887"
            ],
            [
             0.1111111111111111,
             "#46039f"
            ],
            [
             0.2222222222222222,
             "#7201a8"
            ],
            [
             0.3333333333333333,
             "#9c179e"
            ],
            [
             0.4444444444444444,
             "#bd3786"
            ],
            [
             0.5555555555555556,
             "#d8576b"
            ],
            [
             0.6666666666666666,
             "#ed7953"
            ],
            [
             0.7777777777777778,
             "#fb9f3a"
            ],
            [
             0.8888888888888888,
             "#fdca26"
            ],
            [
             1,
             "#f0f921"
            ]
           ],
           "sequentialminus": [
            [
             0,
             "#0d0887"
            ],
            [
             0.1111111111111111,
             "#46039f"
            ],
            [
             0.2222222222222222,
             "#7201a8"
            ],
            [
             0.3333333333333333,
             "#9c179e"
            ],
            [
             0.4444444444444444,
             "#bd3786"
            ],
            [
             0.5555555555555556,
             "#d8576b"
            ],
            [
             0.6666666666666666,
             "#ed7953"
            ],
            [
             0.7777777777777778,
             "#fb9f3a"
            ],
            [
             0.8888888888888888,
             "#fdca26"
            ],
            [
             1,
             "#f0f921"
            ]
           ]
          },
          "colorway": [
           "#636efa",
           "#EF553B",
           "#00cc96",
           "#ab63fa",
           "#FFA15A",
           "#19d3f3",
           "#FF6692",
           "#B6E880",
           "#FF97FF",
           "#FECB52"
          ],
          "font": {
           "color": "#2a3f5f"
          },
          "geo": {
           "bgcolor": "white",
           "lakecolor": "white",
           "landcolor": "#E5ECF6",
           "showlakes": true,
           "showland": true,
           "subunitcolor": "white"
          },
          "hoverlabel": {
           "align": "left"
          },
          "hovermode": "closest",
          "mapbox": {
           "style": "light"
          },
          "paper_bgcolor": "white",
          "plot_bgcolor": "#E5ECF6",
          "polar": {
           "angularaxis": {
            "gridcolor": "white",
            "linecolor": "white",
            "ticks": ""
           },
           "bgcolor": "#E5ECF6",
           "radialaxis": {
            "gridcolor": "white",
            "linecolor": "white",
            "ticks": ""
           }
          },
          "scene": {
           "xaxis": {
            "backgroundcolor": "#E5ECF6",
            "gridcolor": "white",
            "gridwidth": 2,
            "linecolor": "white",
            "showbackground": true,
            "ticks": "",
            "zerolinecolor": "white"
           },
           "yaxis": {
            "backgroundcolor": "#E5ECF6",
            "gridcolor": "white",
            "gridwidth": 2,
            "linecolor": "white",
            "showbackground": true,
            "ticks": "",
            "zerolinecolor": "white"
           },
           "zaxis": {
            "backgroundcolor": "#E5ECF6",
            "gridcolor": "white",
            "gridwidth": 2,
            "linecolor": "white",
            "showbackground": true,
            "ticks": "",
            "zerolinecolor": "white"
           }
          },
          "shapedefaults": {
           "line": {
            "color": "#2a3f5f"
           }
          },
          "ternary": {
           "aaxis": {
            "gridcolor": "white",
            "linecolor": "white",
            "ticks": ""
           },
           "baxis": {
            "gridcolor": "white",
            "linecolor": "white",
            "ticks": ""
           },
           "bgcolor": "#E5ECF6",
           "caxis": {
            "gridcolor": "white",
            "linecolor": "white",
            "ticks": ""
           }
          },
          "title": {
           "x": 0.05
          },
          "xaxis": {
           "automargin": true,
           "gridcolor": "white",
           "linecolor": "white",
           "ticks": "",
           "title": {
            "standoff": 15
           },
           "zerolinecolor": "white",
           "zerolinewidth": 2
          },
          "yaxis": {
           "automargin": true,
           "gridcolor": "white",
           "linecolor": "white",
           "ticks": "",
           "title": {
            "standoff": 15
           },
           "zerolinecolor": "white",
           "zerolinewidth": 2
          }
         }
        },
        "title": {
         "text": "Top 10 Tour Type based on Item Counts"
        },
        "xaxis": {
         "anchor": "y",
         "domain": [
          0,
          1
         ],
         "title": {
          "text": "Tour_Type"
         }
        },
        "yaxis": {
         "anchor": "x",
         "domain": [
          0,
          1
         ],
         "title": {
          "text": "Counts"
         }
        }
       }
      }
     },
     "metadata": {},
     "output_type": "display_data"
    }
   ],
   "source": [
    "column = 'Tour_Type'\n",
    "counts = df3[column].value_counts()\n",
    "count_percentage = df3[column].value_counts(1)*100\n",
    "counts_df3 = pd.DataFrame({column:counts.index,'Counts':counts.values,'Percent':np.round(count_percentage.values,2)})\n",
    "print('unique '+str(column))\n",
    "print('Top 10 '+str(column))\n",
    "display(counts_df3.head(10))\n",
    "print('Bottom 10 '+str(column))\n",
    "display(counts_df.tail(10))\n",
    "px.bar(data_frame=counts_df3.head(10),\n",
    " x=column,\n",
    " y='Counts',\n",
    " color='Counts',\n",
    " color_continuous_scale='blues',\n",
    " text_auto=True,\n",
    " title=f'Top 10 Tour Type based on Item Counts')"
   ]
  },
  {
   "cell_type": "code",
   "execution_count": 197,
   "metadata": {},
   "outputs": [
    {
     "data": {
      "application/vnd.plotly.v1+json": {
       "config": {
        "plotlyServerURL": "https://plot.ly"
       },
       "data": [
        {
         "alignmentgroup": "True",
         "hovertemplate": "Tour_Type=%{x}<br>Number_of_Reviewer=%{marker.color}<extra></extra>",
         "legendgroup": "",
         "marker": {
          "color": [
           1466,
           994,
           458,
           263,
           228,
           175,
           127,
           95,
           91,
           73
          ],
          "coloraxis": "coloraxis",
          "pattern": {
           "shape": ""
          }
         },
         "name": "",
         "offsetgroup": "",
         "orientation": "v",
         "showlegend": false,
         "textposition": "auto",
         "texttemplate": "%{y}",
         "type": "bar",
         "x": [
          "Full-day Tours",
          "Bus Tours",
          "Adventure Tours",
          "Multi-day Tours",
          "Half-day Tours",
          "Overnight Tours",
          "Mountain Bike Tours",
          "Airport & Hotel Transfers",
          "Cooking Classes",
          "Private Drivers"
         ],
         "xaxis": "x",
         "y": [
          1466,
          994,
          458,
          263,
          228,
          175,
          127,
          95,
          91,
          73
         ],
         "yaxis": "y"
        }
       ],
       "layout": {
        "barmode": "relative",
        "coloraxis": {
         "colorbar": {
          "title": {
           "text": "Number_of_Reviewer"
          }
         },
         "colorscale": [
          [
           0,
           "#0d0887"
          ],
          [
           0.1111111111111111,
           "#46039f"
          ],
          [
           0.2222222222222222,
           "#7201a8"
          ],
          [
           0.3333333333333333,
           "#9c179e"
          ],
          [
           0.4444444444444444,
           "#bd3786"
          ],
          [
           0.5555555555555556,
           "#d8576b"
          ],
          [
           0.6666666666666666,
           "#ed7953"
          ],
          [
           0.7777777777777778,
           "#fb9f3a"
          ],
          [
           0.8888888888888888,
           "#fdca26"
          ],
          [
           1,
           "#f0f921"
          ]
         ]
        },
        "legend": {
         "tracegroupgap": 0
        },
        "template": {
         "data": {
          "bar": [
           {
            "error_x": {
             "color": "#2a3f5f"
            },
            "error_y": {
             "color": "#2a3f5f"
            },
            "marker": {
             "line": {
              "color": "#E5ECF6",
              "width": 0.5
             },
             "pattern": {
              "fillmode": "overlay",
              "size": 10,
              "solidity": 0.2
             }
            },
            "type": "bar"
           }
          ],
          "barpolar": [
           {
            "marker": {
             "line": {
              "color": "#E5ECF6",
              "width": 0.5
             },
             "pattern": {
              "fillmode": "overlay",
              "size": 10,
              "solidity": 0.2
             }
            },
            "type": "barpolar"
           }
          ],
          "carpet": [
           {
            "aaxis": {
             "endlinecolor": "#2a3f5f",
             "gridcolor": "white",
             "linecolor": "white",
             "minorgridcolor": "white",
             "startlinecolor": "#2a3f5f"
            },
            "baxis": {
             "endlinecolor": "#2a3f5f",
             "gridcolor": "white",
             "linecolor": "white",
             "minorgridcolor": "white",
             "startlinecolor": "#2a3f5f"
            },
            "type": "carpet"
           }
          ],
          "choropleth": [
           {
            "colorbar": {
             "outlinewidth": 0,
             "ticks": ""
            },
            "type": "choropleth"
           }
          ],
          "contour": [
           {
            "colorbar": {
             "outlinewidth": 0,
             "ticks": ""
            },
            "colorscale": [
             [
              0,
              "#0d0887"
             ],
             [
              0.1111111111111111,
              "#46039f"
             ],
             [
              0.2222222222222222,
              "#7201a8"
             ],
             [
              0.3333333333333333,
              "#9c179e"
             ],
             [
              0.4444444444444444,
              "#bd3786"
             ],
             [
              0.5555555555555556,
              "#d8576b"
             ],
             [
              0.6666666666666666,
              "#ed7953"
             ],
             [
              0.7777777777777778,
              "#fb9f3a"
             ],
             [
              0.8888888888888888,
              "#fdca26"
             ],
             [
              1,
              "#f0f921"
             ]
            ],
            "type": "contour"
           }
          ],
          "contourcarpet": [
           {
            "colorbar": {
             "outlinewidth": 0,
             "ticks": ""
            },
            "type": "contourcarpet"
           }
          ],
          "heatmap": [
           {
            "colorbar": {
             "outlinewidth": 0,
             "ticks": ""
            },
            "colorscale": [
             [
              0,
              "#0d0887"
             ],
             [
              0.1111111111111111,
              "#46039f"
             ],
             [
              0.2222222222222222,
              "#7201a8"
             ],
             [
              0.3333333333333333,
              "#9c179e"
             ],
             [
              0.4444444444444444,
              "#bd3786"
             ],
             [
              0.5555555555555556,
              "#d8576b"
             ],
             [
              0.6666666666666666,
              "#ed7953"
             ],
             [
              0.7777777777777778,
              "#fb9f3a"
             ],
             [
              0.8888888888888888,
              "#fdca26"
             ],
             [
              1,
              "#f0f921"
             ]
            ],
            "type": "heatmap"
           }
          ],
          "heatmapgl": [
           {
            "colorbar": {
             "outlinewidth": 0,
             "ticks": ""
            },
            "colorscale": [
             [
              0,
              "#0d0887"
             ],
             [
              0.1111111111111111,
              "#46039f"
             ],
             [
              0.2222222222222222,
              "#7201a8"
             ],
             [
              0.3333333333333333,
              "#9c179e"
             ],
             [
              0.4444444444444444,
              "#bd3786"
             ],
             [
              0.5555555555555556,
              "#d8576b"
             ],
             [
              0.6666666666666666,
              "#ed7953"
             ],
             [
              0.7777777777777778,
              "#fb9f3a"
             ],
             [
              0.8888888888888888,
              "#fdca26"
             ],
             [
              1,
              "#f0f921"
             ]
            ],
            "type": "heatmapgl"
           }
          ],
          "histogram": [
           {
            "marker": {
             "pattern": {
              "fillmode": "overlay",
              "size": 10,
              "solidity": 0.2
             }
            },
            "type": "histogram"
           }
          ],
          "histogram2d": [
           {
            "colorbar": {
             "outlinewidth": 0,
             "ticks": ""
            },
            "colorscale": [
             [
              0,
              "#0d0887"
             ],
             [
              0.1111111111111111,
              "#46039f"
             ],
             [
              0.2222222222222222,
              "#7201a8"
             ],
             [
              0.3333333333333333,
              "#9c179e"
             ],
             [
              0.4444444444444444,
              "#bd3786"
             ],
             [
              0.5555555555555556,
              "#d8576b"
             ],
             [
              0.6666666666666666,
              "#ed7953"
             ],
             [
              0.7777777777777778,
              "#fb9f3a"
             ],
             [
              0.8888888888888888,
              "#fdca26"
             ],
             [
              1,
              "#f0f921"
             ]
            ],
            "type": "histogram2d"
           }
          ],
          "histogram2dcontour": [
           {
            "colorbar": {
             "outlinewidth": 0,
             "ticks": ""
            },
            "colorscale": [
             [
              0,
              "#0d0887"
             ],
             [
              0.1111111111111111,
              "#46039f"
             ],
             [
              0.2222222222222222,
              "#7201a8"
             ],
             [
              0.3333333333333333,
              "#9c179e"
             ],
             [
              0.4444444444444444,
              "#bd3786"
             ],
             [
              0.5555555555555556,
              "#d8576b"
             ],
             [
              0.6666666666666666,
              "#ed7953"
             ],
             [
              0.7777777777777778,
              "#fb9f3a"
             ],
             [
              0.8888888888888888,
              "#fdca26"
             ],
             [
              1,
              "#f0f921"
             ]
            ],
            "type": "histogram2dcontour"
           }
          ],
          "mesh3d": [
           {
            "colorbar": {
             "outlinewidth": 0,
             "ticks": ""
            },
            "type": "mesh3d"
           }
          ],
          "parcoords": [
           {
            "line": {
             "colorbar": {
              "outlinewidth": 0,
              "ticks": ""
             }
            },
            "type": "parcoords"
           }
          ],
          "pie": [
           {
            "automargin": true,
            "type": "pie"
           }
          ],
          "scatter": [
           {
            "fillpattern": {
             "fillmode": "overlay",
             "size": 10,
             "solidity": 0.2
            },
            "type": "scatter"
           }
          ],
          "scatter3d": [
           {
            "line": {
             "colorbar": {
              "outlinewidth": 0,
              "ticks": ""
             }
            },
            "marker": {
             "colorbar": {
              "outlinewidth": 0,
              "ticks": ""
             }
            },
            "type": "scatter3d"
           }
          ],
          "scattercarpet": [
           {
            "marker": {
             "colorbar": {
              "outlinewidth": 0,
              "ticks": ""
             }
            },
            "type": "scattercarpet"
           }
          ],
          "scattergeo": [
           {
            "marker": {
             "colorbar": {
              "outlinewidth": 0,
              "ticks": ""
             }
            },
            "type": "scattergeo"
           }
          ],
          "scattergl": [
           {
            "marker": {
             "colorbar": {
              "outlinewidth": 0,
              "ticks": ""
             }
            },
            "type": "scattergl"
           }
          ],
          "scattermapbox": [
           {
            "marker": {
             "colorbar": {
              "outlinewidth": 0,
              "ticks": ""
             }
            },
            "type": "scattermapbox"
           }
          ],
          "scatterpolar": [
           {
            "marker": {
             "colorbar": {
              "outlinewidth": 0,
              "ticks": ""
             }
            },
            "type": "scatterpolar"
           }
          ],
          "scatterpolargl": [
           {
            "marker": {
             "colorbar": {
              "outlinewidth": 0,
              "ticks": ""
             }
            },
            "type": "scatterpolargl"
           }
          ],
          "scatterternary": [
           {
            "marker": {
             "colorbar": {
              "outlinewidth": 0,
              "ticks": ""
             }
            },
            "type": "scatterternary"
           }
          ],
          "surface": [
           {
            "colorbar": {
             "outlinewidth": 0,
             "ticks": ""
            },
            "colorscale": [
             [
              0,
              "#0d0887"
             ],
             [
              0.1111111111111111,
              "#46039f"
             ],
             [
              0.2222222222222222,
              "#7201a8"
             ],
             [
              0.3333333333333333,
              "#9c179e"
             ],
             [
              0.4444444444444444,
              "#bd3786"
             ],
             [
              0.5555555555555556,
              "#d8576b"
             ],
             [
              0.6666666666666666,
              "#ed7953"
             ],
             [
              0.7777777777777778,
              "#fb9f3a"
             ],
             [
              0.8888888888888888,
              "#fdca26"
             ],
             [
              1,
              "#f0f921"
             ]
            ],
            "type": "surface"
           }
          ],
          "table": [
           {
            "cells": {
             "fill": {
              "color": "#EBF0F8"
             },
             "line": {
              "color": "white"
             }
            },
            "header": {
             "fill": {
              "color": "#C8D4E3"
             },
             "line": {
              "color": "white"
             }
            },
            "type": "table"
           }
          ]
         },
         "layout": {
          "annotationdefaults": {
           "arrowcolor": "#2a3f5f",
           "arrowhead": 0,
           "arrowwidth": 1
          },
          "autotypenumbers": "strict",
          "coloraxis": {
           "colorbar": {
            "outlinewidth": 0,
            "ticks": ""
           }
          },
          "colorscale": {
           "diverging": [
            [
             0,
             "#8e0152"
            ],
            [
             0.1,
             "#c51b7d"
            ],
            [
             0.2,
             "#de77ae"
            ],
            [
             0.3,
             "#f1b6da"
            ],
            [
             0.4,
             "#fde0ef"
            ],
            [
             0.5,
             "#f7f7f7"
            ],
            [
             0.6,
             "#e6f5d0"
            ],
            [
             0.7,
             "#b8e186"
            ],
            [
             0.8,
             "#7fbc41"
            ],
            [
             0.9,
             "#4d9221"
            ],
            [
             1,
             "#276419"
            ]
           ],
           "sequential": [
            [
             0,
             "#0d0887"
            ],
            [
             0.1111111111111111,
             "#46039f"
            ],
            [
             0.2222222222222222,
             "#7201a8"
            ],
            [
             0.3333333333333333,
             "#9c179e"
            ],
            [
             0.4444444444444444,
             "#bd3786"
            ],
            [
             0.5555555555555556,
             "#d8576b"
            ],
            [
             0.6666666666666666,
             "#ed7953"
            ],
            [
             0.7777777777777778,
             "#fb9f3a"
            ],
            [
             0.8888888888888888,
             "#fdca26"
            ],
            [
             1,
             "#f0f921"
            ]
           ],
           "sequentialminus": [
            [
             0,
             "#0d0887"
            ],
            [
             0.1111111111111111,
             "#46039f"
            ],
            [
             0.2222222222222222,
             "#7201a8"
            ],
            [
             0.3333333333333333,
             "#9c179e"
            ],
            [
             0.4444444444444444,
             "#bd3786"
            ],
            [
             0.5555555555555556,
             "#d8576b"
            ],
            [
             0.6666666666666666,
             "#ed7953"
            ],
            [
             0.7777777777777778,
             "#fb9f3a"
            ],
            [
             0.8888888888888888,
             "#fdca26"
            ],
            [
             1,
             "#f0f921"
            ]
           ]
          },
          "colorway": [
           "#636efa",
           "#EF553B",
           "#00cc96",
           "#ab63fa",
           "#FFA15A",
           "#19d3f3",
           "#FF6692",
           "#B6E880",
           "#FF97FF",
           "#FECB52"
          ],
          "font": {
           "color": "#2a3f5f"
          },
          "geo": {
           "bgcolor": "white",
           "lakecolor": "white",
           "landcolor": "#E5ECF6",
           "showlakes": true,
           "showland": true,
           "subunitcolor": "white"
          },
          "hoverlabel": {
           "align": "left"
          },
          "hovermode": "closest",
          "mapbox": {
           "style": "light"
          },
          "paper_bgcolor": "white",
          "plot_bgcolor": "#E5ECF6",
          "polar": {
           "angularaxis": {
            "gridcolor": "white",
            "linecolor": "white",
            "ticks": ""
           },
           "bgcolor": "#E5ECF6",
           "radialaxis": {
            "gridcolor": "white",
            "linecolor": "white",
            "ticks": ""
           }
          },
          "scene": {
           "xaxis": {
            "backgroundcolor": "#E5ECF6",
            "gridcolor": "white",
            "gridwidth": 2,
            "linecolor": "white",
            "showbackground": true,
            "ticks": "",
            "zerolinecolor": "white"
           },
           "yaxis": {
            "backgroundcolor": "#E5ECF6",
            "gridcolor": "white",
            "gridwidth": 2,
            "linecolor": "white",
            "showbackground": true,
            "ticks": "",
            "zerolinecolor": "white"
           },
           "zaxis": {
            "backgroundcolor": "#E5ECF6",
            "gridcolor": "white",
            "gridwidth": 2,
            "linecolor": "white",
            "showbackground": true,
            "ticks": "",
            "zerolinecolor": "white"
           }
          },
          "shapedefaults": {
           "line": {
            "color": "#2a3f5f"
           }
          },
          "ternary": {
           "aaxis": {
            "gridcolor": "white",
            "linecolor": "white",
            "ticks": ""
           },
           "baxis": {
            "gridcolor": "white",
            "linecolor": "white",
            "ticks": ""
           },
           "bgcolor": "#E5ECF6",
           "caxis": {
            "gridcolor": "white",
            "linecolor": "white",
            "ticks": ""
           }
          },
          "title": {
           "x": 0.05
          },
          "xaxis": {
           "automargin": true,
           "gridcolor": "white",
           "linecolor": "white",
           "ticks": "",
           "title": {
            "standoff": 15
           },
           "zerolinecolor": "white",
           "zerolinewidth": 2
          },
          "yaxis": {
           "automargin": true,
           "gridcolor": "white",
           "linecolor": "white",
           "ticks": "",
           "title": {
            "standoff": 15
           },
           "zerolinecolor": "white",
           "zerolinewidth": 2
          }
         }
        },
        "title": {
         "text": "Top 10 Tour Type based on Item Counts"
        },
        "xaxis": {
         "anchor": "y",
         "domain": [
          0,
          1
         ],
         "title": {
          "text": "Tour_Type"
         }
        },
        "yaxis": {
         "anchor": "x",
         "domain": [
          0,
          1
         ],
         "title": {
          "text": "Number_of_Reviewer"
         }
        }
       }
      }
     },
     "metadata": {},
     "output_type": "display_data"
    }
   ],
   "source": [
    "# Calculate the counts for each Tour_Type\n",
    "counts = df3.groupby('Tour_Type').count().reset_index()\n",
    "\n",
    "# Sort the values by descending order of count and select top 10\n",
    "counts = counts.sort_values(by='Number_of_Reviewer', ascending=False)[:10]\n",
    "\n",
    "# Create the histogram using plotly express\n",
    "fig = px.bar(counts, x='Tour_Type', y='Number_of_Reviewer', \n",
    "                   color='Number_of_Reviewer',text_auto=True,\n",
    "                   title='Top 10 Tour Type based on Item Counts')\n",
    "\n",
    "# Display the histogram\n",
    "fig.show()"
   ]
  },
  {
   "cell_type": "code",
   "execution_count": 198,
   "metadata": {},
   "outputs": [
    {
     "data": {
      "application/vnd.plotly.v1+json": {
       "config": {
        "plotlyServerURL": "https://plot.ly"
       },
       "data": [
        {
         "domain": {
          "x": [
           0,
           1
          ],
          "y": [
           0,
           1
          ]
         },
         "hovertemplate": "label=%{label}<br>value=%{value}<extra></extra>",
         "labels": [
          "Full-day Tours",
          "Bus Tours",
          "Adventure Tours",
          "Multi-day Tours",
          "Half-day Tours",
          "Overnight Tours",
          "Mountain Bike Tours",
          "Airport & Hotel Transfers",
          "Cooking Classes",
          "Private Drivers"
         ],
         "legendgroup": "",
         "name": "",
         "showlegend": true,
         "type": "pie",
         "values": [
          1466,
          994,
          458,
          263,
          228,
          175,
          127,
          95,
          91,
          73
         ]
        }
       ],
       "layout": {
        "height": 800,
        "legend": {
         "tracegroupgap": 0
        },
        "template": {
         "data": {
          "bar": [
           {
            "error_x": {
             "color": "#2a3f5f"
            },
            "error_y": {
             "color": "#2a3f5f"
            },
            "marker": {
             "line": {
              "color": "#E5ECF6",
              "width": 0.5
             },
             "pattern": {
              "fillmode": "overlay",
              "size": 10,
              "solidity": 0.2
             }
            },
            "type": "bar"
           }
          ],
          "barpolar": [
           {
            "marker": {
             "line": {
              "color": "#E5ECF6",
              "width": 0.5
             },
             "pattern": {
              "fillmode": "overlay",
              "size": 10,
              "solidity": 0.2
             }
            },
            "type": "barpolar"
           }
          ],
          "carpet": [
           {
            "aaxis": {
             "endlinecolor": "#2a3f5f",
             "gridcolor": "white",
             "linecolor": "white",
             "minorgridcolor": "white",
             "startlinecolor": "#2a3f5f"
            },
            "baxis": {
             "endlinecolor": "#2a3f5f",
             "gridcolor": "white",
             "linecolor": "white",
             "minorgridcolor": "white",
             "startlinecolor": "#2a3f5f"
            },
            "type": "carpet"
           }
          ],
          "choropleth": [
           {
            "colorbar": {
             "outlinewidth": 0,
             "ticks": ""
            },
            "type": "choropleth"
           }
          ],
          "contour": [
           {
            "colorbar": {
             "outlinewidth": 0,
             "ticks": ""
            },
            "colorscale": [
             [
              0,
              "#0d0887"
             ],
             [
              0.1111111111111111,
              "#46039f"
             ],
             [
              0.2222222222222222,
              "#7201a8"
             ],
             [
              0.3333333333333333,
              "#9c179e"
             ],
             [
              0.4444444444444444,
              "#bd3786"
             ],
             [
              0.5555555555555556,
              "#d8576b"
             ],
             [
              0.6666666666666666,
              "#ed7953"
             ],
             [
              0.7777777777777778,
              "#fb9f3a"
             ],
             [
              0.8888888888888888,
              "#fdca26"
             ],
             [
              1,
              "#f0f921"
             ]
            ],
            "type": "contour"
           }
          ],
          "contourcarpet": [
           {
            "colorbar": {
             "outlinewidth": 0,
             "ticks": ""
            },
            "type": "contourcarpet"
           }
          ],
          "heatmap": [
           {
            "colorbar": {
             "outlinewidth": 0,
             "ticks": ""
            },
            "colorscale": [
             [
              0,
              "#0d0887"
             ],
             [
              0.1111111111111111,
              "#46039f"
             ],
             [
              0.2222222222222222,
              "#7201a8"
             ],
             [
              0.3333333333333333,
              "#9c179e"
             ],
             [
              0.4444444444444444,
              "#bd3786"
             ],
             [
              0.5555555555555556,
              "#d8576b"
             ],
             [
              0.6666666666666666,
              "#ed7953"
             ],
             [
              0.7777777777777778,
              "#fb9f3a"
             ],
             [
              0.8888888888888888,
              "#fdca26"
             ],
             [
              1,
              "#f0f921"
             ]
            ],
            "type": "heatmap"
           }
          ],
          "heatmapgl": [
           {
            "colorbar": {
             "outlinewidth": 0,
             "ticks": ""
            },
            "colorscale": [
             [
              0,
              "#0d0887"
             ],
             [
              0.1111111111111111,
              "#46039f"
             ],
             [
              0.2222222222222222,
              "#7201a8"
             ],
             [
              0.3333333333333333,
              "#9c179e"
             ],
             [
              0.4444444444444444,
              "#bd3786"
             ],
             [
              0.5555555555555556,
              "#d8576b"
             ],
             [
              0.6666666666666666,
              "#ed7953"
             ],
             [
              0.7777777777777778,
              "#fb9f3a"
             ],
             [
              0.8888888888888888,
              "#fdca26"
             ],
             [
              1,
              "#f0f921"
             ]
            ],
            "type": "heatmapgl"
           }
          ],
          "histogram": [
           {
            "marker": {
             "pattern": {
              "fillmode": "overlay",
              "size": 10,
              "solidity": 0.2
             }
            },
            "type": "histogram"
           }
          ],
          "histogram2d": [
           {
            "colorbar": {
             "outlinewidth": 0,
             "ticks": ""
            },
            "colorscale": [
             [
              0,
              "#0d0887"
             ],
             [
              0.1111111111111111,
              "#46039f"
             ],
             [
              0.2222222222222222,
              "#7201a8"
             ],
             [
              0.3333333333333333,
              "#9c179e"
             ],
             [
              0.4444444444444444,
              "#bd3786"
             ],
             [
              0.5555555555555556,
              "#d8576b"
             ],
             [
              0.6666666666666666,
              "#ed7953"
             ],
             [
              0.7777777777777778,
              "#fb9f3a"
             ],
             [
              0.8888888888888888,
              "#fdca26"
             ],
             [
              1,
              "#f0f921"
             ]
            ],
            "type": "histogram2d"
           }
          ],
          "histogram2dcontour": [
           {
            "colorbar": {
             "outlinewidth": 0,
             "ticks": ""
            },
            "colorscale": [
             [
              0,
              "#0d0887"
             ],
             [
              0.1111111111111111,
              "#46039f"
             ],
             [
              0.2222222222222222,
              "#7201a8"
             ],
             [
              0.3333333333333333,
              "#9c179e"
             ],
             [
              0.4444444444444444,
              "#bd3786"
             ],
             [
              0.5555555555555556,
              "#d8576b"
             ],
             [
              0.6666666666666666,
              "#ed7953"
             ],
             [
              0.7777777777777778,
              "#fb9f3a"
             ],
             [
              0.8888888888888888,
              "#fdca26"
             ],
             [
              1,
              "#f0f921"
             ]
            ],
            "type": "histogram2dcontour"
           }
          ],
          "mesh3d": [
           {
            "colorbar": {
             "outlinewidth": 0,
             "ticks": ""
            },
            "type": "mesh3d"
           }
          ],
          "parcoords": [
           {
            "line": {
             "colorbar": {
              "outlinewidth": 0,
              "ticks": ""
             }
            },
            "type": "parcoords"
           }
          ],
          "pie": [
           {
            "automargin": true,
            "type": "pie"
           }
          ],
          "scatter": [
           {
            "fillpattern": {
             "fillmode": "overlay",
             "size": 10,
             "solidity": 0.2
            },
            "type": "scatter"
           }
          ],
          "scatter3d": [
           {
            "line": {
             "colorbar": {
              "outlinewidth": 0,
              "ticks": ""
             }
            },
            "marker": {
             "colorbar": {
              "outlinewidth": 0,
              "ticks": ""
             }
            },
            "type": "scatter3d"
           }
          ],
          "scattercarpet": [
           {
            "marker": {
             "colorbar": {
              "outlinewidth": 0,
              "ticks": ""
             }
            },
            "type": "scattercarpet"
           }
          ],
          "scattergeo": [
           {
            "marker": {
             "colorbar": {
              "outlinewidth": 0,
              "ticks": ""
             }
            },
            "type": "scattergeo"
           }
          ],
          "scattergl": [
           {
            "marker": {
             "colorbar": {
              "outlinewidth": 0,
              "ticks": ""
             }
            },
            "type": "scattergl"
           }
          ],
          "scattermapbox": [
           {
            "marker": {
             "colorbar": {
              "outlinewidth": 0,
              "ticks": ""
             }
            },
            "type": "scattermapbox"
           }
          ],
          "scatterpolar": [
           {
            "marker": {
             "colorbar": {
              "outlinewidth": 0,
              "ticks": ""
             }
            },
            "type": "scatterpolar"
           }
          ],
          "scatterpolargl": [
           {
            "marker": {
             "colorbar": {
              "outlinewidth": 0,
              "ticks": ""
             }
            },
            "type": "scatterpolargl"
           }
          ],
          "scatterternary": [
           {
            "marker": {
             "colorbar": {
              "outlinewidth": 0,
              "ticks": ""
             }
            },
            "type": "scatterternary"
           }
          ],
          "surface": [
           {
            "colorbar": {
             "outlinewidth": 0,
             "ticks": ""
            },
            "colorscale": [
             [
              0,
              "#0d0887"
             ],
             [
              0.1111111111111111,
              "#46039f"
             ],
             [
              0.2222222222222222,
              "#7201a8"
             ],
             [
              0.3333333333333333,
              "#9c179e"
             ],
             [
              0.4444444444444444,
              "#bd3786"
             ],
             [
              0.5555555555555556,
              "#d8576b"
             ],
             [
              0.6666666666666666,
              "#ed7953"
             ],
             [
              0.7777777777777778,
              "#fb9f3a"
             ],
             [
              0.8888888888888888,
              "#fdca26"
             ],
             [
              1,
              "#f0f921"
             ]
            ],
            "type": "surface"
           }
          ],
          "table": [
           {
            "cells": {
             "fill": {
              "color": "#EBF0F8"
             },
             "line": {
              "color": "white"
             }
            },
            "header": {
             "fill": {
              "color": "#C8D4E3"
             },
             "line": {
              "color": "white"
             }
            },
            "type": "table"
           }
          ]
         },
         "layout": {
          "annotationdefaults": {
           "arrowcolor": "#2a3f5f",
           "arrowhead": 0,
           "arrowwidth": 1
          },
          "autotypenumbers": "strict",
          "coloraxis": {
           "colorbar": {
            "outlinewidth": 0,
            "ticks": ""
           }
          },
          "colorscale": {
           "diverging": [
            [
             0,
             "#8e0152"
            ],
            [
             0.1,
             "#c51b7d"
            ],
            [
             0.2,
             "#de77ae"
            ],
            [
             0.3,
             "#f1b6da"
            ],
            [
             0.4,
             "#fde0ef"
            ],
            [
             0.5,
             "#f7f7f7"
            ],
            [
             0.6,
             "#e6f5d0"
            ],
            [
             0.7,
             "#b8e186"
            ],
            [
             0.8,
             "#7fbc41"
            ],
            [
             0.9,
             "#4d9221"
            ],
            [
             1,
             "#276419"
            ]
           ],
           "sequential": [
            [
             0,
             "#0d0887"
            ],
            [
             0.1111111111111111,
             "#46039f"
            ],
            [
             0.2222222222222222,
             "#7201a8"
            ],
            [
             0.3333333333333333,
             "#9c179e"
            ],
            [
             0.4444444444444444,
             "#bd3786"
            ],
            [
             0.5555555555555556,
             "#d8576b"
            ],
            [
             0.6666666666666666,
             "#ed7953"
            ],
            [
             0.7777777777777778,
             "#fb9f3a"
            ],
            [
             0.8888888888888888,
             "#fdca26"
            ],
            [
             1,
             "#f0f921"
            ]
           ],
           "sequentialminus": [
            [
             0,
             "#0d0887"
            ],
            [
             0.1111111111111111,
             "#46039f"
            ],
            [
             0.2222222222222222,
             "#7201a8"
            ],
            [
             0.3333333333333333,
             "#9c179e"
            ],
            [
             0.4444444444444444,
             "#bd3786"
            ],
            [
             0.5555555555555556,
             "#d8576b"
            ],
            [
             0.6666666666666666,
             "#ed7953"
            ],
            [
             0.7777777777777778,
             "#fb9f3a"
            ],
            [
             0.8888888888888888,
             "#fdca26"
            ],
            [
             1,
             "#f0f921"
            ]
           ]
          },
          "colorway": [
           "#636efa",
           "#EF553B",
           "#00cc96",
           "#ab63fa",
           "#FFA15A",
           "#19d3f3",
           "#FF6692",
           "#B6E880",
           "#FF97FF",
           "#FECB52"
          ],
          "font": {
           "color": "#2a3f5f"
          },
          "geo": {
           "bgcolor": "white",
           "lakecolor": "white",
           "landcolor": "#E5ECF6",
           "showlakes": true,
           "showland": true,
           "subunitcolor": "white"
          },
          "hoverlabel": {
           "align": "left"
          },
          "hovermode": "closest",
          "mapbox": {
           "style": "light"
          },
          "paper_bgcolor": "white",
          "plot_bgcolor": "#E5ECF6",
          "polar": {
           "angularaxis": {
            "gridcolor": "white",
            "linecolor": "white",
            "ticks": ""
           },
           "bgcolor": "#E5ECF6",
           "radialaxis": {
            "gridcolor": "white",
            "linecolor": "white",
            "ticks": ""
           }
          },
          "scene": {
           "xaxis": {
            "backgroundcolor": "#E5ECF6",
            "gridcolor": "white",
            "gridwidth": 2,
            "linecolor": "white",
            "showbackground": true,
            "ticks": "",
            "zerolinecolor": "white"
           },
           "yaxis": {
            "backgroundcolor": "#E5ECF6",
            "gridcolor": "white",
            "gridwidth": 2,
            "linecolor": "white",
            "showbackground": true,
            "ticks": "",
            "zerolinecolor": "white"
           },
           "zaxis": {
            "backgroundcolor": "#E5ECF6",
            "gridcolor": "white",
            "gridwidth": 2,
            "linecolor": "white",
            "showbackground": true,
            "ticks": "",
            "zerolinecolor": "white"
           }
          },
          "shapedefaults": {
           "line": {
            "color": "#2a3f5f"
           }
          },
          "ternary": {
           "aaxis": {
            "gridcolor": "white",
            "linecolor": "white",
            "ticks": ""
           },
           "baxis": {
            "gridcolor": "white",
            "linecolor": "white",
            "ticks": ""
           },
           "bgcolor": "#E5ECF6",
           "caxis": {
            "gridcolor": "white",
            "linecolor": "white",
            "ticks": ""
           }
          },
          "title": {
           "x": 0.05
          },
          "xaxis": {
           "automargin": true,
           "gridcolor": "white",
           "linecolor": "white",
           "ticks": "",
           "title": {
            "standoff": 15
           },
           "zerolinecolor": "white",
           "zerolinewidth": 2
          },
          "yaxis": {
           "automargin": true,
           "gridcolor": "white",
           "linecolor": "white",
           "ticks": "",
           "title": {
            "standoff": 15
           },
           "zerolinecolor": "white",
           "zerolinewidth": 2
          }
         }
        },
        "title": {
         "text": "Top 10 of Tour Type Distribution"
        },
        "width": 1000
       }
      }
     },
     "metadata": {},
     "output_type": "display_data"
    }
   ],
   "source": [
    "# Calculate count and percentage for each tour type\n",
    "tour_type_counts = df3['Tour_Type'].value_counts()\n",
    "tour_type_percents = 100 * tour_type_counts / len(df3)\n",
    "# Create pie chart using Plotly Express\n",
    "fig = px.pie(values=tour_type_counts.head(10), names=tour_type_counts.head(10).index,\n",
    "             title='Top 10 of Tour Type Distribution', width=1000, height=800)\n",
    "fig.show()"
   ]
  },
  {
   "attachments": {},
   "cell_type": "markdown",
   "metadata": {},
   "source": [
    "#### <font color = red><b>Number_of_Reviewer Analysis"
   ]
  },
  {
   "cell_type": "code",
   "execution_count": 199,
   "metadata": {},
   "outputs": [
    {
     "name": "stdout",
     "output_type": "stream",
     "text": [
      "count    4753.000000\n",
      "mean       10.656680\n",
      "std        48.594473\n",
      "min         1.000000\n",
      "25%         1.400000\n",
      "50%         2.600000\n",
      "75%         6.600000\n",
      "max      1289.000000\n",
      "Name: Number_of_Reviewer, dtype: float64\n"
     ]
    },
    {
     "data": {
      "image/png": "[encoded data removed]",
      "text/plain": [
       "<Figure size 640x480 with 1 Axes>"
      ]
     },
     "metadata": {},
     "output_type": "display_data"
    }
   ],
   "source": [
    "print(df3['Number_of_Reviewer'].describe())\n",
    "plt.grid(True)\n",
    "counts, bins, patches = plt.hist(df3['Number_of_Reviewer'],color='blue')\n",
    "# Add text labels for each bar\n",
    "plt.bar_label(patches, labels=[str(int(count)) for count in counts])\n",
    "plt.show()"
   ]
  },
  {
   "cell_type": "code",
   "execution_count": 200,
   "metadata": {},
   "outputs": [
    {
     "data": {
      "image/png": "[encoded data removed]",
      "text/plain": [
       "<Figure size 640x480 with 1 Axes>"
      ]
     },
     "metadata": {},
     "output_type": "display_data"
    }
   ],
   "source": [
    "sns.boxplot(x=df3['Number_of_Reviewer'],color='red',showmeans=True)\n",
    "plt.grid(True)\n",
    "plt.show()"
   ]
  },
  {
   "attachments": {},
   "cell_type": "markdown",
   "metadata": {},
   "source": [
    "#### <font color = red><b> Rating analysis"
   ]
  },
  {
   "cell_type": "code",
   "execution_count": 201,
   "metadata": {},
   "outputs": [
    {
     "name": "stdout",
     "output_type": "stream",
     "text": [
      "count    4753.000000\n",
      "mean        4.576373\n",
      "std         0.668113\n",
      "min         1.000000\n",
      "25%         4.200000\n",
      "50%         5.000000\n",
      "75%         5.000000\n",
      "max         5.000000\n",
      "Name: Rating, dtype: float64\n"
     ]
    },
    {
     "data": {
      "image/png": "[encoded data removed]",
      "text/plain": [
       "<Figure size 640x480 with 1 Axes>"
      ]
     },
     "metadata": {},
     "output_type": "display_data"
    }
   ],
   "source": [
    "print(df3['Rating'].describe())\n",
    "# Create histogram\n",
    "plt.grid(True)\n",
    "counts, bins, patches = plt.hist(df3['Rating'],color='blue')\n",
    "# Add text labels for each bar\n",
    "plt.bar_label(patches, labels=[str(int(count)) for count in counts])\n",
    "# Show plot\n",
    "plt.show()"
   ]
  },
  {
   "cell_type": "code",
   "execution_count": 202,
   "metadata": {},
   "outputs": [
    {
     "data": {
      "image/png": "[encoded data removed]",
      "text/plain": [
       "<Figure size 640x480 with 1 Axes>"
      ]
     },
     "metadata": {},
     "output_type": "display_data"
    }
   ],
   "source": [
    "sns.boxplot(x=df3['Rating'],color='blue',showmeans=True)\n",
    "plt.grid(True)\n",
    "plt.show()"
   ]
  },
  {
   "cell_type": "code",
   "execution_count": 203,
   "metadata": {},
   "outputs": [
    {
     "data": {
      "text/plain": [
       "Rating\n",
       "(0, 1]      20\n",
       "(1, 2]      26\n",
       "(2, 3]     130\n",
       "(3, 4]     786\n",
       "(4, 5]    3791\n",
       "dtype: int64"
      ]
     },
     "execution_count": 203,
     "metadata": {},
     "output_type": "execute_result"
    }
   ],
   "source": [
    "pd.cut(df3.Rating,bins = [0,1,2,3,4,5]).reset_index().groupby(['Rating']).size()"
   ]
  },
  {
   "attachments": {},
   "cell_type": "markdown",
   "metadata": {},
   "source": [
    "#### <font color = red><b>Duration Analysis"
   ]
  },
  {
   "cell_type": "code",
   "execution_count": 204,
   "metadata": {},
   "outputs": [
    {
     "name": "stdout",
     "output_type": "stream",
     "text": [
      "count    4753.000000\n",
      "mean       20.400799\n",
      "std        39.161142\n",
      "min         1.000000\n",
      "25%         5.000000\n",
      "50%         7.000000\n",
      "75%        10.000000\n",
      "max      1182.000000\n",
      "Name: Duration, dtype: float64\n"
     ]
    },
    {
     "data": {
      "image/png": "[encoded data removed]",
      "text/plain": [
       "<Figure size 500x500 with 1 Axes>"
      ]
     },
     "metadata": {},
     "output_type": "display_data"
    }
   ],
   "source": [
    "plt.figure(figsize=(5,5))\n",
    "print(df3['Duration'].describe())\n",
    "plt.grid(True)\n",
    "# Create histogram\n",
    "counts, bins, patches = plt.hist(df3['Duration'],color='deeppink')\n",
    "# Add text labels for each bar\n",
    "plt.bar_label(patches, labels=[str(int(count)) for count in counts])\n",
    "plt.show()"
   ]
  },
  {
   "cell_type": "code",
   "execution_count": 205,
   "metadata": {},
   "outputs": [
    {
     "data": {
      "image/png": "[encoded data removed]",
      "text/plain": [
       "<Figure size 640x480 with 1 Axes>"
      ]
     },
     "metadata": {},
     "output_type": "display_data"
    }
   ],
   "source": [
    "sns.boxplot(x=df3['Duration'],color='deeppink',showmeans=True)\n",
    "plt.grid(True)\n",
    "plt.show()"
   ]
  },
  {
   "attachments": {},
   "cell_type": "markdown",
   "metadata": {},
   "source": [
    "#### <font color = red><B> Price Analysis"
   ]
  },
  {
   "cell_type": "code",
   "execution_count": 206,
   "metadata": {},
   "outputs": [
    {
     "name": "stdout",
     "output_type": "stream",
     "text": [
      "count    4753.000000\n",
      "mean      136.571942\n",
      "std       229.010212\n",
      "min         5.000000\n",
      "25%        46.160000\n",
      "50%        75.000000\n",
      "75%       139.000000\n",
      "max      3665.000000\n",
      "Name: Price, dtype: float64\n"
     ]
    },
    {
     "data": {
      "image/png": "[encoded data removed]",
      "text/plain": [
       "<Figure size 500x500 with 1 Axes>"
      ]
     },
     "metadata": {},
     "output_type": "display_data"
    }
   ],
   "source": [
    "plt.figure(figsize=(5,5))\n",
    "print(df3['Price'].describe())\n",
    "plt.grid(True)\n",
    "# Create histogram\n",
    "counts, bins, patches = plt.hist(df3['Price'],color='deeppink')\n",
    "# Add text labels for each bar\n",
    "plt.bar_label(patches, labels=[str(int(count)) for count in counts])\n",
    "plt.show()"
   ]
  },
  {
   "cell_type": "code",
   "execution_count": 207,
   "metadata": {},
   "outputs": [
    {
     "data": {
      "image/png": "[encoded data removed]",
      "text/plain": [
       "<Figure size 640x480 with 1 Axes>"
      ]
     },
     "metadata": {},
     "output_type": "display_data"
    }
   ],
   "source": [
    "sns.boxplot(x=df3['Price'],color='deeppink',showmeans=True)\n",
    "plt.grid(True)\n",
    "plt.show()"
   ]
  },
  {
   "attachments": {},
   "cell_type": "markdown",
   "metadata": {},
   "source": [
    "## <font color = yellow>10. Feature Relationship"
   ]
  },
  {
   "attachments": {},
   "cell_type": "markdown",
   "metadata": {},
   "source": [
    "#### <font color = red><b> Correlation Coefficient"
   ]
  },
  {
   "cell_type": "code",
   "execution_count": 208,
   "metadata": {},
   "outputs": [
    {
     "name": "stderr",
     "output_type": "stream",
     "text": [
      "C:\\Users\\LH\\AppData\\Local\\Temp\\ipykernel_17916\\463388223.py:1: FutureWarning:\n",
      "\n",
      "The default value of numeric_only in DataFrame.corr is deprecated. In a future version, it will default to False. Select only valid columns or specify the value of numeric_only to silence this warning.\n",
      "\n"
     ]
    },
    {
     "data": {
      "text/html": [
       "<div>\n",
       "<style scoped>\n",
       "    .dataframe tbody tr th:only-of-type {\n",
       "        vertical-align: middle;\n",
       "    }\n",
       "\n",
       "    .dataframe tbody tr th {\n",
       "        vertical-align: top;\n",
       "    }\n",
       "\n",
       "    .dataframe thead th {\n",
       "        text-align: right;\n",
       "    }\n",
       "</style>\n",
       "<table border=\"1\" class=\"dataframe\">\n",
       "  <thead>\n",
       "    <tr style=\"text-align: right;\">\n",
       "      <th></th>\n",
       "      <th>Unnamed: 0.1</th>\n",
       "      <th>Unnamed: 0</th>\n",
       "      <th>Index</th>\n",
       "      <th>Number_of_Reviewer</th>\n",
       "      <th>Rating</th>\n",
       "      <th>Duration</th>\n",
       "      <th>Price</th>\n",
       "    </tr>\n",
       "  </thead>\n",
       "  <tbody>\n",
       "    <tr>\n",
       "      <th>Unnamed: 0.1</th>\n",
       "      <td>1.000000</td>\n",
       "      <td>1.000000</td>\n",
       "      <td>1.000000</td>\n",
       "      <td>-0.076969</td>\n",
       "      <td>0.169314</td>\n",
       "      <td>0.106486</td>\n",
       "      <td>0.045962</td>\n",
       "    </tr>\n",
       "    <tr>\n",
       "      <th>Unnamed: 0</th>\n",
       "      <td>1.000000</td>\n",
       "      <td>1.000000</td>\n",
       "      <td>1.000000</td>\n",
       "      <td>-0.076969</td>\n",
       "      <td>0.169314</td>\n",
       "      <td>0.106486</td>\n",
       "      <td>0.045962</td>\n",
       "    </tr>\n",
       "    <tr>\n",
       "      <th>Index</th>\n",
       "      <td>1.000000</td>\n",
       "      <td>1.000000</td>\n",
       "      <td>1.000000</td>\n",
       "      <td>-0.076969</td>\n",
       "      <td>0.169314</td>\n",
       "      <td>0.106486</td>\n",
       "      <td>0.045962</td>\n",
       "    </tr>\n",
       "    <tr>\n",
       "      <th>Number_of_Reviewer</th>\n",
       "      <td>-0.076969</td>\n",
       "      <td>-0.076969</td>\n",
       "      <td>-0.076969</td>\n",
       "      <td>1.000000</td>\n",
       "      <td>0.093619</td>\n",
       "      <td>-0.033484</td>\n",
       "      <td>-0.048736</td>\n",
       "    </tr>\n",
       "    <tr>\n",
       "      <th>Rating</th>\n",
       "      <td>0.169314</td>\n",
       "      <td>0.169314</td>\n",
       "      <td>0.169314</td>\n",
       "      <td>0.093619</td>\n",
       "      <td>1.000000</td>\n",
       "      <td>0.122728</td>\n",
       "      <td>0.118030</td>\n",
       "    </tr>\n",
       "    <tr>\n",
       "      <th>Duration</th>\n",
       "      <td>0.106486</td>\n",
       "      <td>0.106486</td>\n",
       "      <td>0.106486</td>\n",
       "      <td>-0.033484</td>\n",
       "      <td>0.122728</td>\n",
       "      <td>1.000000</td>\n",
       "      <td>0.609704</td>\n",
       "    </tr>\n",
       "    <tr>\n",
       "      <th>Price</th>\n",
       "      <td>0.045962</td>\n",
       "      <td>0.045962</td>\n",
       "      <td>0.045962</td>\n",
       "      <td>-0.048736</td>\n",
       "      <td>0.118030</td>\n",
       "      <td>0.609704</td>\n",
       "      <td>1.000000</td>\n",
       "    </tr>\n",
       "  </tbody>\n",
       "</table>\n",
       "</div>"
      ],
      "text/plain": [
       "                    Unnamed: 0.1  Unnamed: 0     Index  Number_of_Reviewer  \\\n",
       "Unnamed: 0.1            1.000000    1.000000  1.000000           -0.076969   \n",
       "Unnamed: 0              1.000000    1.000000  1.000000           -0.076969   \n",
       "Index                   1.000000    1.000000  1.000000           -0.076969   \n",
       "Number_of_Reviewer     -0.076969   -0.076969 -0.076969            1.000000   \n",
       "Rating                  0.169314    0.169314  0.169314            0.093619   \n",
       "Duration                0.106486    0.106486  0.106486           -0.033484   \n",
       "Price                   0.045962    0.045962  0.045962           -0.048736   \n",
       "\n",
       "                      Rating  Duration     Price  \n",
       "Unnamed: 0.1        0.169314  0.106486  0.045962  \n",
       "Unnamed: 0          0.169314  0.106486  0.045962  \n",
       "Index               0.169314  0.106486  0.045962  \n",
       "Number_of_Reviewer  0.093619 -0.033484 -0.048736  \n",
       "Rating              1.000000  0.122728  0.118030  \n",
       "Duration            0.122728  1.000000  0.609704  \n",
       "Price               0.118030  0.609704  1.000000  "
      ]
     },
     "execution_count": 208,
     "metadata": {},
     "output_type": "execute_result"
    }
   ],
   "source": [
    "correlation = df3.corr()\n",
    "correlation"
   ]
  },
  {
   "cell_type": "code",
   "execution_count": 209,
   "metadata": {},
   "outputs": [
    {
     "data": {
      "image/png": "[encoded data removed]",
      "text/plain": [
       "<Figure size 800x700 with 2 Axes>"
      ]
     },
     "metadata": {},
     "output_type": "display_data"
    }
   ],
   "source": [
    "f,ax = plt.subplots(figsize=(8,7))\n",
    "sns.heatmap(correlation,annot=True,cmap='coolwarm')\n",
    "plt.show()"
   ]
  },
  {
   "attachments": {},
   "cell_type": "markdown",
   "metadata": {},
   "source": [
    "#### <font color =red><b>Scatter plot (Tour Price vs Duration)"
   ]
  },
  {
   "cell_type": "code",
   "execution_count": 210,
   "metadata": {},
   "outputs": [
    {
     "data": {
      "image/png": "[encoded data removed]",
      "text/plain": [
       "<Figure size 640x480 with 1 Axes>"
      ]
     },
     "metadata": {},
     "output_type": "display_data"
    }
   ],
   "source": [
    "plt.scatter(df3['Duration'], df3['Price'])\n",
    "plt.xlabel('Duration (hours)')\n",
    "plt.ylabel('Price ($)')\n",
    "plt.title('Tour Price vs Duration')\n",
    "\n",
    "plt.xlim([0, 200])\n",
    "plt.ylim([0, 2500])\n",
    "\n",
    "plt.grid(True)\n",
    "plt.show()"
   ]
  },
  {
   "attachments": {},
   "cell_type": "markdown",
   "metadata": {},
   "source": [
    "#### <font color =red><b>Scatter plot (Tour Price vs Rating)"
   ]
  },
  {
   "cell_type": "code",
   "execution_count": 211,
   "metadata": {},
   "outputs": [
    {
     "data": {
      "image/png": "[encoded data removed]",
      "text/plain": [
       "<Figure size 640x480 with 1 Axes>"
      ]
     },
     "metadata": {},
     "output_type": "display_data"
    }
   ],
   "source": [
    "# create a scatter plot of tour price vs duration\n",
    "plt.scatter(df3['Rating'], df3['Price'])\n",
    "plt.xlabel('Rating (star)')\n",
    "plt.ylabel('Price($)')\n",
    "plt.title('Rating vs Price')\n",
    "plt.xlim([0,6]) # set x-axis range from 0 to 10\n",
    "plt.ylim([0, 2500]) # set y-axis range from 0 to 500\n",
    "plt.grid(True)\n",
    "plt.show()"
   ]
  },
  {
   "attachments": {},
   "cell_type": "markdown",
   "metadata": {},
   "source": [
    "#### <font color = red><B>Rating Vs Duration"
   ]
  },
  {
   "cell_type": "code",
   "execution_count": 212,
   "metadata": {},
   "outputs": [
    {
     "data": {
      "image/png": "[encoded data removed]",
      "text/plain": [
       "<Figure size 640x480 with 1 Axes>"
      ]
     },
     "metadata": {},
     "output_type": "display_data"
    }
   ],
   "source": [
    "# create a scatter plot of tour price vs duration\n",
    "plt.scatter(df3['Rating'], df3['Duration'])\n",
    "plt.xlabel('Rating(star)')\n",
    "plt.ylabel('Duration (hours)')\n",
    "plt.title('Rating vs Duration')\n",
    "plt.xlim([0,6]) # set x-axis range from 0 to 10\n",
    "plt.ylim([0, 1500]) # set y-axis range from 0 to 500\n",
    "plt.grid(True)\n",
    "plt.show()"
   ]
  },
  {
   "attachments": {},
   "cell_type": "markdown",
   "metadata": {},
   "source": [
    "#### <font color = red><B>Number of Reviewer Vs Rating"
   ]
  },
  {
   "cell_type": "code",
   "execution_count": 213,
   "metadata": {},
   "outputs": [
    {
     "data": {
      "image/png": "[encoded data removed]",
      "text/plain": [
       "<Figure size 640x480 with 1 Axes>"
      ]
     },
     "metadata": {},
     "output_type": "display_data"
    }
   ],
   "source": [
    "# create a scatter plot of tour price vs duration\n",
    "plt.scatter(df3['Rating'],df3['Number_of_Reviewer'])\n",
    "plt.xlabel('Rating(star)')\n",
    "plt.ylabel('Number of Reviewer')\n",
    "plt.title('Number of Reviewer')\n",
    "plt.xlim([0,6]) # set x-axis range from 0 to 10\n",
    "plt.ylim([0, 2500]) # set y-axis range from 0 to 500\n",
    "plt.grid(True)\n",
    "plt.show()"
   ]
  },
  {
   "attachments": {},
   "cell_type": "markdown",
   "metadata": {},
   "source": [
    "#### <font color = red><B>Tour_Price Vs Number of Reviewer"
   ]
  },
  {
   "cell_type": "code",
   "execution_count": 214,
   "metadata": {},
   "outputs": [
    {
     "data": {
      "text/plain": [
       "count    4753.000000\n",
       "mean      136.571942\n",
       "std       229.010212\n",
       "min         5.000000\n",
       "25%        46.160000\n",
       "50%        75.000000\n",
       "75%       139.000000\n",
       "max      3665.000000\n",
       "Name: Price, dtype: float64"
      ]
     },
     "execution_count": 214,
     "metadata": {},
     "output_type": "execute_result"
    }
   ],
   "source": [
    "df3['Price'].describe()"
   ]
  },
  {
   "cell_type": "code",
   "execution_count": 215,
   "metadata": {},
   "outputs": [
    {
     "data": {
      "image/png": "[encoded data removed]",
      "text/plain": [
       "<Figure size 640x480 with 1 Axes>"
      ]
     },
     "metadata": {},
     "output_type": "display_data"
    }
   ],
   "source": [
    "# create a scatter plot of tour price vs duration\n",
    "plt.scatter(df3['Price'], df3['Number_of_Reviewer'])\n",
    "plt.xlabel('Price($)')\n",
    "plt.ylabel('Number of Reviewer')\n",
    "plt.title('Price Vs Number of Reviewer')\n",
    "plt.xlim([0,4000]) # set x-axis range from 0 to 10\n",
    "plt.ylim([0, 1500]) # set y-axis range from 0 to 500\n",
    "plt.grid(True)\n",
    "plt.show()"
   ]
  },
  {
   "attachments": {},
   "cell_type": "markdown",
   "metadata": {},
   "source": [
    "## <font color = yellow>10. Build a simple logic for recommendations based on popularity"
   ]
  },
  {
   "cell_type": "code",
   "execution_count": 216,
   "metadata": {},
   "outputs": [],
   "source": [
    "def recommend_most_popular(col,col_value,top_n=10):\n",
    "    return df3[df3[col]==col_value].sort_values(by='Rating',ascending = False).head(top_n)[['Tour_Name','Tour_Type','Rating', 'Number_of_Reviewer']]"
   ]
  },
  {
   "cell_type": "code",
   "execution_count": 217,
   "metadata": {},
   "outputs": [
    {
     "data": {
      "text/html": [
       "<div>\n",
       "<style scoped>\n",
       "    .dataframe tbody tr th:only-of-type {\n",
       "        vertical-align: middle;\n",
       "    }\n",
       "\n",
       "    .dataframe tbody tr th {\n",
       "        vertical-align: top;\n",
       "    }\n",
       "\n",
       "    .dataframe thead th {\n",
       "        text-align: right;\n",
       "    }\n",
       "</style>\n",
       "<table border=\"1\" class=\"dataframe\">\n",
       "  <thead>\n",
       "    <tr style=\"text-align: right;\">\n",
       "      <th></th>\n",
       "      <th>Tour_Name</th>\n",
       "      <th>Tour_Type</th>\n",
       "      <th>Rating</th>\n",
       "      <th>Number_of_Reviewer</th>\n",
       "    </tr>\n",
       "  </thead>\n",
       "  <tbody>\n",
       "    <tr>\n",
       "      <th>2591</th>\n",
       "      <td>1-hour Relaxing Traditional Khmer Massage in S...</td>\n",
       "      <td>Health Tours</td>\n",
       "      <td>5.0</td>\n",
       "      <td>1.0</td>\n",
       "    </tr>\n",
       "    <tr>\n",
       "      <th>2597</th>\n",
       "      <td>Swedish Massage - Traditional Massage (60min)</td>\n",
       "      <td>Health Tours</td>\n",
       "      <td>5.0</td>\n",
       "      <td>21.0</td>\n",
       "    </tr>\n",
       "    <tr>\n",
       "      <th>4077</th>\n",
       "      <td>Coconut Nourishing Experience</td>\n",
       "      <td>Health Tours</td>\n",
       "      <td>5.0</td>\n",
       "      <td>7.0</td>\n",
       "    </tr>\n",
       "    <tr>\n",
       "      <th>3580</th>\n",
       "      <td>Lomi-Lomi Massage – Body Massage</td>\n",
       "      <td>Health Tours</td>\n",
       "      <td>5.0</td>\n",
       "      <td>16.0</td>\n",
       "    </tr>\n",
       "    <tr>\n",
       "      <th>3337</th>\n",
       "      <td>Mudita Bliss</td>\n",
       "      <td>Health Tours</td>\n",
       "      <td>5.0</td>\n",
       "      <td>5.0</td>\n",
       "    </tr>\n",
       "    <tr>\n",
       "      <th>3146</th>\n",
       "      <td>Truly Jasmine Pampering</td>\n",
       "      <td>Health Tours</td>\n",
       "      <td>5.0</td>\n",
       "      <td>6.0</td>\n",
       "    </tr>\n",
       "    <tr>\n",
       "      <th>3109</th>\n",
       "      <td>Half-Day Phnom Penh Spa Package Including Roun...</td>\n",
       "      <td>Health Tours</td>\n",
       "      <td>5.0</td>\n",
       "      <td>1.0</td>\n",
       "    </tr>\n",
       "    <tr>\n",
       "      <th>3019</th>\n",
       "      <td>Warm Stone Massage</td>\n",
       "      <td>Health Tours</td>\n",
       "      <td>5.0</td>\n",
       "      <td>7.0</td>\n",
       "    </tr>\n",
       "    <tr>\n",
       "      <th>3011</th>\n",
       "      <td>Relaxing Khmer Massage in Phnom Penh</td>\n",
       "      <td>Health Tours</td>\n",
       "      <td>5.0</td>\n",
       "      <td>10.0</td>\n",
       "    </tr>\n",
       "    <tr>\n",
       "      <th>4601</th>\n",
       "      <td>Jet Leg Release Massage</td>\n",
       "      <td>Health Tours</td>\n",
       "      <td>5.0</td>\n",
       "      <td>1.0</td>\n",
       "    </tr>\n",
       "  </tbody>\n",
       "</table>\n",
       "</div>"
      ],
      "text/plain": [
       "                                              Tour_Name     Tour_Type  Rating  \\\n",
       "2591  1-hour Relaxing Traditional Khmer Massage in S...  Health Tours     5.0   \n",
       "2597      Swedish Massage - Traditional Massage (60min)  Health Tours     5.0   \n",
       "4077                      Coconut Nourishing Experience  Health Tours     5.0   \n",
       "3580                   Lomi-Lomi Massage – Body Massage  Health Tours     5.0   \n",
       "3337                                       Mudita Bliss  Health Tours     5.0   \n",
       "3146                            Truly Jasmine Pampering  Health Tours     5.0   \n",
       "3109  Half-Day Phnom Penh Spa Package Including Roun...  Health Tours     5.0   \n",
       "3019                                 Warm Stone Massage  Health Tours     5.0   \n",
       "3011               Relaxing Khmer Massage in Phnom Penh  Health Tours     5.0   \n",
       "4601                            Jet Leg Release Massage  Health Tours     5.0   \n",
       "\n",
       "      Number_of_Reviewer  \n",
       "2591                 1.0  \n",
       "2597                21.0  \n",
       "4077                 7.0  \n",
       "3580                16.0  \n",
       "3337                 5.0  \n",
       "3146                 6.0  \n",
       "3109                 1.0  \n",
       "3019                 7.0  \n",
       "3011                10.0  \n",
       "4601                 1.0  "
      ]
     },
     "execution_count": 217,
     "metadata": {},
     "output_type": "execute_result"
    }
   ],
   "source": [
    "recommend_most_popular(col='Tour_Type',col_value='Health Tours')"
   ]
  },
  {
   "cell_type": "code",
   "execution_count": 218,
   "metadata": {},
   "outputs": [
    {
     "data": {
      "text/html": [
       "<div>\n",
       "<style scoped>\n",
       "    .dataframe tbody tr th:only-of-type {\n",
       "        vertical-align: middle;\n",
       "    }\n",
       "\n",
       "    .dataframe tbody tr th {\n",
       "        vertical-align: top;\n",
       "    }\n",
       "\n",
       "    .dataframe thead th {\n",
       "        text-align: right;\n",
       "    }\n",
       "</style>\n",
       "<table border=\"1\" class=\"dataframe\">\n",
       "  <thead>\n",
       "    <tr style=\"text-align: right;\">\n",
       "      <th></th>\n",
       "      <th>Tour_Name</th>\n",
       "      <th>Tour_Type</th>\n",
       "      <th>Rating</th>\n",
       "      <th>Number_of_Reviewer</th>\n",
       "    </tr>\n",
       "  </thead>\n",
       "  <tbody>\n",
       "    <tr>\n",
       "      <th>18</th>\n",
       "      <td>Private half day tours in Kampot with local tu...</td>\n",
       "      <td>Half-day Tours</td>\n",
       "      <td>5.0</td>\n",
       "      <td>5.0</td>\n",
       "    </tr>\n",
       "    <tr>\n",
       "      <th>3521</th>\n",
       "      <td>Countryside and Silk Farm Tour by Tuk Tuk</td>\n",
       "      <td>Half-day Tours</td>\n",
       "      <td>5.0</td>\n",
       "      <td>7.6</td>\n",
       "    </tr>\n",
       "    <tr>\n",
       "      <th>3539</th>\n",
       "      <td>Half Day Private Tour: Preah Khan &amp; Neak Pean ...</td>\n",
       "      <td>Half-day Tours</td>\n",
       "      <td>5.0</td>\n",
       "      <td>3.6</td>\n",
       "    </tr>\n",
       "    <tr>\n",
       "      <th>3549</th>\n",
       "      <td>Angkor Thom Half Day Tour</td>\n",
       "      <td>Half-day Tours</td>\n",
       "      <td>5.0</td>\n",
       "      <td>3.8</td>\n",
       "    </tr>\n",
       "    <tr>\n",
       "      <th>3593</th>\n",
       "      <td>Angkor Wat Sunrise Tour</td>\n",
       "      <td>Half-day Tours</td>\n",
       "      <td>5.0</td>\n",
       "      <td>13.0</td>\n",
       "    </tr>\n",
       "    <tr>\n",
       "      <th>3616</th>\n",
       "      <td>Half-Day Livelihood Tour - Battambang City &amp; V...</td>\n",
       "      <td>Half-day Tours</td>\n",
       "      <td>5.0</td>\n",
       "      <td>13.0</td>\n",
       "    </tr>\n",
       "    <tr>\n",
       "      <th>3657</th>\n",
       "      <td>Kampong Khleang - Floating Village on Tonle Sa...</td>\n",
       "      <td>Half-day Tours</td>\n",
       "      <td>5.0</td>\n",
       "      <td>1.8</td>\n",
       "    </tr>\n",
       "    <tr>\n",
       "      <th>3665</th>\n",
       "      <td>Walking City Tour</td>\n",
       "      <td>Half-day Tours</td>\n",
       "      <td>5.0</td>\n",
       "      <td>4.0</td>\n",
       "    </tr>\n",
       "    <tr>\n",
       "      <th>3685</th>\n",
       "      <td>Private Kompong Phluk Floating Village Guided ...</td>\n",
       "      <td>Half-day Tours</td>\n",
       "      <td>5.0</td>\n",
       "      <td>10.0</td>\n",
       "    </tr>\n",
       "    <tr>\n",
       "      <th>3729</th>\n",
       "      <td>Explore Kompong Khleang Floating Village Priva...</td>\n",
       "      <td>Half-day Tours</td>\n",
       "      <td>5.0</td>\n",
       "      <td>8.6</td>\n",
       "    </tr>\n",
       "  </tbody>\n",
       "</table>\n",
       "</div>"
      ],
      "text/plain": [
       "                                              Tour_Name       Tour_Type  \\\n",
       "18    Private half day tours in Kampot with local tu...  Half-day Tours   \n",
       "3521          Countryside and Silk Farm Tour by Tuk Tuk  Half-day Tours   \n",
       "3539  Half Day Private Tour: Preah Khan & Neak Pean ...  Half-day Tours   \n",
       "3549                          Angkor Thom Half Day Tour  Half-day Tours   \n",
       "3593                            Angkor Wat Sunrise Tour  Half-day Tours   \n",
       "3616  Half-Day Livelihood Tour - Battambang City & V...  Half-day Tours   \n",
       "3657  Kampong Khleang - Floating Village on Tonle Sa...  Half-day Tours   \n",
       "3665                                  Walking City Tour  Half-day Tours   \n",
       "3685  Private Kompong Phluk Floating Village Guided ...  Half-day Tours   \n",
       "3729  Explore Kompong Khleang Floating Village Priva...  Half-day Tours   \n",
       "\n",
       "      Rating  Number_of_Reviewer  \n",
       "18       5.0                 5.0  \n",
       "3521     5.0                 7.6  \n",
       "3539     5.0                 3.6  \n",
       "3549     5.0                 3.8  \n",
       "3593     5.0                13.0  \n",
       "3616     5.0                13.0  \n",
       "3657     5.0                 1.8  \n",
       "3665     5.0                 4.0  \n",
       "3685     5.0                10.0  \n",
       "3729     5.0                 8.6  "
      ]
     },
     "execution_count": 218,
     "metadata": {},
     "output_type": "execute_result"
    }
   ],
   "source": [
    "recommend_most_popular(col='Tour_Type',col_value='Half-day Tours')"
   ]
  },
  {
   "cell_type": "code",
   "execution_count": 219,
   "metadata": {},
   "outputs": [
    {
     "data": {
      "text/html": [
       "<div>\n",
       "<style scoped>\n",
       "    .dataframe tbody tr th:only-of-type {\n",
       "        vertical-align: middle;\n",
       "    }\n",
       "\n",
       "    .dataframe tbody tr th {\n",
       "        vertical-align: top;\n",
       "    }\n",
       "\n",
       "    .dataframe thead th {\n",
       "        text-align: right;\n",
       "    }\n",
       "</style>\n",
       "<table border=\"1\" class=\"dataframe\">\n",
       "  <thead>\n",
       "    <tr style=\"text-align: right;\">\n",
       "      <th></th>\n",
       "      <th>Tour_Name</th>\n",
       "      <th>Tour_Type</th>\n",
       "      <th>Rating</th>\n",
       "      <th>Number_of_Reviewer</th>\n",
       "    </tr>\n",
       "  </thead>\n",
       "  <tbody>\n",
       "    <tr>\n",
       "      <th>4750</th>\n",
       "      <td>Most Amazing Angkor Tour</td>\n",
       "      <td>Adventure Tours</td>\n",
       "      <td>5.0</td>\n",
       "      <td>1.0</td>\n",
       "    </tr>\n",
       "    <tr>\n",
       "      <th>3827</th>\n",
       "      <td>Kompong Kleang floating village and Ancient Te...</td>\n",
       "      <td>Adventure Tours</td>\n",
       "      <td>5.0</td>\n",
       "      <td>6.0</td>\n",
       "    </tr>\n",
       "    <tr>\n",
       "      <th>3814</th>\n",
       "      <td>Phnom Penh Outdoor Shooting Range</td>\n",
       "      <td>Adventure Tours</td>\n",
       "      <td>5.0</td>\n",
       "      <td>11.2</td>\n",
       "    </tr>\n",
       "    <tr>\n",
       "      <th>3798</th>\n",
       "      <td>Phnom Kulen Waterfall &amp; Banteay Srei Tour</td>\n",
       "      <td>Adventure Tours</td>\n",
       "      <td>5.0</td>\n",
       "      <td>3.4</td>\n",
       "    </tr>\n",
       "    <tr>\n",
       "      <th>1850</th>\n",
       "      <td>Siem Reap &amp; Phnom Penh Discovery 6 Days 5 Nights</td>\n",
       "      <td>Adventure Tours</td>\n",
       "      <td>5.0</td>\n",
       "      <td>6.2</td>\n",
       "    </tr>\n",
       "    <tr>\n",
       "      <th>3761</th>\n",
       "      <td>Siem Reap to Banteay Meanchey (Banteay Chhmar ...</td>\n",
       "      <td>Adventure Tours</td>\n",
       "      <td>5.0</td>\n",
       "      <td>1.0</td>\n",
       "    </tr>\n",
       "    <tr>\n",
       "      <th>3668</th>\n",
       "      <td>Half-Day World-Class Zipline Eco-Adventure Tou...</td>\n",
       "      <td>Adventure Tours</td>\n",
       "      <td>5.0</td>\n",
       "      <td>2.6</td>\n",
       "    </tr>\n",
       "    <tr>\n",
       "      <th>3662</th>\n",
       "      <td>Peppery on Two Wheels</td>\n",
       "      <td>Adventure Tours</td>\n",
       "      <td>5.0</td>\n",
       "      <td>13.0</td>\n",
       "    </tr>\n",
       "    <tr>\n",
       "      <th>3629</th>\n",
       "      <td>Phnom Penh Extreme Outdoor Shooting Range</td>\n",
       "      <td>Adventure Tours</td>\n",
       "      <td>5.0</td>\n",
       "      <td>7.2</td>\n",
       "    </tr>\n",
       "    <tr>\n",
       "      <th>3621</th>\n",
       "      <td>Angkor Wat 4 Day Tour Package</td>\n",
       "      <td>Adventure Tours</td>\n",
       "      <td>5.0</td>\n",
       "      <td>3.0</td>\n",
       "    </tr>\n",
       "  </tbody>\n",
       "</table>\n",
       "</div>"
      ],
      "text/plain": [
       "                                              Tour_Name        Tour_Type  \\\n",
       "4750                           Most Amazing Angkor Tour  Adventure Tours   \n",
       "3827  Kompong Kleang floating village and Ancient Te...  Adventure Tours   \n",
       "3814                  Phnom Penh Outdoor Shooting Range  Adventure Tours   \n",
       "3798          Phnom Kulen Waterfall & Banteay Srei Tour  Adventure Tours   \n",
       "1850   Siem Reap & Phnom Penh Discovery 6 Days 5 Nights  Adventure Tours   \n",
       "3761  Siem Reap to Banteay Meanchey (Banteay Chhmar ...  Adventure Tours   \n",
       "3668  Half-Day World-Class Zipline Eco-Adventure Tou...  Adventure Tours   \n",
       "3662                              Peppery on Two Wheels  Adventure Tours   \n",
       "3629          Phnom Penh Extreme Outdoor Shooting Range  Adventure Tours   \n",
       "3621                      Angkor Wat 4 Day Tour Package  Adventure Tours   \n",
       "\n",
       "      Rating  Number_of_Reviewer  \n",
       "4750     5.0                 1.0  \n",
       "3827     5.0                 6.0  \n",
       "3814     5.0                11.2  \n",
       "3798     5.0                 3.4  \n",
       "1850     5.0                 6.2  \n",
       "3761     5.0                 1.0  \n",
       "3668     5.0                 2.6  \n",
       "3662     5.0                13.0  \n",
       "3629     5.0                 7.2  \n",
       "3621     5.0                 3.0  "
      ]
     },
     "execution_count": 219,
     "metadata": {},
     "output_type": "execute_result"
    }
   ],
   "source": [
    "recommend_most_popular(col='Tour_Type',col_value='Adventure Tours')"
   ]
  },
  {
   "cell_type": "code",
   "execution_count": 220,
   "metadata": {},
   "outputs": [
    {
     "data": {
      "text/html": [
       "<div>\n",
       "<style scoped>\n",
       "    .dataframe tbody tr th:only-of-type {\n",
       "        vertical-align: middle;\n",
       "    }\n",
       "\n",
       "    .dataframe tbody tr th {\n",
       "        vertical-align: top;\n",
       "    }\n",
       "\n",
       "    .dataframe thead th {\n",
       "        text-align: right;\n",
       "    }\n",
       "</style>\n",
       "<table border=\"1\" class=\"dataframe\">\n",
       "  <thead>\n",
       "    <tr style=\"text-align: right;\">\n",
       "      <th></th>\n",
       "      <th>Tour_Name</th>\n",
       "      <th>Tour_Type</th>\n",
       "      <th>Rating</th>\n",
       "      <th>Number_of_Reviewer</th>\n",
       "    </tr>\n",
       "  </thead>\n",
       "  <tbody>\n",
       "    <tr>\n",
       "      <th>9</th>\n",
       "      <td>Ultimate Siem Reap Food Tour (10 Locals Tastin...</td>\n",
       "      <td>Food Tours</td>\n",
       "      <td>5.0</td>\n",
       "      <td>31.0</td>\n",
       "    </tr>\n",
       "    <tr>\n",
       "      <th>285</th>\n",
       "      <td>Enjoy Authentic Khmer Dinner at Embassy Restau...</td>\n",
       "      <td>Food Tours</td>\n",
       "      <td>5.0</td>\n",
       "      <td>7.0</td>\n",
       "    </tr>\n",
       "    <tr>\n",
       "      <th>605</th>\n",
       "      <td>Lunch with an English-Speaking Local</td>\n",
       "      <td>Food Tours</td>\n",
       "      <td>5.0</td>\n",
       "      <td>6.0</td>\n",
       "    </tr>\n",
       "    <tr>\n",
       "      <th>810</th>\n",
       "      <td>Sunset Dinner at Rice Paddy Fields</td>\n",
       "      <td>Food Tours</td>\n",
       "      <td>5.0</td>\n",
       "      <td>2.0</td>\n",
       "    </tr>\n",
       "    <tr>\n",
       "      <th>1348</th>\n",
       "      <td>Luxury Camping</td>\n",
       "      <td>Food Tours</td>\n",
       "      <td>5.0</td>\n",
       "      <td>1.4</td>\n",
       "    </tr>\n",
       "    <tr>\n",
       "      <th>1365</th>\n",
       "      <td>One Way Transfer: Phnom Penh to Kep/Kampot</td>\n",
       "      <td>Food Tours</td>\n",
       "      <td>5.0</td>\n",
       "      <td>1.0</td>\n",
       "    </tr>\n",
       "    <tr>\n",
       "      <th>229</th>\n",
       "      <td>Siem Reap: Cambodian Street Food Tours</td>\n",
       "      <td>Food Tours</td>\n",
       "      <td>5.0</td>\n",
       "      <td>25.0</td>\n",
       "    </tr>\n",
       "    <tr>\n",
       "      <th>1438</th>\n",
       "      <td>Khmer family food set</td>\n",
       "      <td>Food Tours</td>\n",
       "      <td>4.3</td>\n",
       "      <td>1.4</td>\n",
       "    </tr>\n",
       "    <tr>\n",
       "      <th>2011</th>\n",
       "      <td>Evening Street Food Tour: Out of the centrel C...</td>\n",
       "      <td>Food Tours</td>\n",
       "      <td>4.2</td>\n",
       "      <td>1.6</td>\n",
       "    </tr>\n",
       "    <tr>\n",
       "      <th>850</th>\n",
       "      <td>Rooftop Romantic Dinner - 4 Courses Set Meal &amp;...</td>\n",
       "      <td>Food Tours</td>\n",
       "      <td>4.0</td>\n",
       "      <td>4.0</td>\n",
       "    </tr>\n",
       "  </tbody>\n",
       "</table>\n",
       "</div>"
      ],
      "text/plain": [
       "                                              Tour_Name   Tour_Type  Rating  \\\n",
       "9     Ultimate Siem Reap Food Tour (10 Locals Tastin...  Food Tours     5.0   \n",
       "285   Enjoy Authentic Khmer Dinner at Embassy Restau...  Food Tours     5.0   \n",
       "605                Lunch with an English-Speaking Local  Food Tours     5.0   \n",
       "810                  Sunset Dinner at Rice Paddy Fields  Food Tours     5.0   \n",
       "1348                                     Luxury Camping  Food Tours     5.0   \n",
       "1365         One Way Transfer: Phnom Penh to Kep/Kampot  Food Tours     5.0   \n",
       "229              Siem Reap: Cambodian Street Food Tours  Food Tours     5.0   \n",
       "1438                              Khmer family food set  Food Tours     4.3   \n",
       "2011  Evening Street Food Tour: Out of the centrel C...  Food Tours     4.2   \n",
       "850   Rooftop Romantic Dinner - 4 Courses Set Meal &...  Food Tours     4.0   \n",
       "\n",
       "      Number_of_Reviewer  \n",
       "9                   31.0  \n",
       "285                  7.0  \n",
       "605                  6.0  \n",
       "810                  2.0  \n",
       "1348                 1.4  \n",
       "1365                 1.0  \n",
       "229                 25.0  \n",
       "1438                 1.4  \n",
       "2011                 1.6  \n",
       "850                  4.0  "
      ]
     },
     "execution_count": 220,
     "metadata": {},
     "output_type": "execute_result"
    }
   ],
   "source": [
    "recommend_most_popular(col='Tour_Type',col_value='Food Tours')"
   ]
  },
  {
   "cell_type": "code",
   "execution_count": 221,
   "metadata": {},
   "outputs": [
    {
     "data": {
      "text/html": [
       "<div>\n",
       "<style scoped>\n",
       "    .dataframe tbody tr th:only-of-type {\n",
       "        vertical-align: middle;\n",
       "    }\n",
       "\n",
       "    .dataframe tbody tr th {\n",
       "        vertical-align: top;\n",
       "    }\n",
       "\n",
       "    .dataframe thead th {\n",
       "        text-align: right;\n",
       "    }\n",
       "</style>\n",
       "<table border=\"1\" class=\"dataframe\">\n",
       "  <thead>\n",
       "    <tr style=\"text-align: right;\">\n",
       "      <th></th>\n",
       "      <th>Tour_Name</th>\n",
       "      <th>Tour_Type</th>\n",
       "      <th>Rating</th>\n",
       "      <th>Number_of_Reviewer</th>\n",
       "    </tr>\n",
       "  </thead>\n",
       "  <tbody>\n",
       "    <tr>\n",
       "      <th>2</th>\n",
       "      <td>Koh Ker &amp; Beng Mealea Full-Day Join-in Tour</td>\n",
       "      <td>Full-day Tours</td>\n",
       "      <td>5.0</td>\n",
       "      <td>288.0</td>\n",
       "    </tr>\n",
       "    <tr>\n",
       "      <th>3181</th>\n",
       "      <td>Local Wellness Experience - Cupping, Health Dr...</td>\n",
       "      <td>Full-day Tours</td>\n",
       "      <td>5.0</td>\n",
       "      <td>1.6</td>\n",
       "    </tr>\n",
       "    <tr>\n",
       "      <th>3164</th>\n",
       "      <td>Floating Village, Kompong Khleang &amp; Beng Meale...</td>\n",
       "      <td>Full-day Tours</td>\n",
       "      <td>5.0</td>\n",
       "      <td>2.0</td>\n",
       "    </tr>\n",
       "    <tr>\n",
       "      <th>3162</th>\n",
       "      <td>Grand Tour and Banteay Srei Group Tour</td>\n",
       "      <td>Full-day Tours</td>\n",
       "      <td>5.0</td>\n",
       "      <td>1.0</td>\n",
       "    </tr>\n",
       "    <tr>\n",
       "      <th>3158</th>\n",
       "      <td>Angkor Wat Excursions with Khmer Lunch and Ent...</td>\n",
       "      <td>Full-day Tours</td>\n",
       "      <td>5.0</td>\n",
       "      <td>24.0</td>\n",
       "    </tr>\n",
       "    <tr>\n",
       "      <th>3152</th>\n",
       "      <td>Lara Croft Tomb Raider temple and Angkor Templ...</td>\n",
       "      <td>Full-day Tours</td>\n",
       "      <td>5.0</td>\n",
       "      <td>1.0</td>\n",
       "    </tr>\n",
       "    <tr>\n",
       "      <th>3149</th>\n",
       "      <td>Private Taxi Tour: Full Day in Phnom Penh with...</td>\n",
       "      <td>Full-day Tours</td>\n",
       "      <td>5.0</td>\n",
       "      <td>6.8</td>\n",
       "    </tr>\n",
       "    <tr>\n",
       "      <th>3143</th>\n",
       "      <td>Roluos Group and Sunset Shared Tour</td>\n",
       "      <td>Full-day Tours</td>\n",
       "      <td>5.0</td>\n",
       "      <td>4.0</td>\n",
       "    </tr>\n",
       "    <tr>\n",
       "      <th>3133</th>\n",
       "      <td>Angkor Sunrise Discovery Inclusive Breakfast a...</td>\n",
       "      <td>Full-day Tours</td>\n",
       "      <td>5.0</td>\n",
       "      <td>5.0</td>\n",
       "    </tr>\n",
       "    <tr>\n",
       "      <th>3128</th>\n",
       "      <td>Explore Angkor Wat Temple , Bayon Temple and J...</td>\n",
       "      <td>Full-day Tours</td>\n",
       "      <td>5.0</td>\n",
       "      <td>9.0</td>\n",
       "    </tr>\n",
       "  </tbody>\n",
       "</table>\n",
       "</div>"
      ],
      "text/plain": [
       "                                              Tour_Name       Tour_Type  \\\n",
       "2           Koh Ker & Beng Mealea Full-Day Join-in Tour  Full-day Tours   \n",
       "3181  Local Wellness Experience - Cupping, Health Dr...  Full-day Tours   \n",
       "3164  Floating Village, Kompong Khleang & Beng Meale...  Full-day Tours   \n",
       "3162             Grand Tour and Banteay Srei Group Tour  Full-day Tours   \n",
       "3158  Angkor Wat Excursions with Khmer Lunch and Ent...  Full-day Tours   \n",
       "3152  Lara Croft Tomb Raider temple and Angkor Templ...  Full-day Tours   \n",
       "3149  Private Taxi Tour: Full Day in Phnom Penh with...  Full-day Tours   \n",
       "3143                Roluos Group and Sunset Shared Tour  Full-day Tours   \n",
       "3133  Angkor Sunrise Discovery Inclusive Breakfast a...  Full-day Tours   \n",
       "3128  Explore Angkor Wat Temple , Bayon Temple and J...  Full-day Tours   \n",
       "\n",
       "      Rating  Number_of_Reviewer  \n",
       "2        5.0               288.0  \n",
       "3181     5.0                 1.6  \n",
       "3164     5.0                 2.0  \n",
       "3162     5.0                 1.0  \n",
       "3158     5.0                24.0  \n",
       "3152     5.0                 1.0  \n",
       "3149     5.0                 6.8  \n",
       "3143     5.0                 4.0  \n",
       "3133     5.0                 5.0  \n",
       "3128     5.0                 9.0  "
      ]
     },
     "execution_count": 221,
     "metadata": {},
     "output_type": "execute_result"
    }
   ],
   "source": [
    "recommend_most_popular(col='Tour_Type',col_value='Full-day Tours')"
   ]
  },
  {
   "cell_type": "code",
   "execution_count": 222,
   "metadata": {},
   "outputs": [
    {
     "data": {
      "text/html": [
       "<div>\n",
       "<style scoped>\n",
       "    .dataframe tbody tr th:only-of-type {\n",
       "        vertical-align: middle;\n",
       "    }\n",
       "\n",
       "    .dataframe tbody tr th {\n",
       "        vertical-align: top;\n",
       "    }\n",
       "\n",
       "    .dataframe thead th {\n",
       "        text-align: right;\n",
       "    }\n",
       "</style>\n",
       "<table border=\"1\" class=\"dataframe\">\n",
       "  <thead>\n",
       "    <tr style=\"text-align: right;\">\n",
       "      <th></th>\n",
       "      <th>Tour_Name</th>\n",
       "      <th>Tour_Type</th>\n",
       "      <th>Rating</th>\n",
       "      <th>Number_of_Reviewer</th>\n",
       "    </tr>\n",
       "  </thead>\n",
       "  <tbody>\n",
       "    <tr>\n",
       "      <th>0</th>\n",
       "      <td>Phare: The Cambodian Circus Show in Siem Reap</td>\n",
       "      <td>Comedy Shows</td>\n",
       "      <td>5.0</td>\n",
       "      <td>992.0</td>\n",
       "    </tr>\n",
       "    <tr>\n",
       "      <th>714</th>\n",
       "      <td>The Cambodia Circus, Phare At 19:00 PM</td>\n",
       "      <td>Comedy Shows</td>\n",
       "      <td>5.0</td>\n",
       "      <td>3.0</td>\n",
       "    </tr>\n",
       "    <tr>\n",
       "      <th>2983</th>\n",
       "      <td>The Cambodia Circus, Phare At 19:00 PM</td>\n",
       "      <td>Comedy Shows</td>\n",
       "      <td>5.0</td>\n",
       "      <td>3.0</td>\n",
       "    </tr>\n",
       "  </tbody>\n",
       "</table>\n",
       "</div>"
      ],
      "text/plain": [
       "                                          Tour_Name     Tour_Type  Rating  \\\n",
       "0     Phare: The Cambodian Circus Show in Siem Reap  Comedy Shows     5.0   \n",
       "714          The Cambodia Circus, Phare At 19:00 PM  Comedy Shows     5.0   \n",
       "2983         The Cambodia Circus, Phare At 19:00 PM  Comedy Shows     5.0   \n",
       "\n",
       "      Number_of_Reviewer  \n",
       "0                  992.0  \n",
       "714                  3.0  \n",
       "2983                 3.0  "
      ]
     },
     "execution_count": 222,
     "metadata": {},
     "output_type": "execute_result"
    }
   ],
   "source": [
    "recommend_most_popular(col='Tour_Type',col_value='Comedy Shows')"
   ]
  },
  {
   "attachments": {},
   "cell_type": "markdown",
   "metadata": {},
   "source": [
    "## <font color = yellow>11.Build a Content-based Recommendation System"
   ]
  },
  {
   "cell_type": "code",
   "execution_count": 256,
   "metadata": {},
   "outputs": [
    {
     "ename": "TypeError",
     "evalue": "expected string or bytes-like object",
     "output_type": "error",
     "traceback": [
      "\u001b[1;31m---------------------------------------------------------------------------\u001b[0m",
      "\u001b[1;31mTypeError\u001b[0m                                 Traceback (most recent call last)",
      "Cell \u001b[1;32mIn[256], line 9\u001b[0m\n\u001b[0;32m      7\u001b[0m get_list \u001b[39m=\u001b[39m \u001b[39mlambda\u001b[39;00m a: \u001b[39mlist\u001b[39m(\u001b[39mmap\u001b[39m(rmv_spc, re\u001b[39m.\u001b[39msplit(\u001b[39m'\u001b[39m\u001b[39m&|,|\u001b[39m\u001b[39m\\\u001b[39m\u001b[39m*|n\u001b[39m\u001b[39m'\u001b[39m, a)))\n\u001b[0;32m      8\u001b[0m \u001b[39mfor\u001b[39;00m col \u001b[39min\u001b[39;00m [\u001b[39m'\u001b[39m\u001b[39mTour_Name\u001b[39m\u001b[39m'\u001b[39m, \u001b[39m'\u001b[39m\u001b[39mTour_Type\u001b[39m\u001b[39m'\u001b[39m, \u001b[39m'\u001b[39m\u001b[39mHighlight\u001b[39m\u001b[39m'\u001b[39m]:\n\u001b[1;32m----> 9\u001b[0m     df2[col] \u001b[39m=\u001b[39m df2[col]\u001b[39m.\u001b[39;49mapply(get_list)\n\u001b[0;32m     11\u001b[0m \u001b[39mdef\u001b[39;00m \u001b[39mcleaner\u001b[39m(x):\n\u001b[0;32m     12\u001b[0m     \u001b[39mif\u001b[39;00m \u001b[39misinstance\u001b[39m(x, \u001b[39mlist\u001b[39m):\n",
      "File \u001b[1;32mc:\\Users\\LH\\AppData\\Local\\Programs\\Python\\Python39\\lib\\site-packages\\pandas\\core\\series.py:4774\u001b[0m, in \u001b[0;36mSeries.apply\u001b[1;34m(self, func, convert_dtype, args, **kwargs)\u001b[0m\n\u001b[0;32m   4664\u001b[0m \u001b[39mdef\u001b[39;00m \u001b[39mapply\u001b[39m(\n\u001b[0;32m   4665\u001b[0m     \u001b[39mself\u001b[39m,\n\u001b[0;32m   4666\u001b[0m     func: AggFuncType,\n\u001b[1;32m   (...)\u001b[0m\n\u001b[0;32m   4669\u001b[0m     \u001b[39m*\u001b[39m\u001b[39m*\u001b[39mkwargs,\n\u001b[0;32m   4670\u001b[0m ) \u001b[39m-\u001b[39m\u001b[39m>\u001b[39m DataFrame \u001b[39m|\u001b[39m Series:\n\u001b[0;32m   4671\u001b[0m \u001b[39m    \u001b[39m\u001b[39m\"\"\"\u001b[39;00m\n\u001b[0;32m   4672\u001b[0m \u001b[39m    Invoke function on values of Series.\u001b[39;00m\n\u001b[0;32m   4673\u001b[0m \n\u001b[1;32m   (...)\u001b[0m\n\u001b[0;32m   4772\u001b[0m \u001b[39m    dtype: float64\u001b[39;00m\n\u001b[0;32m   4773\u001b[0m \u001b[39m    \"\"\"\u001b[39;00m\n\u001b[1;32m-> 4774\u001b[0m     \u001b[39mreturn\u001b[39;00m SeriesApply(\u001b[39mself\u001b[39;49m, func, convert_dtype, args, kwargs)\u001b[39m.\u001b[39;49mapply()\n",
      "File \u001b[1;32mc:\\Users\\LH\\AppData\\Local\\Programs\\Python\\Python39\\lib\\site-packages\\pandas\\core\\apply.py:1100\u001b[0m, in \u001b[0;36mSeriesApply.apply\u001b[1;34m(self)\u001b[0m\n\u001b[0;32m   1097\u001b[0m     \u001b[39mreturn\u001b[39;00m \u001b[39mself\u001b[39m\u001b[39m.\u001b[39mapply_str()\n\u001b[0;32m   1099\u001b[0m \u001b[39m# self.f is Callable\u001b[39;00m\n\u001b[1;32m-> 1100\u001b[0m \u001b[39mreturn\u001b[39;00m \u001b[39mself\u001b[39;49m\u001b[39m.\u001b[39;49mapply_standard()\n",
      "File \u001b[1;32mc:\\Users\\LH\\AppData\\Local\\Programs\\Python\\Python39\\lib\\site-packages\\pandas\\core\\apply.py:1151\u001b[0m, in \u001b[0;36mSeriesApply.apply_standard\u001b[1;34m(self)\u001b[0m\n\u001b[0;32m   1149\u001b[0m     \u001b[39melse\u001b[39;00m:\n\u001b[0;32m   1150\u001b[0m         values \u001b[39m=\u001b[39m obj\u001b[39m.\u001b[39mastype(\u001b[39mobject\u001b[39m)\u001b[39m.\u001b[39m_values\n\u001b[1;32m-> 1151\u001b[0m         mapped \u001b[39m=\u001b[39m lib\u001b[39m.\u001b[39;49mmap_infer(\n\u001b[0;32m   1152\u001b[0m             values,\n\u001b[0;32m   1153\u001b[0m             f,\n\u001b[0;32m   1154\u001b[0m             convert\u001b[39m=\u001b[39;49m\u001b[39mself\u001b[39;49m\u001b[39m.\u001b[39;49mconvert_dtype,\n\u001b[0;32m   1155\u001b[0m         )\n\u001b[0;32m   1157\u001b[0m \u001b[39mif\u001b[39;00m \u001b[39mlen\u001b[39m(mapped) \u001b[39mand\u001b[39;00m \u001b[39misinstance\u001b[39m(mapped[\u001b[39m0\u001b[39m], ABCSeries):\n\u001b[0;32m   1158\u001b[0m     \u001b[39m# GH#43986 Need to do list(mapped) in order to get treated as nested\u001b[39;00m\n\u001b[0;32m   1159\u001b[0m     \u001b[39m#  See also GH#25959 regarding EA support\u001b[39;00m\n\u001b[0;32m   1160\u001b[0m     \u001b[39mreturn\u001b[39;00m obj\u001b[39m.\u001b[39m_constructor_expanddim(\u001b[39mlist\u001b[39m(mapped), index\u001b[39m=\u001b[39mobj\u001b[39m.\u001b[39mindex)\n",
      "File \u001b[1;32mc:\\Users\\LH\\AppData\\Local\\Programs\\Python\\Python39\\lib\\site-packages\\pandas\\_libs\\lib.pyx:2919\u001b[0m, in \u001b[0;36mpandas._libs.lib.map_infer\u001b[1;34m()\u001b[0m\n",
      "Cell \u001b[1;32mIn[256], line 7\u001b[0m, in \u001b[0;36m<lambda>\u001b[1;34m(a)\u001b[0m\n\u001b[0;32m      5\u001b[0m df2 \u001b[39m=\u001b[39m df2\u001b[39m.\u001b[39mcopy()\n\u001b[0;32m      6\u001b[0m rmv_spc \u001b[39m=\u001b[39m \u001b[39mlambda\u001b[39;00m a: a\u001b[39m.\u001b[39mstrip()\n\u001b[1;32m----> 7\u001b[0m get_list \u001b[39m=\u001b[39m \u001b[39mlambda\u001b[39;00m a: \u001b[39mlist\u001b[39m(\u001b[39mmap\u001b[39m(rmv_spc, re\u001b[39m.\u001b[39;49msplit(\u001b[39m'\u001b[39;49m\u001b[39m&|,|\u001b[39;49m\u001b[39m\\\u001b[39;49m\u001b[39m*|n\u001b[39;49m\u001b[39m'\u001b[39;49m, a)))\n\u001b[0;32m      8\u001b[0m \u001b[39mfor\u001b[39;00m col \u001b[39min\u001b[39;00m [\u001b[39m'\u001b[39m\u001b[39mTour_Name\u001b[39m\u001b[39m'\u001b[39m, \u001b[39m'\u001b[39m\u001b[39mTour_Type\u001b[39m\u001b[39m'\u001b[39m, \u001b[39m'\u001b[39m\u001b[39mHighlight\u001b[39m\u001b[39m'\u001b[39m]:\n\u001b[0;32m      9\u001b[0m     df2[col] \u001b[39m=\u001b[39m df2[col]\u001b[39m.\u001b[39mapply(get_list)\n",
      "File \u001b[1;32mc:\\Users\\LH\\AppData\\Local\\Programs\\Python\\Python39\\lib\\re.py:231\u001b[0m, in \u001b[0;36msplit\u001b[1;34m(pattern, string, maxsplit, flags)\u001b[0m\n\u001b[0;32m    223\u001b[0m \u001b[39mdef\u001b[39;00m \u001b[39msplit\u001b[39m(pattern, string, maxsplit\u001b[39m=\u001b[39m\u001b[39m0\u001b[39m, flags\u001b[39m=\u001b[39m\u001b[39m0\u001b[39m):\n\u001b[0;32m    224\u001b[0m \u001b[39m    \u001b[39m\u001b[39m\"\"\"Split the source string by the occurrences of the pattern,\u001b[39;00m\n\u001b[0;32m    225\u001b[0m \u001b[39m    returning a list containing the resulting substrings.  If\u001b[39;00m\n\u001b[0;32m    226\u001b[0m \u001b[39m    capturing parentheses are used in pattern, then the text of all\u001b[39;00m\n\u001b[1;32m   (...)\u001b[0m\n\u001b[0;32m    229\u001b[0m \u001b[39m    and the remainder of the string is returned as the final element\u001b[39;00m\n\u001b[0;32m    230\u001b[0m \u001b[39m    of the list.\"\"\"\u001b[39;00m\n\u001b[1;32m--> 231\u001b[0m     \u001b[39mreturn\u001b[39;00m _compile(pattern, flags)\u001b[39m.\u001b[39;49msplit(string, maxsplit)\n",
      "\u001b[1;31mTypeError\u001b[0m: expected string or bytes-like object"
     ]
    }
   ],
   "source": [
    "import re\n",
    "from sklearn.feature_extraction.text import CountVectorizer\n",
    "from sklearn.metrics.pairwise import cosine_similarity\n",
    "\n",
    "df2 = df2.copy()\n",
    "rmv_spc = lambda a: a.strip()\n",
    "get_list = lambda a: list(map(rmv_spc, re.split('&|,|\\*|n', a)))\n",
    "for col in ['Tour_Name', 'Tour_Type', 'Highlight']:\n",
    "    df2[col] = df2[col].apply(get_list)\n",
    "\n",
    "def cleaner(x):\n",
    "    if isinstance(x, list):\n",
    "        return [str.lower(i.replace(\" \", \"\")) for i in x]\n",
    "    else:\n",
    "        if isinstance(x, str):\n",
    "            return str.lower(x.replace(\" \", \"\"))\n",
    "        else:\n",
    "            return ''\n",
    "\n",
    "for col in ['Tour_Name', 'Tour_Type', 'Highlight']:\n",
    "    df2[col] = df2[col].apply(cleaner)\n",
    "\n",
    "def couple(x):\n",
    "    return ' '.join(x['Tour_Name']) + ' ' + ' '.join(x['Tour_Type']) + ' ' + ' '.join(x['Highlight'])\n",
    "\n",
    "df2['product_classification_features'] = df2.apply(couple, axis=1)\n"
   ]
  },
  {
   "cell_type": "code",
   "execution_count": null,
   "metadata": {},
   "outputs": [],
   "source": []
  },
  {
   "cell_type": "code",
   "execution_count": null,
   "metadata": {},
   "outputs": [],
   "source": []
  },
  {
   "cell_type": "code",
   "execution_count": null,
   "metadata": {},
   "outputs": [],
   "source": []
  },
  {
   "cell_type": "code",
   "execution_count": null,
   "metadata": {},
   "outputs": [],
   "source": []
  },
  {
   "cell_type": "code",
   "execution_count": null,
   "metadata": {},
   "outputs": [],
   "source": []
  },
  {
   "cell_type": "code",
   "execution_count": null,
   "metadata": {},
   "outputs": [],
   "source": []
  },
  {
   "cell_type": "code",
   "execution_count": null,
   "metadata": {},
   "outputs": [],
   "source": []
  }
 ],
 "metadata": {
  "kernelspec": {
   "display_name": "Python 3",
   "language": "python",
   "name": "python3"
  },
  "language_info": {
   "codemirror_mode": {
    "name": "ipython",
    "version": 3
   },
   "file_extension": ".py",
   "mimetype": "text/x-python",
   "name": "python",
   "nbconvert_exporter": "python",
   "pygments_lexer": "ipython3",
   "version": "3.9.7"
  },
  "orig_nbformat": 4
 },
 "nbformat": 4,
 "nbformat_minor": 2
}
